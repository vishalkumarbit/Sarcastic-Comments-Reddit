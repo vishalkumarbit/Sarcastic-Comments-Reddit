{
 "cells": [
  {
   "cell_type": "code",
   "execution_count": 2,
   "metadata": {
    "id": "FU5ZvaqW4yw-"
   },
   "outputs": [],
   "source": [
    "# importing libraries\n",
    "import warnings\n",
    "warnings.filterwarnings(\"ignore\")\n",
    "import pickle\n",
    "import seaborn as sns\n",
    "import matplotlib.pyplot as plt\n",
    "import numpy as np\n",
    "import pandas as pd\n",
    "from tqdm import tqdm\n",
    "import datetime\n",
    "from sklearn.model_selection import train_test_split\n",
    "import re\n",
    "import random"
   ]
  },
  {
   "cell_type": "code",
   "execution_count": 1,
   "metadata": {
    "colab": {
     "base_uri": "https://localhost:8080/"
    },
    "id": "3ma3w2LX3Frm",
    "outputId": "859de955-ab13-49aa-efc6-d17eb0164050"
   },
   "outputs": [
    {
     "name": "stdout",
     "output_type": "stream",
     "text": [
      "--2022-06-14 06:17:13--  https://dl.fbaipublicfiles.com/fasttext/vectors-english/crawl-300d-2M.vec.zip\n",
      "Resolving dl.fbaipublicfiles.com (dl.fbaipublicfiles.com)... 104.22.75.142, 172.67.9.4, 104.22.74.142, ...\n",
      "Connecting to dl.fbaipublicfiles.com (dl.fbaipublicfiles.com)|104.22.75.142|:443... connected.\n",
      "HTTP request sent, awaiting response... 200 OK\n",
      "Length: 1523785255 (1.4G) [application/zip]\n",
      "Saving to: ‘crawl-300d-2M.vec.zip’\n",
      "\n",
      "crawl-300d-2M.vec.z 100%[===================>]   1.42G  38.5MB/s    in 47s     \n",
      "\n",
      "2022-06-14 06:18:00 (31.0 MB/s) - ‘crawl-300d-2M.vec.zip’ saved [1523785255/1523785255]\n",
      "\n"
     ]
    }
   ],
   "source": [
    "!wget --header=\"Host: dl.fbaipublicfiles.com\" --header=\"User-Agent: Mozilla/5.0 (Windows NT 10.0; Win64; x64) AppleWebKit/537.36 (KHTML, like Gecko) Chrome/102.0.5005.63 Safari/537.36\" --header=\"Accept: text/html,application/xhtml+xml,application/xml;q=0.9,image/avif,image/webp,image/apng,*/*;q=0.8,application/signed-exchange;v=b3;q=0.9\" --header=\"Accept-Language: en-US,en;q=0.9\" --header=\"Referer: https://fasttext.cc/\" \"https://dl.fbaipublicfiles.com/fasttext/vectors-english/crawl-300d-2M.vec.zip\" -c -O 'crawl-300d-2M.vec.zip'"
   ]
  },
  {
   "cell_type": "code",
   "execution_count": 2,
   "metadata": {
    "colab": {
     "base_uri": "https://localhost:8080/"
    },
    "id": "Hq90kKW93eAh",
    "outputId": "45fa359f-db0f-4249-df88-12fd6f210e5a"
   },
   "outputs": [
    {
     "name": "stdout",
     "output_type": "stream",
     "text": [
      "Archive:  /content/crawl-300d-2M.vec.zip\n",
      "  inflating: crawl-300d-2M.vec       \n"
     ]
    }
   ],
   "source": [
    "!unzip /content/crawl-300d-2M.vec.zip"
   ]
  },
  {
   "cell_type": "code",
   "execution_count": 4,
   "metadata": {
    "colab": {
     "base_uri": "https://localhost:8080/"
    },
    "id": "R_a2o_Sz44eO",
    "outputId": "4ecf5a8e-455c-41da-dd0b-5d0675e20537"
   },
   "outputs": [
    {
     "name": "stdout",
     "output_type": "stream",
     "text": [
      "Mounted at /content/drive\n"
     ]
    }
   ],
   "source": [
    "from google.colab import drive\n",
    "drive.mount('/content/drive')"
   ]
  },
  {
   "cell_type": "code",
   "execution_count": null,
   "metadata": {
    "id": "JJt-huEm4R1Z"
   },
   "outputs": [],
   "source": [
    "!mv /content/crawl-300d-2M.vec /content/drive/MyDrive/"
   ]
  },
  {
   "cell_type": "code",
   "execution_count": 102,
   "metadata": {
    "colab": {
     "base_uri": "https://localhost:8080/",
     "height": 224
    },
    "id": "ix26N6Gm4yxA",
    "outputId": "c536867b-319f-4062-df84-6f3423aedaf3"
   },
   "outputs": [
    {
     "name": "stdout",
     "output_type": "stream",
     "text": [
      "Shape of data is:  (1010826, 10)\n"
     ]
    },
    {
     "data": {
      "text/html": [
       "\n",
       "  <div id=\"df-f13e8cd8-2736-4db3-80fb-946c6b0c328d\">\n",
       "    <div class=\"colab-df-container\">\n",
       "      <div>\n",
       "<style scoped>\n",
       "    .dataframe tbody tr th:only-of-type {\n",
       "        vertical-align: middle;\n",
       "    }\n",
       "\n",
       "    .dataframe tbody tr th {\n",
       "        vertical-align: top;\n",
       "    }\n",
       "\n",
       "    .dataframe thead th {\n",
       "        text-align: right;\n",
       "    }\n",
       "</style>\n",
       "<table border=\"1\" class=\"dataframe\">\n",
       "  <thead>\n",
       "    <tr style=\"text-align: right;\">\n",
       "      <th></th>\n",
       "      <th>label</th>\n",
       "      <th>comment</th>\n",
       "      <th>author</th>\n",
       "      <th>subreddit</th>\n",
       "      <th>score</th>\n",
       "      <th>ups</th>\n",
       "      <th>downs</th>\n",
       "      <th>date</th>\n",
       "      <th>created_utc</th>\n",
       "      <th>parent_comment</th>\n",
       "    </tr>\n",
       "  </thead>\n",
       "  <tbody>\n",
       "    <tr>\n",
       "      <th>0</th>\n",
       "      <td>0</td>\n",
       "      <td>NC and NH.</td>\n",
       "      <td>Trumpbart</td>\n",
       "      <td>politics</td>\n",
       "      <td>2</td>\n",
       "      <td>-1</td>\n",
       "      <td>-1</td>\n",
       "      <td>2016-10</td>\n",
       "      <td>2016-10-16 23:55:23</td>\n",
       "      <td>Yeah, I get that argument. At this point, I'd ...</td>\n",
       "    </tr>\n",
       "    <tr>\n",
       "      <th>1</th>\n",
       "      <td>0</td>\n",
       "      <td>You do know west teams play against west teams...</td>\n",
       "      <td>Shbshb906</td>\n",
       "      <td>nba</td>\n",
       "      <td>-4</td>\n",
       "      <td>-1</td>\n",
       "      <td>-1</td>\n",
       "      <td>2016-11</td>\n",
       "      <td>2016-11-01 00:24:10</td>\n",
       "      <td>The blazers and Mavericks (The wests 5 and 6 s...</td>\n",
       "    </tr>\n",
       "    <tr>\n",
       "      <th>2</th>\n",
       "      <td>0</td>\n",
       "      <td>They were underdogs earlier today, but since G...</td>\n",
       "      <td>Creepeth</td>\n",
       "      <td>nfl</td>\n",
       "      <td>3</td>\n",
       "      <td>3</td>\n",
       "      <td>0</td>\n",
       "      <td>2016-09</td>\n",
       "      <td>2016-09-22 21:45:37</td>\n",
       "      <td>They're favored to win.</td>\n",
       "    </tr>\n",
       "    <tr>\n",
       "      <th>3</th>\n",
       "      <td>0</td>\n",
       "      <td>This meme isn't funny none of the \"new york ni...</td>\n",
       "      <td>icebrotha</td>\n",
       "      <td>BlackPeopleTwitter</td>\n",
       "      <td>-8</td>\n",
       "      <td>-1</td>\n",
       "      <td>-1</td>\n",
       "      <td>2016-10</td>\n",
       "      <td>2016-10-18 21:03:47</td>\n",
       "      <td>deadass don't kill my buzz</td>\n",
       "    </tr>\n",
       "    <tr>\n",
       "      <th>4</th>\n",
       "      <td>0</td>\n",
       "      <td>I could use one of those tools.</td>\n",
       "      <td>cush2push</td>\n",
       "      <td>MaddenUltimateTeam</td>\n",
       "      <td>6</td>\n",
       "      <td>-1</td>\n",
       "      <td>-1</td>\n",
       "      <td>2016-12</td>\n",
       "      <td>2016-12-30 17:00:13</td>\n",
       "      <td>Yep can confirm I saw the tool they use for th...</td>\n",
       "    </tr>\n",
       "  </tbody>\n",
       "</table>\n",
       "</div>\n",
       "      <button class=\"colab-df-convert\" onclick=\"convertToInteractive('df-f13e8cd8-2736-4db3-80fb-946c6b0c328d')\"\n",
       "              title=\"Convert this dataframe to an interactive table.\"\n",
       "              style=\"display:none;\">\n",
       "        \n",
       "  <svg xmlns=\"http://www.w3.org/2000/svg\" height=\"24px\"viewBox=\"0 0 24 24\"\n",
       "       width=\"24px\">\n",
       "    <path d=\"M0 0h24v24H0V0z\" fill=\"none\"/>\n",
       "    <path d=\"M18.56 5.44l.94 2.06.94-2.06 2.06-.94-2.06-.94-.94-2.06-.94 2.06-2.06.94zm-11 1L8.5 8.5l.94-2.06 2.06-.94-2.06-.94L8.5 2.5l-.94 2.06-2.06.94zm10 10l.94 2.06.94-2.06 2.06-.94-2.06-.94-.94-2.06-.94 2.06-2.06.94z\"/><path d=\"M17.41 7.96l-1.37-1.37c-.4-.4-.92-.59-1.43-.59-.52 0-1.04.2-1.43.59L10.3 9.45l-7.72 7.72c-.78.78-.78 2.05 0 2.83L4 21.41c.39.39.9.59 1.41.59.51 0 1.02-.2 1.41-.59l7.78-7.78 2.81-2.81c.8-.78.8-2.07 0-2.86zM5.41 20L4 18.59l7.72-7.72 1.47 1.35L5.41 20z\"/>\n",
       "  </svg>\n",
       "      </button>\n",
       "      \n",
       "  <style>\n",
       "    .colab-df-container {\n",
       "      display:flex;\n",
       "      flex-wrap:wrap;\n",
       "      gap: 12px;\n",
       "    }\n",
       "\n",
       "    .colab-df-convert {\n",
       "      background-color: #E8F0FE;\n",
       "      border: none;\n",
       "      border-radius: 50%;\n",
       "      cursor: pointer;\n",
       "      display: none;\n",
       "      fill: #1967D2;\n",
       "      height: 32px;\n",
       "      padding: 0 0 0 0;\n",
       "      width: 32px;\n",
       "    }\n",
       "\n",
       "    .colab-df-convert:hover {\n",
       "      background-color: #E2EBFA;\n",
       "      box-shadow: 0px 1px 2px rgba(60, 64, 67, 0.3), 0px 1px 3px 1px rgba(60, 64, 67, 0.15);\n",
       "      fill: #174EA6;\n",
       "    }\n",
       "\n",
       "    [theme=dark] .colab-df-convert {\n",
       "      background-color: #3B4455;\n",
       "      fill: #D2E3FC;\n",
       "    }\n",
       "\n",
       "    [theme=dark] .colab-df-convert:hover {\n",
       "      background-color: #434B5C;\n",
       "      box-shadow: 0px 1px 3px 1px rgba(0, 0, 0, 0.15);\n",
       "      filter: drop-shadow(0px 1px 2px rgba(0, 0, 0, 0.3));\n",
       "      fill: #FFFFFF;\n",
       "    }\n",
       "  </style>\n",
       "\n",
       "      <script>\n",
       "        const buttonEl =\n",
       "          document.querySelector('#df-f13e8cd8-2736-4db3-80fb-946c6b0c328d button.colab-df-convert');\n",
       "        buttonEl.style.display =\n",
       "          google.colab.kernel.accessAllowed ? 'block' : 'none';\n",
       "\n",
       "        async function convertToInteractive(key) {\n",
       "          const element = document.querySelector('#df-f13e8cd8-2736-4db3-80fb-946c6b0c328d');\n",
       "          const dataTable =\n",
       "            await google.colab.kernel.invokeFunction('convertToInteractive',\n",
       "                                                     [key], {});\n",
       "          if (!dataTable) return;\n",
       "\n",
       "          const docLinkHtml = 'Like what you see? Visit the ' +\n",
       "            '<a target=\"_blank\" href=https://colab.research.google.com/notebooks/data_table.ipynb>data table notebook</a>'\n",
       "            + ' to learn more about interactive tables.';\n",
       "          element.innerHTML = '';\n",
       "          dataTable['output_type'] = 'display_data';\n",
       "          await google.colab.output.renderOutput(dataTable, element);\n",
       "          const docLink = document.createElement('div');\n",
       "          docLink.innerHTML = docLinkHtml;\n",
       "          element.appendChild(docLink);\n",
       "        }\n",
       "      </script>\n",
       "    </div>\n",
       "  </div>\n",
       "  "
      ],
      "text/plain": [
       "   label                                            comment     author  \\\n",
       "0      0                                         NC and NH.  Trumpbart   \n",
       "1      0  You do know west teams play against west teams...  Shbshb906   \n",
       "2      0  They were underdogs earlier today, but since G...   Creepeth   \n",
       "3      0  This meme isn't funny none of the \"new york ni...  icebrotha   \n",
       "4      0                    I could use one of those tools.  cush2push   \n",
       "\n",
       "            subreddit  score  ups  downs     date          created_utc  \\\n",
       "0            politics      2   -1     -1  2016-10  2016-10-16 23:55:23   \n",
       "1                 nba     -4   -1     -1  2016-11  2016-11-01 00:24:10   \n",
       "2                 nfl      3    3      0  2016-09  2016-09-22 21:45:37   \n",
       "3  BlackPeopleTwitter     -8   -1     -1  2016-10  2016-10-18 21:03:47   \n",
       "4  MaddenUltimateTeam      6   -1     -1  2016-12  2016-12-30 17:00:13   \n",
       "\n",
       "                                      parent_comment  \n",
       "0  Yeah, I get that argument. At this point, I'd ...  \n",
       "1  The blazers and Mavericks (The wests 5 and 6 s...  \n",
       "2                            They're favored to win.  \n",
       "3                         deadass don't kill my buzz  \n",
       "4  Yep can confirm I saw the tool they use for th...  "
      ]
     },
     "execution_count": 102,
     "metadata": {},
     "output_type": "execute_result"
    }
   ],
   "source": [
    "df = pd.read_csv('/content/drive/MyDrive/train-balanced-sarcasm.csv')\n",
    "print('Shape of data is: ', df.shape)\n",
    "df.head()"
   ]
  },
  {
   "cell_type": "code",
   "execution_count": 103,
   "metadata": {
    "id": "SD49ys134yxB"
   },
   "outputs": [],
   "source": [
    "df.dropna(inplace=True)\n",
    "df.drop_duplicates(inplace=True)"
   ]
  },
  {
   "cell_type": "markdown",
   "metadata": {
    "id": "gn9A0pzj4yxC"
   },
   "source": [
    "# Featurization of date and created_utc"
   ]
  },
  {
   "cell_type": "code",
   "execution_count": 104,
   "metadata": {
    "id": "pDscYtDi4yxD"
   },
   "outputs": [],
   "source": [
    "def date_to_numeric(data):\n",
    "    dates = []\n",
    "    for i in data['date']:\n",
    "        i = datetime.datetime.strptime(i,\"%Y-%m\")\n",
    "        i = i.timestamp()\n",
    "        dates.append(i)\n",
    "    data['date'] = dates\n",
    "    return data"
   ]
  },
  {
   "cell_type": "code",
   "execution_count": 105,
   "metadata": {
    "id": "Rls_onAx4yxD"
   },
   "outputs": [],
   "source": [
    "df = date_to_numeric(df)"
   ]
  },
  {
   "cell_type": "code",
   "execution_count": 106,
   "metadata": {
    "id": "sRzL70Kp4yxD"
   },
   "outputs": [],
   "source": [
    "def utc_to_numeric(data):\n",
    "    dates = []\n",
    "    for i in data['created_utc']:\n",
    "        i = datetime.datetime.strptime(i,\"%Y-%m-%d %H:%M:%S\")\n",
    "        i = i.timestamp()\n",
    "        dates.append(i)\n",
    "    data['created_utc'] = dates\n",
    "    return data"
   ]
  },
  {
   "cell_type": "code",
   "execution_count": 107,
   "metadata": {
    "id": "99s9R8jJ4yxE"
   },
   "outputs": [],
   "source": [
    "df = utc_to_numeric(df)"
   ]
  },
  {
   "cell_type": "code",
   "execution_count": 108,
   "metadata": {
    "colab": {
     "base_uri": "https://localhost:8080/",
     "height": 237
    },
    "id": "lwjMmqYf4yxE",
    "outputId": "ae556b83-db65-4999-ad3e-7d884ca0014c"
   },
   "outputs": [
    {
     "data": {
      "text/html": [
       "<style type=\"text/css\">\n",
       "#T_8df96_row0_col0, #T_8df96_row1_col1, #T_8df96_row2_col2, #T_8df96_row3_col3, #T_8df96_row4_col4, #T_8df96_row4_col5, #T_8df96_row5_col4, #T_8df96_row5_col5 {\n",
       "  background-color: #b40426;\n",
       "  color: #f1f1f1;\n",
       "}\n",
       "#T_8df96_row0_col1, #T_8df96_row3_col1, #T_8df96_row3_col4, #T_8df96_row3_col5, #T_8df96_row4_col0, #T_8df96_row4_col2, #T_8df96_row4_col3, #T_8df96_row5_col0, #T_8df96_row5_col2, #T_8df96_row5_col3 {\n",
       "  background-color: #3b4cc0;\n",
       "  color: #f1f1f1;\n",
       "}\n",
       "#T_8df96_row0_col2 {\n",
       "  background-color: #3d50c3;\n",
       "  color: #f1f1f1;\n",
       "}\n",
       "#T_8df96_row0_col3 {\n",
       "  background-color: #abc8fd;\n",
       "  color: #000000;\n",
       "}\n",
       "#T_8df96_row0_col4, #T_8df96_row0_col5 {\n",
       "  background-color: #90b2fe;\n",
       "  color: #000000;\n",
       "}\n",
       "#T_8df96_row1_col0 {\n",
       "  background-color: #485fd1;\n",
       "  color: #f1f1f1;\n",
       "}\n",
       "#T_8df96_row1_col2, #T_8df96_row2_col1 {\n",
       "  background-color: #e36c55;\n",
       "  color: #f1f1f1;\n",
       "}\n",
       "#T_8df96_row1_col3 {\n",
       "  background-color: #9bbcff;\n",
       "  color: #000000;\n",
       "}\n",
       "#T_8df96_row1_col4, #T_8df96_row1_col5 {\n",
       "  background-color: #a2c1ff;\n",
       "  color: #000000;\n",
       "}\n",
       "#T_8df96_row2_col0 {\n",
       "  background-color: #4961d2;\n",
       "  color: #f1f1f1;\n",
       "}\n",
       "#T_8df96_row2_col3 {\n",
       "  background-color: #aec9fc;\n",
       "  color: #000000;\n",
       "}\n",
       "#T_8df96_row2_col4, #T_8df96_row2_col5 {\n",
       "  background-color: #9abbff;\n",
       "  color: #000000;\n",
       "}\n",
       "#T_8df96_row3_col0 {\n",
       "  background-color: #5b7ae5;\n",
       "  color: #f1f1f1;\n",
       "}\n",
       "#T_8df96_row3_col2 {\n",
       "  background-color: #536edd;\n",
       "  color: #f1f1f1;\n",
       "}\n",
       "#T_8df96_row4_col1, #T_8df96_row5_col1 {\n",
       "  background-color: #4358cb;\n",
       "  color: #f1f1f1;\n",
       "}\n",
       "</style>\n",
       "<table id=\"T_8df96_\" class=\"dataframe\">\n",
       "  <thead>\n",
       "    <tr>\n",
       "      <th class=\"blank level0\" >&nbsp;</th>\n",
       "      <th class=\"col_heading level0 col0\" >label</th>\n",
       "      <th class=\"col_heading level0 col1\" >score</th>\n",
       "      <th class=\"col_heading level0 col2\" >ups</th>\n",
       "      <th class=\"col_heading level0 col3\" >downs</th>\n",
       "      <th class=\"col_heading level0 col4\" >date</th>\n",
       "      <th class=\"col_heading level0 col5\" >created_utc</th>\n",
       "    </tr>\n",
       "  </thead>\n",
       "  <tbody>\n",
       "    <tr>\n",
       "      <th id=\"T_8df96_level0_row0\" class=\"row_heading level0 row0\" >label</th>\n",
       "      <td id=\"T_8df96_row0_col0\" class=\"data row0 col0\" >1.0000</td>\n",
       "      <td id=\"T_8df96_row0_col1\" class=\"data row0 col1\" >-0.0100</td>\n",
       "      <td id=\"T_8df96_row0_col2\" class=\"data row0 col2\" >-0.0067</td>\n",
       "      <td id=\"T_8df96_row0_col3\" class=\"data row0 col3\" >0.0575</td>\n",
       "      <td id=\"T_8df96_row0_col4\" class=\"data row0 col4\" >-0.0578</td>\n",
       "      <td id=\"T_8df96_row0_col5\" class=\"data row0 col5\" >-0.0575</td>\n",
       "    </tr>\n",
       "    <tr>\n",
       "      <th id=\"T_8df96_level0_row1\" class=\"row_heading level0 row1\" >score</th>\n",
       "      <td id=\"T_8df96_row1_col0\" class=\"data row1 col0\" >-0.0100</td>\n",
       "      <td id=\"T_8df96_row1_col1\" class=\"data row1 col1\" >1.0000</td>\n",
       "      <td id=\"T_8df96_row1_col2\" class=\"data row1 col2\" >0.8492</td>\n",
       "      <td id=\"T_8df96_row1_col3\" class=\"data row1 col3\" >-0.0139</td>\n",
       "      <td id=\"T_8df96_row1_col4\" class=\"data row1 col4\" >0.0169</td>\n",
       "      <td id=\"T_8df96_row1_col5\" class=\"data row1 col5\" >0.0169</td>\n",
       "    </tr>\n",
       "    <tr>\n",
       "      <th id=\"T_8df96_level0_row2\" class=\"row_heading level0 row2\" >ups</th>\n",
       "      <td id=\"T_8df96_row2_col0\" class=\"data row2 col0\" >-0.0067</td>\n",
       "      <td id=\"T_8df96_row2_col1\" class=\"data row2 col1\" >0.8492</td>\n",
       "      <td id=\"T_8df96_row2_col2\" class=\"data row2 col2\" >1.0000</td>\n",
       "      <td id=\"T_8df96_row2_col3\" class=\"data row2 col3\" >0.0651</td>\n",
       "      <td id=\"T_8df96_row2_col4\" class=\"data row2 col4\" >-0.0150</td>\n",
       "      <td id=\"T_8df96_row2_col5\" class=\"data row2 col5\" >-0.0149</td>\n",
       "    </tr>\n",
       "    <tr>\n",
       "      <th id=\"T_8df96_level0_row3\" class=\"row_heading level0 row3\" >downs</th>\n",
       "      <td id=\"T_8df96_row3_col0\" class=\"data row3 col0\" >0.0575</td>\n",
       "      <td id=\"T_8df96_row3_col1\" class=\"data row3 col1\" >-0.0139</td>\n",
       "      <td id=\"T_8df96_row3_col2\" class=\"data row3 col2\" >0.0651</td>\n",
       "      <td id=\"T_8df96_row3_col3\" class=\"data row3 col3\" >1.0000</td>\n",
       "      <td id=\"T_8df96_row3_col4\" class=\"data row3 col4\" >-0.4262</td>\n",
       "      <td id=\"T_8df96_row3_col5\" class=\"data row3 col5\" >-0.4261</td>\n",
       "    </tr>\n",
       "    <tr>\n",
       "      <th id=\"T_8df96_level0_row4\" class=\"row_heading level0 row4\" >date</th>\n",
       "      <td id=\"T_8df96_row4_col0\" class=\"data row4 col0\" >-0.0578</td>\n",
       "      <td id=\"T_8df96_row4_col1\" class=\"data row4 col1\" >0.0169</td>\n",
       "      <td id=\"T_8df96_row4_col2\" class=\"data row4 col2\" >-0.0150</td>\n",
       "      <td id=\"T_8df96_row4_col3\" class=\"data row4 col3\" >-0.4262</td>\n",
       "      <td id=\"T_8df96_row4_col4\" class=\"data row4 col4\" >1.0000</td>\n",
       "      <td id=\"T_8df96_row4_col5\" class=\"data row4 col5\" >0.9998</td>\n",
       "    </tr>\n",
       "    <tr>\n",
       "      <th id=\"T_8df96_level0_row5\" class=\"row_heading level0 row5\" >created_utc</th>\n",
       "      <td id=\"T_8df96_row5_col0\" class=\"data row5 col0\" >-0.0575</td>\n",
       "      <td id=\"T_8df96_row5_col1\" class=\"data row5 col1\" >0.0169</td>\n",
       "      <td id=\"T_8df96_row5_col2\" class=\"data row5 col2\" >-0.0149</td>\n",
       "      <td id=\"T_8df96_row5_col3\" class=\"data row5 col3\" >-0.4261</td>\n",
       "      <td id=\"T_8df96_row5_col4\" class=\"data row5 col4\" >0.9998</td>\n",
       "      <td id=\"T_8df96_row5_col5\" class=\"data row5 col5\" >1.0000</td>\n",
       "    </tr>\n",
       "  </tbody>\n",
       "</table>\n"
      ],
      "text/plain": [
       "<pandas.io.formats.style.Styler at 0x7fb0cc030650>"
      ]
     },
     "execution_count": 108,
     "metadata": {},
     "output_type": "execute_result"
    }
   ],
   "source": [
    "# https://stackoverflow.com/questions/29432629/plot-correlation-matrix-using-pandas#:~:text=corr%20%3D%20df.corr()-,corr.style.background_gradient(cmap%3D%27coolwarm%27),-%23%20%27RdBu_r%27%2C%20%27BrBG_r%27%2C%20%26%20PuOr_r\n",
    "corr = df.corr()\n",
    "corr.style.background_gradient(cmap='coolwarm').set_precision(4)"
   ]
  },
  {
   "cell_type": "markdown",
   "metadata": {
    "id": "NuZjoPPG4yxE"
   },
   "source": [
    "#### date and created_utc are highly correlated and not very correlated to label. We can remove these features."
   ]
  },
  {
   "cell_type": "code",
   "execution_count": 109,
   "metadata": {
    "id": "b1cgmenV4yxE"
   },
   "outputs": [],
   "source": [
    "df.drop(['date', 'created_utc'], axis=1, inplace=True)"
   ]
  },
  {
   "cell_type": "code",
   "execution_count": 110,
   "metadata": {
    "colab": {
     "base_uri": "https://localhost:8080/",
     "height": 206
    },
    "id": "Neb7hrSs4yxF",
    "outputId": "a4d3b579-794e-45b3-f506-6860a7c5c92e"
   },
   "outputs": [
    {
     "data": {
      "text/html": [
       "\n",
       "  <div id=\"df-2df478f5-d8d8-47a3-9a4a-bf767d093373\">\n",
       "    <div class=\"colab-df-container\">\n",
       "      <div>\n",
       "<style scoped>\n",
       "    .dataframe tbody tr th:only-of-type {\n",
       "        vertical-align: middle;\n",
       "    }\n",
       "\n",
       "    .dataframe tbody tr th {\n",
       "        vertical-align: top;\n",
       "    }\n",
       "\n",
       "    .dataframe thead th {\n",
       "        text-align: right;\n",
       "    }\n",
       "</style>\n",
       "<table border=\"1\" class=\"dataframe\">\n",
       "  <thead>\n",
       "    <tr style=\"text-align: right;\">\n",
       "      <th></th>\n",
       "      <th>label</th>\n",
       "      <th>comment</th>\n",
       "      <th>author</th>\n",
       "      <th>subreddit</th>\n",
       "      <th>score</th>\n",
       "      <th>ups</th>\n",
       "      <th>downs</th>\n",
       "      <th>parent_comment</th>\n",
       "    </tr>\n",
       "  </thead>\n",
       "  <tbody>\n",
       "    <tr>\n",
       "      <th>0</th>\n",
       "      <td>0</td>\n",
       "      <td>NC and NH.</td>\n",
       "      <td>Trumpbart</td>\n",
       "      <td>politics</td>\n",
       "      <td>2</td>\n",
       "      <td>-1</td>\n",
       "      <td>-1</td>\n",
       "      <td>Yeah, I get that argument. At this point, I'd ...</td>\n",
       "    </tr>\n",
       "    <tr>\n",
       "      <th>1</th>\n",
       "      <td>0</td>\n",
       "      <td>You do know west teams play against west teams...</td>\n",
       "      <td>Shbshb906</td>\n",
       "      <td>nba</td>\n",
       "      <td>-4</td>\n",
       "      <td>-1</td>\n",
       "      <td>-1</td>\n",
       "      <td>The blazers and Mavericks (The wests 5 and 6 s...</td>\n",
       "    </tr>\n",
       "    <tr>\n",
       "      <th>2</th>\n",
       "      <td>0</td>\n",
       "      <td>They were underdogs earlier today, but since G...</td>\n",
       "      <td>Creepeth</td>\n",
       "      <td>nfl</td>\n",
       "      <td>3</td>\n",
       "      <td>3</td>\n",
       "      <td>0</td>\n",
       "      <td>They're favored to win.</td>\n",
       "    </tr>\n",
       "    <tr>\n",
       "      <th>3</th>\n",
       "      <td>0</td>\n",
       "      <td>This meme isn't funny none of the \"new york ni...</td>\n",
       "      <td>icebrotha</td>\n",
       "      <td>BlackPeopleTwitter</td>\n",
       "      <td>-8</td>\n",
       "      <td>-1</td>\n",
       "      <td>-1</td>\n",
       "      <td>deadass don't kill my buzz</td>\n",
       "    </tr>\n",
       "    <tr>\n",
       "      <th>4</th>\n",
       "      <td>0</td>\n",
       "      <td>I could use one of those tools.</td>\n",
       "      <td>cush2push</td>\n",
       "      <td>MaddenUltimateTeam</td>\n",
       "      <td>6</td>\n",
       "      <td>-1</td>\n",
       "      <td>-1</td>\n",
       "      <td>Yep can confirm I saw the tool they use for th...</td>\n",
       "    </tr>\n",
       "  </tbody>\n",
       "</table>\n",
       "</div>\n",
       "      <button class=\"colab-df-convert\" onclick=\"convertToInteractive('df-2df478f5-d8d8-47a3-9a4a-bf767d093373')\"\n",
       "              title=\"Convert this dataframe to an interactive table.\"\n",
       "              style=\"display:none;\">\n",
       "        \n",
       "  <svg xmlns=\"http://www.w3.org/2000/svg\" height=\"24px\"viewBox=\"0 0 24 24\"\n",
       "       width=\"24px\">\n",
       "    <path d=\"M0 0h24v24H0V0z\" fill=\"none\"/>\n",
       "    <path d=\"M18.56 5.44l.94 2.06.94-2.06 2.06-.94-2.06-.94-.94-2.06-.94 2.06-2.06.94zm-11 1L8.5 8.5l.94-2.06 2.06-.94-2.06-.94L8.5 2.5l-.94 2.06-2.06.94zm10 10l.94 2.06.94-2.06 2.06-.94-2.06-.94-.94-2.06-.94 2.06-2.06.94z\"/><path d=\"M17.41 7.96l-1.37-1.37c-.4-.4-.92-.59-1.43-.59-.52 0-1.04.2-1.43.59L10.3 9.45l-7.72 7.72c-.78.78-.78 2.05 0 2.83L4 21.41c.39.39.9.59 1.41.59.51 0 1.02-.2 1.41-.59l7.78-7.78 2.81-2.81c.8-.78.8-2.07 0-2.86zM5.41 20L4 18.59l7.72-7.72 1.47 1.35L5.41 20z\"/>\n",
       "  </svg>\n",
       "      </button>\n",
       "      \n",
       "  <style>\n",
       "    .colab-df-container {\n",
       "      display:flex;\n",
       "      flex-wrap:wrap;\n",
       "      gap: 12px;\n",
       "    }\n",
       "\n",
       "    .colab-df-convert {\n",
       "      background-color: #E8F0FE;\n",
       "      border: none;\n",
       "      border-radius: 50%;\n",
       "      cursor: pointer;\n",
       "      display: none;\n",
       "      fill: #1967D2;\n",
       "      height: 32px;\n",
       "      padding: 0 0 0 0;\n",
       "      width: 32px;\n",
       "    }\n",
       "\n",
       "    .colab-df-convert:hover {\n",
       "      background-color: #E2EBFA;\n",
       "      box-shadow: 0px 1px 2px rgba(60, 64, 67, 0.3), 0px 1px 3px 1px rgba(60, 64, 67, 0.15);\n",
       "      fill: #174EA6;\n",
       "    }\n",
       "\n",
       "    [theme=dark] .colab-df-convert {\n",
       "      background-color: #3B4455;\n",
       "      fill: #D2E3FC;\n",
       "    }\n",
       "\n",
       "    [theme=dark] .colab-df-convert:hover {\n",
       "      background-color: #434B5C;\n",
       "      box-shadow: 0px 1px 3px 1px rgba(0, 0, 0, 0.15);\n",
       "      filter: drop-shadow(0px 1px 2px rgba(0, 0, 0, 0.3));\n",
       "      fill: #FFFFFF;\n",
       "    }\n",
       "  </style>\n",
       "\n",
       "      <script>\n",
       "        const buttonEl =\n",
       "          document.querySelector('#df-2df478f5-d8d8-47a3-9a4a-bf767d093373 button.colab-df-convert');\n",
       "        buttonEl.style.display =\n",
       "          google.colab.kernel.accessAllowed ? 'block' : 'none';\n",
       "\n",
       "        async function convertToInteractive(key) {\n",
       "          const element = document.querySelector('#df-2df478f5-d8d8-47a3-9a4a-bf767d093373');\n",
       "          const dataTable =\n",
       "            await google.colab.kernel.invokeFunction('convertToInteractive',\n",
       "                                                     [key], {});\n",
       "          if (!dataTable) return;\n",
       "\n",
       "          const docLinkHtml = 'Like what you see? Visit the ' +\n",
       "            '<a target=\"_blank\" href=https://colab.research.google.com/notebooks/data_table.ipynb>data table notebook</a>'\n",
       "            + ' to learn more about interactive tables.';\n",
       "          element.innerHTML = '';\n",
       "          dataTable['output_type'] = 'display_data';\n",
       "          await google.colab.output.renderOutput(dataTable, element);\n",
       "          const docLink = document.createElement('div');\n",
       "          docLink.innerHTML = docLinkHtml;\n",
       "          element.appendChild(docLink);\n",
       "        }\n",
       "      </script>\n",
       "    </div>\n",
       "  </div>\n",
       "  "
      ],
      "text/plain": [
       "   label                                            comment     author  \\\n",
       "0      0                                         NC and NH.  Trumpbart   \n",
       "1      0  You do know west teams play against west teams...  Shbshb906   \n",
       "2      0  They were underdogs earlier today, but since G...   Creepeth   \n",
       "3      0  This meme isn't funny none of the \"new york ni...  icebrotha   \n",
       "4      0                    I could use one of those tools.  cush2push   \n",
       "\n",
       "            subreddit  score  ups  downs  \\\n",
       "0            politics      2   -1     -1   \n",
       "1                 nba     -4   -1     -1   \n",
       "2                 nfl      3    3      0   \n",
       "3  BlackPeopleTwitter     -8   -1     -1   \n",
       "4  MaddenUltimateTeam      6   -1     -1   \n",
       "\n",
       "                                      parent_comment  \n",
       "0  Yeah, I get that argument. At this point, I'd ...  \n",
       "1  The blazers and Mavericks (The wests 5 and 6 s...  \n",
       "2                            They're favored to win.  \n",
       "3                         deadass don't kill my buzz  \n",
       "4  Yep can confirm I saw the tool they use for th...  "
      ]
     },
     "execution_count": 110,
     "metadata": {},
     "output_type": "execute_result"
    }
   ],
   "source": [
    "df.head()"
   ]
  },
  {
   "cell_type": "markdown",
   "metadata": {
    "id": "Ydb5V0VZ4yxF"
   },
   "source": [
    "# Data cleaning"
   ]
  },
  {
   "cell_type": "markdown",
   "metadata": {
    "id": "0d0C1rvh4yxF"
   },
   "source": [
    "## Cleaning text feature: Comment"
   ]
  },
  {
   "cell_type": "code",
   "execution_count": 111,
   "metadata": {
    "colab": {
     "base_uri": "https://localhost:8080/"
    },
    "id": "kbN3ja7oO7GU",
    "outputId": "a9b13b1c-7d26-4cf1-9d93-e009153847e5"
   },
   "outputs": [
    {
     "name": "stderr",
     "output_type": "stream",
     "text": [
      "[nltk_data] Downloading package stopwords to /root/nltk_data...\n",
      "[nltk_data]   Package stopwords is already up-to-date!\n"
     ]
    },
    {
     "data": {
      "text/plain": [
       "True"
      ]
     },
     "execution_count": 111,
     "metadata": {},
     "output_type": "execute_result"
    }
   ],
   "source": [
    "import nltk\n",
    "nltk.download('stopwords')"
   ]
  },
  {
   "cell_type": "code",
   "execution_count": 112,
   "metadata": {
    "id": "E0_jpRJX4yxF"
   },
   "outputs": [],
   "source": [
    "# https://stackoverflow.com/a/47091490/4084039\n",
    "from nltk.corpus import stopwords\n",
    "stopwords = stopwords.words('english')\n",
    "\n",
    "def decontracted(phrase):\n",
    "    # specific\n",
    "    phrase = re.sub(r\"won't\", \"will not\", phrase)\n",
    "    phrase = re.sub(r\"can\\'t\", \"can not\", phrase)\n",
    "\n",
    "    # general\n",
    "    phrase = re.sub(r\"n\\'t\", \" not\", phrase)\n",
    "    phrase = re.sub(r\"\\'re\", \" are\", phrase)\n",
    "    phrase = re.sub(r\"\\'s\", \" is\", phrase)\n",
    "    phrase = re.sub(r\"\\'d\", \" would\", phrase)\n",
    "    phrase = re.sub(r\"\\'ll\", \" will\", phrase)\n",
    "    phrase = re.sub(r\"\\'t\", \" not\", phrase)\n",
    "    phrase = re.sub(r\"\\'ve\", \" have\", phrase)\n",
    "    phrase = re.sub(r\"\\'m\", \" am\", phrase)\n",
    "    return phrase\n",
    "\n",
    "# https://gist.github.com/sebleier/554280\n",
    "\n",
    "# Remove Emoji\n",
    "def deEmojify(text):\n",
    "    regrex_pattern = re.compile(pattern = \"[\"\n",
    "        u\"\\U0001F600-\\U0001F64F\"  # emoticons\n",
    "        u\"\\U0001F300-\\U0001F5FF\"  # symbols & pictographs\n",
    "        u\"\\U0001F680-\\U0001F6FF\"  # transport & map symbols\n",
    "        u\"\\U0001F1E0-\\U0001F1FF\"  # flags (iOS)\n",
    "                           \"]+\", flags = re.UNICODE)\n",
    "    return regrex_pattern.sub(r'',text)\n",
    "\n",
    "def preprocess_text(text_data):\n",
    "    preprocessed_text = []\n",
    "    # tqdm is for printing the status bar\n",
    "    for sentance in tqdm(text_data):\n",
    "        sent = decontracted(sentance)\n",
    "        sent=deEmojify(sent)\n",
    "        sent = sent.replace('\\\\r', ' ')\n",
    "        sent = sent.replace('\\\\n', ' ')\n",
    "        sent = sent.replace('\\\\\"', ' ')\n",
    "        sent = re.sub('[^A-Za-z0-9]+', ' ', sent)\n",
    "        # https://gist.github.com/sebleier/554280\n",
    "        sent = ' '.join(e for e in sent.split() if e not in stopwords)\n",
    "        preprocessed_text.append(sent.lower().strip())\n",
    "    return preprocessed_text"
   ]
  },
  {
   "cell_type": "code",
   "execution_count": 113,
   "metadata": {
    "colab": {
     "base_uri": "https://localhost:8080/"
    },
    "id": "6eNwjRKX4yxG",
    "outputId": "7bb7bb25-31b0-42cb-ec8b-c17b7d76072a"
   },
   "outputs": [
    {
     "name": "stderr",
     "output_type": "stream",
     "text": [
      "100%|██████████| 1010745/1010745 [00:53<00:00, 18826.83it/s]\n"
     ]
    }
   ],
   "source": [
    "preprocessed_comments = preprocess_text(df['comment'].values)"
   ]
  },
  {
   "cell_type": "code",
   "execution_count": 114,
   "metadata": {
    "id": "6P3rW7qs4yxH"
   },
   "outputs": [],
   "source": [
    "preprocessed_comments = preprocess_text(df['comment'].values)\n",
    "df['preprocessed_comments'] = preprocessed_comments"
   ]
  },
  {
   "cell_type": "code",
   "execution_count": 115,
   "metadata": {
    "colab": {
     "base_uri": "https://localhost:8080/"
    },
    "id": "6oVYKh7g4yxH",
    "outputId": "b185f0c6-4bf3-46ef-d93a-f1817e3a5954"
   },
   "outputs": [
    {
     "name": "stdout",
     "output_type": "stream",
     "text": [
      "I couldn't even breathe for a few seconds after reading this because I was laughing so hard.\n",
      "But... but... from out of the sewers comes... Elo.\n",
      "It's easy to get confused given that there are so many popular Buddhist temples in Malaysia with all the hilltribe kids hanging around.\n",
      "I still don't understand you.\n"
     ]
    }
   ],
   "source": [
    "# printing a few comments\n",
    "print(df['comment'][100])\n",
    "print(df['comment'][1000])\n",
    "print(df['comment'][10000])\n",
    "print(df['comment'][100000])"
   ]
  },
  {
   "cell_type": "code",
   "execution_count": 116,
   "metadata": {
    "colab": {
     "base_uri": "https://localhost:8080/"
    },
    "id": "nq2n2-dG4yxH",
    "outputId": "de5c8823-d13e-403f-f39e-ca01ce6063bf"
   },
   "outputs": [
    {
     "name": "stdout",
     "output_type": "stream",
     "text": [
      "i could even breathe seconds reading i laughing hard\n",
      "but sewers comes elo\n",
      "it easy get confused given many popular buddhist temples malaysia hilltribe kids hanging around\n",
      "i still understand\n"
     ]
    }
   ],
   "source": [
    "# printing a few preprocessed comments\n",
    "print(df['preprocessed_comments'][100])\n",
    "print(df['preprocessed_comments'][1000])\n",
    "print(df['preprocessed_comments'][10000])\n",
    "print(df['preprocessed_comments'][100000])"
   ]
  },
  {
   "cell_type": "markdown",
   "metadata": {
    "id": "AE4aHM5_4yxI"
   },
   "source": [
    "## Cleaning text feature: Parent Comment"
   ]
  },
  {
   "cell_type": "code",
   "execution_count": 117,
   "metadata": {
    "colab": {
     "base_uri": "https://localhost:8080/"
    },
    "id": "X_7u8e7U4yxI",
    "outputId": "a5d38e5d-19bb-423d-87c3-00daa5b6d4c3"
   },
   "outputs": [
    {
     "name": "stderr",
     "output_type": "stream",
     "text": [
      "100%|██████████| 1010745/1010745 [02:25<00:00, 6943.75it/s]\n"
     ]
    }
   ],
   "source": [
    "preprocessed_pcomments = preprocess_text(df['parent_comment'].values)"
   ]
  },
  {
   "cell_type": "code",
   "execution_count": 118,
   "metadata": {
    "id": "ytiQ4HmY4yxI"
   },
   "outputs": [],
   "source": [
    "preprocessed_pcomments = preprocess_text(df['parent_comment'].values)\n",
    "df['preprocessed_pcomments'] = preprocessed_pcomments"
   ]
  },
  {
   "cell_type": "code",
   "execution_count": 119,
   "metadata": {
    "colab": {
     "base_uri": "https://localhost:8080/"
    },
    "id": "jvM5_nCz4yxI",
    "outputId": "d676c264-ee9f-475d-f253-03128012debc"
   },
   "outputs": [
    {
     "name": "stdout",
     "output_type": "stream",
     "text": [
      "How does Yui learn guitar so fast? She can barely breathe without Ui's help.\n",
      "Meta picks in higher ranks grant you a higher chance of winning. Don't pick this twitch jungle when you have olaf/lee free and your team has no tank.\n",
      "Going by OP's comments, he clearly isn't the brightest bulb in the box either. Apparently he originally said that the watch went missing in Malaysia until someone pointed out that Wat Doi Suthep is in Thailand.\n",
      "It can't be both. Either it doesn't matter to the majority who have high pressure jobs or its an invasion that violated fair elections. Either it was nothing or it was something. Either way the source is hillarys campaign as they were corrupt.\n"
     ]
    }
   ],
   "source": [
    "# printing a few parent comments\n",
    "print(df['parent_comment'][100])\n",
    "print(df['parent_comment'][1000])\n",
    "print(df['parent_comment'][10000])\n",
    "print(df['parent_comment'][100000])"
   ]
  },
  {
   "cell_type": "code",
   "execution_count": 120,
   "metadata": {
    "colab": {
     "base_uri": "https://localhost:8080/"
    },
    "id": "orw7x_n-4yxJ",
    "outputId": "0599c361-946d-4b30-a621-61c0ffdf9447"
   },
   "outputs": [
    {
     "name": "stdout",
     "output_type": "stream",
     "text": [
      "how yui learn guitar fast she barely breathe without ui help\n",
      "meta picks higher ranks grant higher chance winning do pick twitch jungle olaf lee free team tank\n",
      "going op comments clearly brightest bulb box either apparently originally said watch went missing malaysia someone pointed wat doi suthep thailand\n",
      "it either matter majority high pressure jobs invasion violated fair elections either nothing something either way source hillarys campaign corrupt\n"
     ]
    }
   ],
   "source": [
    "# printing a few preprocessed parent comments\n",
    "print(df['preprocessed_pcomments'][100])\n",
    "print(df['preprocessed_pcomments'][1000])\n",
    "print(df['preprocessed_pcomments'][10000])\n",
    "print(df['preprocessed_pcomments'][100000])"
   ]
  },
  {
   "cell_type": "code",
   "execution_count": 121,
   "metadata": {
    "id": "fUaW3K2H4yxJ"
   },
   "outputs": [],
   "source": [
    "df.drop(['comment', 'parent_comment'], axis=1, inplace=True)"
   ]
  },
  {
   "cell_type": "code",
   "execution_count": 122,
   "metadata": {
    "colab": {
     "base_uri": "https://localhost:8080/",
     "height": 206
    },
    "id": "TQ15e30a4yxJ",
    "outputId": "bf8e8751-e3b5-4257-8bbe-f2b8abecd490"
   },
   "outputs": [
    {
     "data": {
      "text/html": [
       "\n",
       "  <div id=\"df-3f041abc-eb99-482f-bdcf-ccb55331ae7c\">\n",
       "    <div class=\"colab-df-container\">\n",
       "      <div>\n",
       "<style scoped>\n",
       "    .dataframe tbody tr th:only-of-type {\n",
       "        vertical-align: middle;\n",
       "    }\n",
       "\n",
       "    .dataframe tbody tr th {\n",
       "        vertical-align: top;\n",
       "    }\n",
       "\n",
       "    .dataframe thead th {\n",
       "        text-align: right;\n",
       "    }\n",
       "</style>\n",
       "<table border=\"1\" class=\"dataframe\">\n",
       "  <thead>\n",
       "    <tr style=\"text-align: right;\">\n",
       "      <th></th>\n",
       "      <th>label</th>\n",
       "      <th>author</th>\n",
       "      <th>subreddit</th>\n",
       "      <th>score</th>\n",
       "      <th>ups</th>\n",
       "      <th>downs</th>\n",
       "      <th>preprocessed_comments</th>\n",
       "      <th>preprocessed_pcomments</th>\n",
       "    </tr>\n",
       "  </thead>\n",
       "  <tbody>\n",
       "    <tr>\n",
       "      <th>0</th>\n",
       "      <td>0</td>\n",
       "      <td>Trumpbart</td>\n",
       "      <td>politics</td>\n",
       "      <td>2</td>\n",
       "      <td>-1</td>\n",
       "      <td>-1</td>\n",
       "      <td>nc nh</td>\n",
       "      <td>yeah i get argument at point i would prefer li...</td>\n",
       "    </tr>\n",
       "    <tr>\n",
       "      <th>1</th>\n",
       "      <td>0</td>\n",
       "      <td>Shbshb906</td>\n",
       "      <td>nba</td>\n",
       "      <td>-4</td>\n",
       "      <td>-1</td>\n",
       "      <td>-1</td>\n",
       "      <td>you know west teams play west teams east teams...</td>\n",
       "      <td>the blazers mavericks the wests 5 6 seed even ...</td>\n",
       "    </tr>\n",
       "    <tr>\n",
       "      <th>2</th>\n",
       "      <td>0</td>\n",
       "      <td>Creepeth</td>\n",
       "      <td>nfl</td>\n",
       "      <td>3</td>\n",
       "      <td>3</td>\n",
       "      <td>0</td>\n",
       "      <td>they underdogs earlier today since gronk annou...</td>\n",
       "      <td>they favored win</td>\n",
       "    </tr>\n",
       "    <tr>\n",
       "      <th>3</th>\n",
       "      <td>0</td>\n",
       "      <td>icebrotha</td>\n",
       "      <td>BlackPeopleTwitter</td>\n",
       "      <td>-8</td>\n",
       "      <td>-1</td>\n",
       "      <td>-1</td>\n",
       "      <td>this meme funny none new york nigga ones</td>\n",
       "      <td>deadass kill buzz</td>\n",
       "    </tr>\n",
       "    <tr>\n",
       "      <th>4</th>\n",
       "      <td>0</td>\n",
       "      <td>cush2push</td>\n",
       "      <td>MaddenUltimateTeam</td>\n",
       "      <td>6</td>\n",
       "      <td>-1</td>\n",
       "      <td>-1</td>\n",
       "      <td>i could use one tools</td>\n",
       "      <td>yep confirm i saw tool use it made boy easport...</td>\n",
       "    </tr>\n",
       "  </tbody>\n",
       "</table>\n",
       "</div>\n",
       "      <button class=\"colab-df-convert\" onclick=\"convertToInteractive('df-3f041abc-eb99-482f-bdcf-ccb55331ae7c')\"\n",
       "              title=\"Convert this dataframe to an interactive table.\"\n",
       "              style=\"display:none;\">\n",
       "        \n",
       "  <svg xmlns=\"http://www.w3.org/2000/svg\" height=\"24px\"viewBox=\"0 0 24 24\"\n",
       "       width=\"24px\">\n",
       "    <path d=\"M0 0h24v24H0V0z\" fill=\"none\"/>\n",
       "    <path d=\"M18.56 5.44l.94 2.06.94-2.06 2.06-.94-2.06-.94-.94-2.06-.94 2.06-2.06.94zm-11 1L8.5 8.5l.94-2.06 2.06-.94-2.06-.94L8.5 2.5l-.94 2.06-2.06.94zm10 10l.94 2.06.94-2.06 2.06-.94-2.06-.94-.94-2.06-.94 2.06-2.06.94z\"/><path d=\"M17.41 7.96l-1.37-1.37c-.4-.4-.92-.59-1.43-.59-.52 0-1.04.2-1.43.59L10.3 9.45l-7.72 7.72c-.78.78-.78 2.05 0 2.83L4 21.41c.39.39.9.59 1.41.59.51 0 1.02-.2 1.41-.59l7.78-7.78 2.81-2.81c.8-.78.8-2.07 0-2.86zM5.41 20L4 18.59l7.72-7.72 1.47 1.35L5.41 20z\"/>\n",
       "  </svg>\n",
       "      </button>\n",
       "      \n",
       "  <style>\n",
       "    .colab-df-container {\n",
       "      display:flex;\n",
       "      flex-wrap:wrap;\n",
       "      gap: 12px;\n",
       "    }\n",
       "\n",
       "    .colab-df-convert {\n",
       "      background-color: #E8F0FE;\n",
       "      border: none;\n",
       "      border-radius: 50%;\n",
       "      cursor: pointer;\n",
       "      display: none;\n",
       "      fill: #1967D2;\n",
       "      height: 32px;\n",
       "      padding: 0 0 0 0;\n",
       "      width: 32px;\n",
       "    }\n",
       "\n",
       "    .colab-df-convert:hover {\n",
       "      background-color: #E2EBFA;\n",
       "      box-shadow: 0px 1px 2px rgba(60, 64, 67, 0.3), 0px 1px 3px 1px rgba(60, 64, 67, 0.15);\n",
       "      fill: #174EA6;\n",
       "    }\n",
       "\n",
       "    [theme=dark] .colab-df-convert {\n",
       "      background-color: #3B4455;\n",
       "      fill: #D2E3FC;\n",
       "    }\n",
       "\n",
       "    [theme=dark] .colab-df-convert:hover {\n",
       "      background-color: #434B5C;\n",
       "      box-shadow: 0px 1px 3px 1px rgba(0, 0, 0, 0.15);\n",
       "      filter: drop-shadow(0px 1px 2px rgba(0, 0, 0, 0.3));\n",
       "      fill: #FFFFFF;\n",
       "    }\n",
       "  </style>\n",
       "\n",
       "      <script>\n",
       "        const buttonEl =\n",
       "          document.querySelector('#df-3f041abc-eb99-482f-bdcf-ccb55331ae7c button.colab-df-convert');\n",
       "        buttonEl.style.display =\n",
       "          google.colab.kernel.accessAllowed ? 'block' : 'none';\n",
       "\n",
       "        async function convertToInteractive(key) {\n",
       "          const element = document.querySelector('#df-3f041abc-eb99-482f-bdcf-ccb55331ae7c');\n",
       "          const dataTable =\n",
       "            await google.colab.kernel.invokeFunction('convertToInteractive',\n",
       "                                                     [key], {});\n",
       "          if (!dataTable) return;\n",
       "\n",
       "          const docLinkHtml = 'Like what you see? Visit the ' +\n",
       "            '<a target=\"_blank\" href=https://colab.research.google.com/notebooks/data_table.ipynb>data table notebook</a>'\n",
       "            + ' to learn more about interactive tables.';\n",
       "          element.innerHTML = '';\n",
       "          dataTable['output_type'] = 'display_data';\n",
       "          await google.colab.output.renderOutput(dataTable, element);\n",
       "          const docLink = document.createElement('div');\n",
       "          docLink.innerHTML = docLinkHtml;\n",
       "          element.appendChild(docLink);\n",
       "        }\n",
       "      </script>\n",
       "    </div>\n",
       "  </div>\n",
       "  "
      ],
      "text/plain": [
       "   label     author           subreddit  score  ups  downs  \\\n",
       "0      0  Trumpbart            politics      2   -1     -1   \n",
       "1      0  Shbshb906                 nba     -4   -1     -1   \n",
       "2      0   Creepeth                 nfl      3    3      0   \n",
       "3      0  icebrotha  BlackPeopleTwitter     -8   -1     -1   \n",
       "4      0  cush2push  MaddenUltimateTeam      6   -1     -1   \n",
       "\n",
       "                               preprocessed_comments  \\\n",
       "0                                              nc nh   \n",
       "1  you know west teams play west teams east teams...   \n",
       "2  they underdogs earlier today since gronk annou...   \n",
       "3           this meme funny none new york nigga ones   \n",
       "4                              i could use one tools   \n",
       "\n",
       "                              preprocessed_pcomments  \n",
       "0  yeah i get argument at point i would prefer li...  \n",
       "1  the blazers mavericks the wests 5 6 seed even ...  \n",
       "2                                   they favored win  \n",
       "3                                  deadass kill buzz  \n",
       "4  yep confirm i saw tool use it made boy easport...  "
      ]
     },
     "execution_count": 122,
     "metadata": {},
     "output_type": "execute_result"
    }
   ],
   "source": [
    "df.head()"
   ]
  },
  {
   "cell_type": "code",
   "execution_count": 123,
   "metadata": {
    "colab": {
     "base_uri": "https://localhost:8080/"
    },
    "id": "qEyTmpFO4yxJ",
    "outputId": "0be37146-920e-4e6f-c7bc-0c541ace88c5"
   },
   "outputs": [
    {
     "data": {
      "text/plain": [
       "label                     0\n",
       "author                    0\n",
       "subreddit                 0\n",
       "score                     0\n",
       "ups                       0\n",
       "downs                     0\n",
       "preprocessed_comments     0\n",
       "preprocessed_pcomments    0\n",
       "dtype: int64"
      ]
     },
     "execution_count": 123,
     "metadata": {},
     "output_type": "execute_result"
    }
   ],
   "source": [
    "df.isnull().sum()"
   ]
  },
  {
   "cell_type": "code",
   "execution_count": 124,
   "metadata": {
    "id": "kXnzFqa54yxK"
   },
   "outputs": [],
   "source": [
    "df.dropna(inplace=True)"
   ]
  },
  {
   "cell_type": "code",
   "execution_count": 125,
   "metadata": {
    "colab": {
     "base_uri": "https://localhost:8080/"
    },
    "id": "YQfeLrtd4yxK",
    "outputId": "d6c864c0-cc63-4a75-9b3b-64d592e7e357"
   },
   "outputs": [
    {
     "data": {
      "text/plain": [
       "label                     0\n",
       "author                    0\n",
       "subreddit                 0\n",
       "score                     0\n",
       "ups                       0\n",
       "downs                     0\n",
       "preprocessed_comments     0\n",
       "preprocessed_pcomments    0\n",
       "dtype: int64"
      ]
     },
     "execution_count": 125,
     "metadata": {},
     "output_type": "execute_result"
    }
   ],
   "source": [
    "df.isnull().sum()"
   ]
  },
  {
   "cell_type": "code",
   "execution_count": 126,
   "metadata": {
    "colab": {
     "base_uri": "https://localhost:8080/"
    },
    "id": "Mq2Sk-dc4yxK",
    "outputId": "4251799f-76da-442e-ef19-39af90b4a46d"
   },
   "outputs": [
    {
     "data": {
      "text/plain": [
       "(1010745, 8)"
      ]
     },
     "execution_count": 126,
     "metadata": {},
     "output_type": "execute_result"
    }
   ],
   "source": [
    "df.shape"
   ]
  },
  {
   "cell_type": "markdown",
   "metadata": {
    "id": "sYQAvfUz4yxK"
   },
   "source": [
    "## Cleaning text feature: author"
   ]
  },
  {
   "cell_type": "code",
   "execution_count": 127,
   "metadata": {
    "colab": {
     "base_uri": "https://localhost:8080/"
    },
    "id": "oPtdSr5M4yxK",
    "outputId": "6ac98e44-e74d-4b5c-d972-53144ebf7820"
   },
   "outputs": [
    {
     "name": "stdout",
     "output_type": "stream",
     "text": [
      "ThisIsNotKimJongUn\n",
      "impulsedragon\n",
      "Teikanmi\n",
      "MinisterOf\n",
      "LeMot-Juste\n"
     ]
    }
   ],
   "source": [
    "print(df['author'][10])\n",
    "print(df['author'][100])\n",
    "print(df['author'][1000])\n",
    "print(df['author'][10000])\n",
    "print(df['author'][100000])"
   ]
  },
  {
   "cell_type": "code",
   "execution_count": 128,
   "metadata": {
    "id": "-P2oiqNT4yxK"
   },
   "outputs": [],
   "source": [
    "df['author'] = df['author'].str.replace(' ','')\n",
    "df['author'] = df['author'].str.replace('-','_')\n",
    "df['author'] = df['author'].str.lower()"
   ]
  },
  {
   "cell_type": "code",
   "execution_count": 129,
   "metadata": {
    "colab": {
     "base_uri": "https://localhost:8080/"
    },
    "id": "WeEXgq3j4yxL",
    "outputId": "5a86b3f4-37e7-4d8e-8883-2927649e1660"
   },
   "outputs": [
    {
     "name": "stdout",
     "output_type": "stream",
     "text": [
      "thisisnotkimjongun\n",
      "impulsedragon\n",
      "teikanmi\n",
      "ministerof\n",
      "lemot_juste\n"
     ]
    }
   ],
   "source": [
    "print(df['author'][10])\n",
    "print(df['author'][100])\n",
    "print(df['author'][1000])\n",
    "print(df['author'][10000])\n",
    "print(df['author'][100000])"
   ]
  },
  {
   "cell_type": "markdown",
   "metadata": {
    "id": "BpE9g6GK4yxL"
   },
   "source": [
    "## Cleaning text feature: subreddit"
   ]
  },
  {
   "cell_type": "code",
   "execution_count": 130,
   "metadata": {
    "colab": {
     "base_uri": "https://localhost:8080/"
    },
    "id": "waOqqHky4yxL",
    "outputId": "582de5e4-037b-49b3-cd06-dd3983d57b9f"
   },
   "outputs": [
    {
     "name": "stdout",
     "output_type": "stream",
     "text": [
      "politics\n",
      "anime\n",
      "leagueoflegends\n",
      "Thailand\n",
      "worldnews\n"
     ]
    }
   ],
   "source": [
    "print(df['subreddit'][10])\n",
    "print(df['subreddit'][100])\n",
    "print(df['subreddit'][1000])\n",
    "print(df['subreddit'][10000])\n",
    "print(df['subreddit'][100000])"
   ]
  },
  {
   "cell_type": "code",
   "execution_count": 131,
   "metadata": {
    "id": "vtDHVjsb4yxL"
   },
   "outputs": [],
   "source": [
    "df['subreddit'] = df['subreddit'].str.replace(' ','')\n",
    "df['subreddit'] = df['subreddit'].str.replace('-','_')\n",
    "df['subreddit'] = df['subreddit'].str.lower()"
   ]
  },
  {
   "cell_type": "code",
   "execution_count": 132,
   "metadata": {
    "colab": {
     "base_uri": "https://localhost:8080/"
    },
    "id": "ewALUJm94yxL",
    "outputId": "bb160cbb-0bbd-4ab7-f917-17ca0cd78ae7"
   },
   "outputs": [
    {
     "name": "stdout",
     "output_type": "stream",
     "text": [
      "politics\n",
      "anime\n",
      "leagueoflegends\n",
      "thailand\n",
      "worldnews\n"
     ]
    }
   ],
   "source": [
    "print(df['subreddit'][10])\n",
    "print(df['subreddit'][100])\n",
    "print(df['subreddit'][1000])\n",
    "print(df['subreddit'][10000])\n",
    "print(df['subreddit'][100000])"
   ]
  },
  {
   "cell_type": "code",
   "execution_count": 133,
   "metadata": {
    "colab": {
     "base_uri": "https://localhost:8080/",
     "height": 206
    },
    "id": "xvU9YDEl4yxM",
    "outputId": "cb2f76f9-1e20-4054-a3fa-25c2ef53ed97"
   },
   "outputs": [
    {
     "data": {
      "text/html": [
       "\n",
       "  <div id=\"df-00343e44-4454-4e61-bb24-99eb1c48c544\">\n",
       "    <div class=\"colab-df-container\">\n",
       "      <div>\n",
       "<style scoped>\n",
       "    .dataframe tbody tr th:only-of-type {\n",
       "        vertical-align: middle;\n",
       "    }\n",
       "\n",
       "    .dataframe tbody tr th {\n",
       "        vertical-align: top;\n",
       "    }\n",
       "\n",
       "    .dataframe thead th {\n",
       "        text-align: right;\n",
       "    }\n",
       "</style>\n",
       "<table border=\"1\" class=\"dataframe\">\n",
       "  <thead>\n",
       "    <tr style=\"text-align: right;\">\n",
       "      <th></th>\n",
       "      <th>label</th>\n",
       "      <th>author</th>\n",
       "      <th>subreddit</th>\n",
       "      <th>score</th>\n",
       "      <th>ups</th>\n",
       "      <th>downs</th>\n",
       "      <th>preprocessed_comments</th>\n",
       "      <th>preprocessed_pcomments</th>\n",
       "    </tr>\n",
       "  </thead>\n",
       "  <tbody>\n",
       "    <tr>\n",
       "      <th>0</th>\n",
       "      <td>0</td>\n",
       "      <td>trumpbart</td>\n",
       "      <td>politics</td>\n",
       "      <td>2</td>\n",
       "      <td>-1</td>\n",
       "      <td>-1</td>\n",
       "      <td>nc nh</td>\n",
       "      <td>yeah i get argument at point i would prefer li...</td>\n",
       "    </tr>\n",
       "    <tr>\n",
       "      <th>1</th>\n",
       "      <td>0</td>\n",
       "      <td>shbshb906</td>\n",
       "      <td>nba</td>\n",
       "      <td>-4</td>\n",
       "      <td>-1</td>\n",
       "      <td>-1</td>\n",
       "      <td>you know west teams play west teams east teams...</td>\n",
       "      <td>the blazers mavericks the wests 5 6 seed even ...</td>\n",
       "    </tr>\n",
       "    <tr>\n",
       "      <th>2</th>\n",
       "      <td>0</td>\n",
       "      <td>creepeth</td>\n",
       "      <td>nfl</td>\n",
       "      <td>3</td>\n",
       "      <td>3</td>\n",
       "      <td>0</td>\n",
       "      <td>they underdogs earlier today since gronk annou...</td>\n",
       "      <td>they favored win</td>\n",
       "    </tr>\n",
       "    <tr>\n",
       "      <th>3</th>\n",
       "      <td>0</td>\n",
       "      <td>icebrotha</td>\n",
       "      <td>blackpeopletwitter</td>\n",
       "      <td>-8</td>\n",
       "      <td>-1</td>\n",
       "      <td>-1</td>\n",
       "      <td>this meme funny none new york nigga ones</td>\n",
       "      <td>deadass kill buzz</td>\n",
       "    </tr>\n",
       "    <tr>\n",
       "      <th>4</th>\n",
       "      <td>0</td>\n",
       "      <td>cush2push</td>\n",
       "      <td>maddenultimateteam</td>\n",
       "      <td>6</td>\n",
       "      <td>-1</td>\n",
       "      <td>-1</td>\n",
       "      <td>i could use one tools</td>\n",
       "      <td>yep confirm i saw tool use it made boy easport...</td>\n",
       "    </tr>\n",
       "  </tbody>\n",
       "</table>\n",
       "</div>\n",
       "      <button class=\"colab-df-convert\" onclick=\"convertToInteractive('df-00343e44-4454-4e61-bb24-99eb1c48c544')\"\n",
       "              title=\"Convert this dataframe to an interactive table.\"\n",
       "              style=\"display:none;\">\n",
       "        \n",
       "  <svg xmlns=\"http://www.w3.org/2000/svg\" height=\"24px\"viewBox=\"0 0 24 24\"\n",
       "       width=\"24px\">\n",
       "    <path d=\"M0 0h24v24H0V0z\" fill=\"none\"/>\n",
       "    <path d=\"M18.56 5.44l.94 2.06.94-2.06 2.06-.94-2.06-.94-.94-2.06-.94 2.06-2.06.94zm-11 1L8.5 8.5l.94-2.06 2.06-.94-2.06-.94L8.5 2.5l-.94 2.06-2.06.94zm10 10l.94 2.06.94-2.06 2.06-.94-2.06-.94-.94-2.06-.94 2.06-2.06.94z\"/><path d=\"M17.41 7.96l-1.37-1.37c-.4-.4-.92-.59-1.43-.59-.52 0-1.04.2-1.43.59L10.3 9.45l-7.72 7.72c-.78.78-.78 2.05 0 2.83L4 21.41c.39.39.9.59 1.41.59.51 0 1.02-.2 1.41-.59l7.78-7.78 2.81-2.81c.8-.78.8-2.07 0-2.86zM5.41 20L4 18.59l7.72-7.72 1.47 1.35L5.41 20z\"/>\n",
       "  </svg>\n",
       "      </button>\n",
       "      \n",
       "  <style>\n",
       "    .colab-df-container {\n",
       "      display:flex;\n",
       "      flex-wrap:wrap;\n",
       "      gap: 12px;\n",
       "    }\n",
       "\n",
       "    .colab-df-convert {\n",
       "      background-color: #E8F0FE;\n",
       "      border: none;\n",
       "      border-radius: 50%;\n",
       "      cursor: pointer;\n",
       "      display: none;\n",
       "      fill: #1967D2;\n",
       "      height: 32px;\n",
       "      padding: 0 0 0 0;\n",
       "      width: 32px;\n",
       "    }\n",
       "\n",
       "    .colab-df-convert:hover {\n",
       "      background-color: #E2EBFA;\n",
       "      box-shadow: 0px 1px 2px rgba(60, 64, 67, 0.3), 0px 1px 3px 1px rgba(60, 64, 67, 0.15);\n",
       "      fill: #174EA6;\n",
       "    }\n",
       "\n",
       "    [theme=dark] .colab-df-convert {\n",
       "      background-color: #3B4455;\n",
       "      fill: #D2E3FC;\n",
       "    }\n",
       "\n",
       "    [theme=dark] .colab-df-convert:hover {\n",
       "      background-color: #434B5C;\n",
       "      box-shadow: 0px 1px 3px 1px rgba(0, 0, 0, 0.15);\n",
       "      filter: drop-shadow(0px 1px 2px rgba(0, 0, 0, 0.3));\n",
       "      fill: #FFFFFF;\n",
       "    }\n",
       "  </style>\n",
       "\n",
       "      <script>\n",
       "        const buttonEl =\n",
       "          document.querySelector('#df-00343e44-4454-4e61-bb24-99eb1c48c544 button.colab-df-convert');\n",
       "        buttonEl.style.display =\n",
       "          google.colab.kernel.accessAllowed ? 'block' : 'none';\n",
       "\n",
       "        async function convertToInteractive(key) {\n",
       "          const element = document.querySelector('#df-00343e44-4454-4e61-bb24-99eb1c48c544');\n",
       "          const dataTable =\n",
       "            await google.colab.kernel.invokeFunction('convertToInteractive',\n",
       "                                                     [key], {});\n",
       "          if (!dataTable) return;\n",
       "\n",
       "          const docLinkHtml = 'Like what you see? Visit the ' +\n",
       "            '<a target=\"_blank\" href=https://colab.research.google.com/notebooks/data_table.ipynb>data table notebook</a>'\n",
       "            + ' to learn more about interactive tables.';\n",
       "          element.innerHTML = '';\n",
       "          dataTable['output_type'] = 'display_data';\n",
       "          await google.colab.output.renderOutput(dataTable, element);\n",
       "          const docLink = document.createElement('div');\n",
       "          docLink.innerHTML = docLinkHtml;\n",
       "          element.appendChild(docLink);\n",
       "        }\n",
       "      </script>\n",
       "    </div>\n",
       "  </div>\n",
       "  "
      ],
      "text/plain": [
       "   label     author           subreddit  score  ups  downs  \\\n",
       "0      0  trumpbart            politics      2   -1     -1   \n",
       "1      0  shbshb906                 nba     -4   -1     -1   \n",
       "2      0   creepeth                 nfl      3    3      0   \n",
       "3      0  icebrotha  blackpeopletwitter     -8   -1     -1   \n",
       "4      0  cush2push  maddenultimateteam      6   -1     -1   \n",
       "\n",
       "                               preprocessed_comments  \\\n",
       "0                                              nc nh   \n",
       "1  you know west teams play west teams east teams...   \n",
       "2  they underdogs earlier today since gronk annou...   \n",
       "3           this meme funny none new york nigga ones   \n",
       "4                              i could use one tools   \n",
       "\n",
       "                              preprocessed_pcomments  \n",
       "0  yeah i get argument at point i would prefer li...  \n",
       "1  the blazers mavericks the wests 5 6 seed even ...  \n",
       "2                                   they favored win  \n",
       "3                                  deadass kill buzz  \n",
       "4  yep confirm i saw tool use it made boy easport...  "
      ]
     },
     "execution_count": 133,
     "metadata": {},
     "output_type": "execute_result"
    }
   ],
   "source": [
    "df.head()"
   ]
  },
  {
   "cell_type": "markdown",
   "metadata": {
    "id": "AyvFQlIK4yxM"
   },
   "source": [
    "# Featurization"
   ]
  },
  {
   "cell_type": "markdown",
   "metadata": {
    "id": "zZ-7tOZ54yxM"
   },
   "source": [
    "## 1. Sentiment intensity"
   ]
  },
  {
   "cell_type": "code",
   "execution_count": 134,
   "metadata": {
    "colab": {
     "base_uri": "https://localhost:8080/"
    },
    "id": "YTykqXM9Qql8",
    "outputId": "023767da-4c03-44cc-e13a-6c0e526fee44"
   },
   "outputs": [
    {
     "name": "stderr",
     "output_type": "stream",
     "text": [
      "[nltk_data] Downloading package vader_lexicon to /root/nltk_data...\n",
      "[nltk_data]   Package vader_lexicon is already up-to-date!\n"
     ]
    },
    {
     "data": {
      "text/plain": [
       "True"
      ]
     },
     "execution_count": 134,
     "metadata": {},
     "output_type": "execute_result"
    }
   ],
   "source": [
    "import nltk\n",
    "nltk.download('vader_lexicon')"
   ]
  },
  {
   "cell_type": "code",
   "execution_count": 135,
   "metadata": {
    "colab": {
     "base_uri": "https://localhost:8080/"
    },
    "id": "JRt93nCQ4yxM",
    "outputId": "7823af99-4af2-48e6-f4da-54509fe74107"
   },
   "outputs": [
    {
     "name": "stderr",
     "output_type": "stream",
     "text": [
      "100%|██████████| 1010745/1010745 [02:01<00:00, 8344.87it/s]\n"
     ]
    }
   ],
   "source": [
    "import nltk\n",
    "from nltk.sentiment.vader import SentimentIntensityAnalyzer\n",
    "\n",
    "# Creating sentiment intensities on comment features\n",
    "neg_comment = []\n",
    "neu_comment = []\n",
    "pos_comment = []\n",
    "comp_comment = []\n",
    "\n",
    "sid = SentimentIntensityAnalyzer()\n",
    "\n",
    "for sentence in tqdm(df['preprocessed_comments']):\n",
    "    ss = sid.polarity_scores(sentence)\n",
    "    neg_comment.append(ss['neg'])\n",
    "    neu_comment.append(ss['neu'])\n",
    "    pos_comment.append(ss['pos'])\n",
    "    comp_comment.append(ss['compound'])\n",
    "\n",
    "df['Neg_comment'] = neg_comment\n",
    "df['Neu_comment'] = neu_comment\n",
    "df['Pos_comment'] = pos_comment\n",
    "df['Compound_comment'] = comp_comment"
   ]
  },
  {
   "cell_type": "code",
   "execution_count": 136,
   "metadata": {
    "colab": {
     "base_uri": "https://localhost:8080/"
    },
    "id": "26BKvbO34yxM",
    "outputId": "a4437166-47d4-4b68-ad68-bc2835662e42"
   },
   "outputs": [
    {
     "name": "stderr",
     "output_type": "stream",
     "text": [
      "100%|██████████| 1010745/1010745 [04:00<00:00, 4210.41it/s]\n"
     ]
    }
   ],
   "source": [
    "# Creating sentiment intensities on parent comment features\n",
    "neg_pcomment = []\n",
    "neu_pcomment = []\n",
    "pos_pcomment = []\n",
    "comp_pcomment = []\n",
    "\n",
    "sid = SentimentIntensityAnalyzer()\n",
    "\n",
    "for sentence in tqdm(df['preprocessed_pcomments']):\n",
    "    ss = sid.polarity_scores(sentence)\n",
    "    neg_pcomment.append(ss['neg'])\n",
    "    neu_pcomment.append(ss['neu'])\n",
    "    pos_pcomment.append(ss['pos'])\n",
    "    comp_pcomment.append(ss['compound'])\n",
    "\n",
    "df['Neg_pcomment'] = neg_pcomment\n",
    "df['Neu_pcomment'] = neu_pcomment\n",
    "df['Pos_pcomment'] = pos_pcomment\n",
    "df['Compound_pcomment'] = comp_pcomment"
   ]
  },
  {
   "cell_type": "code",
   "execution_count": 137,
   "metadata": {
    "colab": {
     "base_uri": "https://localhost:8080/",
     "height": 392
    },
    "id": "u0TU1R0L4yxM",
    "outputId": "266fc761-01cc-484e-dc34-eabd978c56a8"
   },
   "outputs": [
    {
     "data": {
      "text/html": [
       "\n",
       "  <div id=\"df-a875dce8-d75a-4fc8-bbb0-d4a234bb697c\">\n",
       "    <div class=\"colab-df-container\">\n",
       "      <div>\n",
       "<style scoped>\n",
       "    .dataframe tbody tr th:only-of-type {\n",
       "        vertical-align: middle;\n",
       "    }\n",
       "\n",
       "    .dataframe tbody tr th {\n",
       "        vertical-align: top;\n",
       "    }\n",
       "\n",
       "    .dataframe thead th {\n",
       "        text-align: right;\n",
       "    }\n",
       "</style>\n",
       "<table border=\"1\" class=\"dataframe\">\n",
       "  <thead>\n",
       "    <tr style=\"text-align: right;\">\n",
       "      <th></th>\n",
       "      <th>label</th>\n",
       "      <th>author</th>\n",
       "      <th>subreddit</th>\n",
       "      <th>score</th>\n",
       "      <th>ups</th>\n",
       "      <th>downs</th>\n",
       "      <th>preprocessed_comments</th>\n",
       "      <th>preprocessed_pcomments</th>\n",
       "      <th>Neg_comment</th>\n",
       "      <th>Neu_comment</th>\n",
       "      <th>Pos_comment</th>\n",
       "      <th>Compound_comment</th>\n",
       "      <th>Neg_pcomment</th>\n",
       "      <th>Neu_pcomment</th>\n",
       "      <th>Pos_pcomment</th>\n",
       "      <th>Compound_pcomment</th>\n",
       "    </tr>\n",
       "  </thead>\n",
       "  <tbody>\n",
       "    <tr>\n",
       "      <th>0</th>\n",
       "      <td>0</td>\n",
       "      <td>trumpbart</td>\n",
       "      <td>politics</td>\n",
       "      <td>2</td>\n",
       "      <td>-1</td>\n",
       "      <td>-1</td>\n",
       "      <td>nc nh</td>\n",
       "      <td>yeah i get argument at point i would prefer li...</td>\n",
       "      <td>0.0</td>\n",
       "      <td>0.238</td>\n",
       "      <td>0.762</td>\n",
       "      <td>0.4939</td>\n",
       "      <td>0.181</td>\n",
       "      <td>0.507</td>\n",
       "      <td>0.312</td>\n",
       "      <td>0.2023</td>\n",
       "    </tr>\n",
       "    <tr>\n",
       "      <th>1</th>\n",
       "      <td>0</td>\n",
       "      <td>shbshb906</td>\n",
       "      <td>nba</td>\n",
       "      <td>-4</td>\n",
       "      <td>-1</td>\n",
       "      <td>-1</td>\n",
       "      <td>you know west teams play west teams east teams...</td>\n",
       "      <td>the blazers mavericks the wests 5 6 seed even ...</td>\n",
       "      <td>0.0</td>\n",
       "      <td>0.789</td>\n",
       "      <td>0.211</td>\n",
       "      <td>0.3400</td>\n",
       "      <td>0.000</td>\n",
       "      <td>0.838</td>\n",
       "      <td>0.162</td>\n",
       "      <td>0.4404</td>\n",
       "    </tr>\n",
       "    <tr>\n",
       "      <th>2</th>\n",
       "      <td>0</td>\n",
       "      <td>creepeth</td>\n",
       "      <td>nfl</td>\n",
       "      <td>3</td>\n",
       "      <td>3</td>\n",
       "      <td>0</td>\n",
       "      <td>they underdogs earlier today since gronk annou...</td>\n",
       "      <td>they favored win</td>\n",
       "      <td>0.0</td>\n",
       "      <td>1.000</td>\n",
       "      <td>0.000</td>\n",
       "      <td>0.0000</td>\n",
       "      <td>0.000</td>\n",
       "      <td>0.132</td>\n",
       "      <td>0.868</td>\n",
       "      <td>0.7650</td>\n",
       "    </tr>\n",
       "    <tr>\n",
       "      <th>3</th>\n",
       "      <td>0</td>\n",
       "      <td>icebrotha</td>\n",
       "      <td>blackpeopletwitter</td>\n",
       "      <td>-8</td>\n",
       "      <td>-1</td>\n",
       "      <td>-1</td>\n",
       "      <td>this meme funny none new york nigga ones</td>\n",
       "      <td>deadass kill buzz</td>\n",
       "      <td>0.0</td>\n",
       "      <td>0.707</td>\n",
       "      <td>0.293</td>\n",
       "      <td>0.4404</td>\n",
       "      <td>0.701</td>\n",
       "      <td>0.299</td>\n",
       "      <td>0.000</td>\n",
       "      <td>-0.6908</td>\n",
       "    </tr>\n",
       "    <tr>\n",
       "      <th>4</th>\n",
       "      <td>0</td>\n",
       "      <td>cush2push</td>\n",
       "      <td>maddenultimateteam</td>\n",
       "      <td>6</td>\n",
       "      <td>-1</td>\n",
       "      <td>-1</td>\n",
       "      <td>i could use one tools</td>\n",
       "      <td>yep confirm i saw tool use it made boy easport...</td>\n",
       "      <td>0.0</td>\n",
       "      <td>1.000</td>\n",
       "      <td>0.000</td>\n",
       "      <td>0.0000</td>\n",
       "      <td>0.000</td>\n",
       "      <td>0.804</td>\n",
       "      <td>0.196</td>\n",
       "      <td>0.2960</td>\n",
       "    </tr>\n",
       "  </tbody>\n",
       "</table>\n",
       "</div>\n",
       "      <button class=\"colab-df-convert\" onclick=\"convertToInteractive('df-a875dce8-d75a-4fc8-bbb0-d4a234bb697c')\"\n",
       "              title=\"Convert this dataframe to an interactive table.\"\n",
       "              style=\"display:none;\">\n",
       "        \n",
       "  <svg xmlns=\"http://www.w3.org/2000/svg\" height=\"24px\"viewBox=\"0 0 24 24\"\n",
       "       width=\"24px\">\n",
       "    <path d=\"M0 0h24v24H0V0z\" fill=\"none\"/>\n",
       "    <path d=\"M18.56 5.44l.94 2.06.94-2.06 2.06-.94-2.06-.94-.94-2.06-.94 2.06-2.06.94zm-11 1L8.5 8.5l.94-2.06 2.06-.94-2.06-.94L8.5 2.5l-.94 2.06-2.06.94zm10 10l.94 2.06.94-2.06 2.06-.94-2.06-.94-.94-2.06-.94 2.06-2.06.94z\"/><path d=\"M17.41 7.96l-1.37-1.37c-.4-.4-.92-.59-1.43-.59-.52 0-1.04.2-1.43.59L10.3 9.45l-7.72 7.72c-.78.78-.78 2.05 0 2.83L4 21.41c.39.39.9.59 1.41.59.51 0 1.02-.2 1.41-.59l7.78-7.78 2.81-2.81c.8-.78.8-2.07 0-2.86zM5.41 20L4 18.59l7.72-7.72 1.47 1.35L5.41 20z\"/>\n",
       "  </svg>\n",
       "      </button>\n",
       "      \n",
       "  <style>\n",
       "    .colab-df-container {\n",
       "      display:flex;\n",
       "      flex-wrap:wrap;\n",
       "      gap: 12px;\n",
       "    }\n",
       "\n",
       "    .colab-df-convert {\n",
       "      background-color: #E8F0FE;\n",
       "      border: none;\n",
       "      border-radius: 50%;\n",
       "      cursor: pointer;\n",
       "      display: none;\n",
       "      fill: #1967D2;\n",
       "      height: 32px;\n",
       "      padding: 0 0 0 0;\n",
       "      width: 32px;\n",
       "    }\n",
       "\n",
       "    .colab-df-convert:hover {\n",
       "      background-color: #E2EBFA;\n",
       "      box-shadow: 0px 1px 2px rgba(60, 64, 67, 0.3), 0px 1px 3px 1px rgba(60, 64, 67, 0.15);\n",
       "      fill: #174EA6;\n",
       "    }\n",
       "\n",
       "    [theme=dark] .colab-df-convert {\n",
       "      background-color: #3B4455;\n",
       "      fill: #D2E3FC;\n",
       "    }\n",
       "\n",
       "    [theme=dark] .colab-df-convert:hover {\n",
       "      background-color: #434B5C;\n",
       "      box-shadow: 0px 1px 3px 1px rgba(0, 0, 0, 0.15);\n",
       "      filter: drop-shadow(0px 1px 2px rgba(0, 0, 0, 0.3));\n",
       "      fill: #FFFFFF;\n",
       "    }\n",
       "  </style>\n",
       "\n",
       "      <script>\n",
       "        const buttonEl =\n",
       "          document.querySelector('#df-a875dce8-d75a-4fc8-bbb0-d4a234bb697c button.colab-df-convert');\n",
       "        buttonEl.style.display =\n",
       "          google.colab.kernel.accessAllowed ? 'block' : 'none';\n",
       "\n",
       "        async function convertToInteractive(key) {\n",
       "          const element = document.querySelector('#df-a875dce8-d75a-4fc8-bbb0-d4a234bb697c');\n",
       "          const dataTable =\n",
       "            await google.colab.kernel.invokeFunction('convertToInteractive',\n",
       "                                                     [key], {});\n",
       "          if (!dataTable) return;\n",
       "\n",
       "          const docLinkHtml = 'Like what you see? Visit the ' +\n",
       "            '<a target=\"_blank\" href=https://colab.research.google.com/notebooks/data_table.ipynb>data table notebook</a>'\n",
       "            + ' to learn more about interactive tables.';\n",
       "          element.innerHTML = '';\n",
       "          dataTable['output_type'] = 'display_data';\n",
       "          await google.colab.output.renderOutput(dataTable, element);\n",
       "          const docLink = document.createElement('div');\n",
       "          docLink.innerHTML = docLinkHtml;\n",
       "          element.appendChild(docLink);\n",
       "        }\n",
       "      </script>\n",
       "    </div>\n",
       "  </div>\n",
       "  "
      ],
      "text/plain": [
       "   label     author           subreddit  score  ups  downs  \\\n",
       "0      0  trumpbart            politics      2   -1     -1   \n",
       "1      0  shbshb906                 nba     -4   -1     -1   \n",
       "2      0   creepeth                 nfl      3    3      0   \n",
       "3      0  icebrotha  blackpeopletwitter     -8   -1     -1   \n",
       "4      0  cush2push  maddenultimateteam      6   -1     -1   \n",
       "\n",
       "                               preprocessed_comments  \\\n",
       "0                                              nc nh   \n",
       "1  you know west teams play west teams east teams...   \n",
       "2  they underdogs earlier today since gronk annou...   \n",
       "3           this meme funny none new york nigga ones   \n",
       "4                              i could use one tools   \n",
       "\n",
       "                              preprocessed_pcomments  Neg_comment  \\\n",
       "0  yeah i get argument at point i would prefer li...          0.0   \n",
       "1  the blazers mavericks the wests 5 6 seed even ...          0.0   \n",
       "2                                   they favored win          0.0   \n",
       "3                                  deadass kill buzz          0.0   \n",
       "4  yep confirm i saw tool use it made boy easport...          0.0   \n",
       "\n",
       "   Neu_comment  Pos_comment  Compound_comment  Neg_pcomment  Neu_pcomment  \\\n",
       "0        0.238        0.762            0.4939         0.181         0.507   \n",
       "1        0.789        0.211            0.3400         0.000         0.838   \n",
       "2        1.000        0.000            0.0000         0.000         0.132   \n",
       "3        0.707        0.293            0.4404         0.701         0.299   \n",
       "4        1.000        0.000            0.0000         0.000         0.804   \n",
       "\n",
       "   Pos_pcomment  Compound_pcomment  \n",
       "0         0.312             0.2023  \n",
       "1         0.162             0.4404  \n",
       "2         0.868             0.7650  \n",
       "3         0.000            -0.6908  \n",
       "4         0.196             0.2960  "
      ]
     },
     "execution_count": 137,
     "metadata": {},
     "output_type": "execute_result"
    }
   ],
   "source": [
    "df.head()"
   ]
  },
  {
   "cell_type": "code",
   "execution_count": 138,
   "metadata": {
    "colab": {
     "base_uri": "https://localhost:8080/"
    },
    "id": "Cwm8Cx9k4yxN",
    "outputId": "b42a1363-0e84-4253-9fb1-75c1e13df95d"
   },
   "outputs": [
    {
     "data": {
      "text/plain": [
       "label                     0\n",
       "author                    0\n",
       "subreddit                 0\n",
       "score                     0\n",
       "ups                       0\n",
       "downs                     0\n",
       "preprocessed_comments     0\n",
       "preprocessed_pcomments    0\n",
       "Neg_comment               0\n",
       "Neu_comment               0\n",
       "Pos_comment               0\n",
       "Compound_comment          0\n",
       "Neg_pcomment              0\n",
       "Neu_pcomment              0\n",
       "Pos_pcomment              0\n",
       "Compound_pcomment         0\n",
       "dtype: int64"
      ]
     },
     "execution_count": 138,
     "metadata": {},
     "output_type": "execute_result"
    }
   ],
   "source": [
    "df.isnull().sum()"
   ]
  },
  {
   "cell_type": "markdown",
   "metadata": {
    "id": "BOZik1bX4yxN"
   },
   "source": [
    "## 2. Length of sentences"
   ]
  },
  {
   "cell_type": "code",
   "execution_count": 139,
   "metadata": {
    "id": "Z2edRYQ04yxN"
   },
   "outputs": [],
   "source": [
    "df['comment_len']=df['preprocessed_comments'].apply(lambda x:len(x.split()))\n",
    "df['pcomment_len']=df['preprocessed_pcomments'].apply(lambda x:len(x.split()))"
   ]
  },
  {
   "cell_type": "code",
   "execution_count": 140,
   "metadata": {
    "colab": {
     "base_uri": "https://localhost:8080/",
     "height": 392
    },
    "id": "h9Z6OFRS4yxN",
    "outputId": "a3955440-9985-42c7-d9f7-c96ae0d80df0"
   },
   "outputs": [
    {
     "data": {
      "text/html": [
       "\n",
       "  <div id=\"df-e70cb3ec-6b6a-4b64-9d66-c338761dd673\">\n",
       "    <div class=\"colab-df-container\">\n",
       "      <div>\n",
       "<style scoped>\n",
       "    .dataframe tbody tr th:only-of-type {\n",
       "        vertical-align: middle;\n",
       "    }\n",
       "\n",
       "    .dataframe tbody tr th {\n",
       "        vertical-align: top;\n",
       "    }\n",
       "\n",
       "    .dataframe thead th {\n",
       "        text-align: right;\n",
       "    }\n",
       "</style>\n",
       "<table border=\"1\" class=\"dataframe\">\n",
       "  <thead>\n",
       "    <tr style=\"text-align: right;\">\n",
       "      <th></th>\n",
       "      <th>label</th>\n",
       "      <th>author</th>\n",
       "      <th>subreddit</th>\n",
       "      <th>score</th>\n",
       "      <th>ups</th>\n",
       "      <th>downs</th>\n",
       "      <th>preprocessed_comments</th>\n",
       "      <th>preprocessed_pcomments</th>\n",
       "      <th>Neg_comment</th>\n",
       "      <th>Neu_comment</th>\n",
       "      <th>Pos_comment</th>\n",
       "      <th>Compound_comment</th>\n",
       "      <th>Neg_pcomment</th>\n",
       "      <th>Neu_pcomment</th>\n",
       "      <th>Pos_pcomment</th>\n",
       "      <th>Compound_pcomment</th>\n",
       "      <th>comment_len</th>\n",
       "      <th>pcomment_len</th>\n",
       "    </tr>\n",
       "  </thead>\n",
       "  <tbody>\n",
       "    <tr>\n",
       "      <th>0</th>\n",
       "      <td>0</td>\n",
       "      <td>trumpbart</td>\n",
       "      <td>politics</td>\n",
       "      <td>2</td>\n",
       "      <td>-1</td>\n",
       "      <td>-1</td>\n",
       "      <td>nc nh</td>\n",
       "      <td>yeah i get argument at point i would prefer li...</td>\n",
       "      <td>0.0</td>\n",
       "      <td>0.238</td>\n",
       "      <td>0.762</td>\n",
       "      <td>0.4939</td>\n",
       "      <td>0.181</td>\n",
       "      <td>0.507</td>\n",
       "      <td>0.312</td>\n",
       "      <td>0.2023</td>\n",
       "      <td>2</td>\n",
       "      <td>12</td>\n",
       "    </tr>\n",
       "    <tr>\n",
       "      <th>1</th>\n",
       "      <td>0</td>\n",
       "      <td>shbshb906</td>\n",
       "      <td>nba</td>\n",
       "      <td>-4</td>\n",
       "      <td>-1</td>\n",
       "      <td>-1</td>\n",
       "      <td>you know west teams play west teams east teams...</td>\n",
       "      <td>the blazers mavericks the wests 5 6 seed even ...</td>\n",
       "      <td>0.0</td>\n",
       "      <td>0.789</td>\n",
       "      <td>0.211</td>\n",
       "      <td>0.3400</td>\n",
       "      <td>0.000</td>\n",
       "      <td>0.838</td>\n",
       "      <td>0.162</td>\n",
       "      <td>0.4404</td>\n",
       "      <td>10</td>\n",
       "      <td>18</td>\n",
       "    </tr>\n",
       "    <tr>\n",
       "      <th>2</th>\n",
       "      <td>0</td>\n",
       "      <td>creepeth</td>\n",
       "      <td>nfl</td>\n",
       "      <td>3</td>\n",
       "      <td>3</td>\n",
       "      <td>0</td>\n",
       "      <td>they underdogs earlier today since gronk annou...</td>\n",
       "      <td>they favored win</td>\n",
       "      <td>0.0</td>\n",
       "      <td>1.000</td>\n",
       "      <td>0.000</td>\n",
       "      <td>0.0000</td>\n",
       "      <td>0.000</td>\n",
       "      <td>0.132</td>\n",
       "      <td>0.868</td>\n",
       "      <td>0.7650</td>\n",
       "      <td>13</td>\n",
       "      <td>3</td>\n",
       "    </tr>\n",
       "    <tr>\n",
       "      <th>3</th>\n",
       "      <td>0</td>\n",
       "      <td>icebrotha</td>\n",
       "      <td>blackpeopletwitter</td>\n",
       "      <td>-8</td>\n",
       "      <td>-1</td>\n",
       "      <td>-1</td>\n",
       "      <td>this meme funny none new york nigga ones</td>\n",
       "      <td>deadass kill buzz</td>\n",
       "      <td>0.0</td>\n",
       "      <td>0.707</td>\n",
       "      <td>0.293</td>\n",
       "      <td>0.4404</td>\n",
       "      <td>0.701</td>\n",
       "      <td>0.299</td>\n",
       "      <td>0.000</td>\n",
       "      <td>-0.6908</td>\n",
       "      <td>8</td>\n",
       "      <td>3</td>\n",
       "    </tr>\n",
       "    <tr>\n",
       "      <th>4</th>\n",
       "      <td>0</td>\n",
       "      <td>cush2push</td>\n",
       "      <td>maddenultimateteam</td>\n",
       "      <td>6</td>\n",
       "      <td>-1</td>\n",
       "      <td>-1</td>\n",
       "      <td>i could use one tools</td>\n",
       "      <td>yep confirm i saw tool use it made boy easport...</td>\n",
       "      <td>0.0</td>\n",
       "      <td>1.000</td>\n",
       "      <td>0.000</td>\n",
       "      <td>0.0000</td>\n",
       "      <td>0.000</td>\n",
       "      <td>0.804</td>\n",
       "      <td>0.196</td>\n",
       "      <td>0.2960</td>\n",
       "      <td>5</td>\n",
       "      <td>11</td>\n",
       "    </tr>\n",
       "  </tbody>\n",
       "</table>\n",
       "</div>\n",
       "      <button class=\"colab-df-convert\" onclick=\"convertToInteractive('df-e70cb3ec-6b6a-4b64-9d66-c338761dd673')\"\n",
       "              title=\"Convert this dataframe to an interactive table.\"\n",
       "              style=\"display:none;\">\n",
       "        \n",
       "  <svg xmlns=\"http://www.w3.org/2000/svg\" height=\"24px\"viewBox=\"0 0 24 24\"\n",
       "       width=\"24px\">\n",
       "    <path d=\"M0 0h24v24H0V0z\" fill=\"none\"/>\n",
       "    <path d=\"M18.56 5.44l.94 2.06.94-2.06 2.06-.94-2.06-.94-.94-2.06-.94 2.06-2.06.94zm-11 1L8.5 8.5l.94-2.06 2.06-.94-2.06-.94L8.5 2.5l-.94 2.06-2.06.94zm10 10l.94 2.06.94-2.06 2.06-.94-2.06-.94-.94-2.06-.94 2.06-2.06.94z\"/><path d=\"M17.41 7.96l-1.37-1.37c-.4-.4-.92-.59-1.43-.59-.52 0-1.04.2-1.43.59L10.3 9.45l-7.72 7.72c-.78.78-.78 2.05 0 2.83L4 21.41c.39.39.9.59 1.41.59.51 0 1.02-.2 1.41-.59l7.78-7.78 2.81-2.81c.8-.78.8-2.07 0-2.86zM5.41 20L4 18.59l7.72-7.72 1.47 1.35L5.41 20z\"/>\n",
       "  </svg>\n",
       "      </button>\n",
       "      \n",
       "  <style>\n",
       "    .colab-df-container {\n",
       "      display:flex;\n",
       "      flex-wrap:wrap;\n",
       "      gap: 12px;\n",
       "    }\n",
       "\n",
       "    .colab-df-convert {\n",
       "      background-color: #E8F0FE;\n",
       "      border: none;\n",
       "      border-radius: 50%;\n",
       "      cursor: pointer;\n",
       "      display: none;\n",
       "      fill: #1967D2;\n",
       "      height: 32px;\n",
       "      padding: 0 0 0 0;\n",
       "      width: 32px;\n",
       "    }\n",
       "\n",
       "    .colab-df-convert:hover {\n",
       "      background-color: #E2EBFA;\n",
       "      box-shadow: 0px 1px 2px rgba(60, 64, 67, 0.3), 0px 1px 3px 1px rgba(60, 64, 67, 0.15);\n",
       "      fill: #174EA6;\n",
       "    }\n",
       "\n",
       "    [theme=dark] .colab-df-convert {\n",
       "      background-color: #3B4455;\n",
       "      fill: #D2E3FC;\n",
       "    }\n",
       "\n",
       "    [theme=dark] .colab-df-convert:hover {\n",
       "      background-color: #434B5C;\n",
       "      box-shadow: 0px 1px 3px 1px rgba(0, 0, 0, 0.15);\n",
       "      filter: drop-shadow(0px 1px 2px rgba(0, 0, 0, 0.3));\n",
       "      fill: #FFFFFF;\n",
       "    }\n",
       "  </style>\n",
       "\n",
       "      <script>\n",
       "        const buttonEl =\n",
       "          document.querySelector('#df-e70cb3ec-6b6a-4b64-9d66-c338761dd673 button.colab-df-convert');\n",
       "        buttonEl.style.display =\n",
       "          google.colab.kernel.accessAllowed ? 'block' : 'none';\n",
       "\n",
       "        async function convertToInteractive(key) {\n",
       "          const element = document.querySelector('#df-e70cb3ec-6b6a-4b64-9d66-c338761dd673');\n",
       "          const dataTable =\n",
       "            await google.colab.kernel.invokeFunction('convertToInteractive',\n",
       "                                                     [key], {});\n",
       "          if (!dataTable) return;\n",
       "\n",
       "          const docLinkHtml = 'Like what you see? Visit the ' +\n",
       "            '<a target=\"_blank\" href=https://colab.research.google.com/notebooks/data_table.ipynb>data table notebook</a>'\n",
       "            + ' to learn more about interactive tables.';\n",
       "          element.innerHTML = '';\n",
       "          dataTable['output_type'] = 'display_data';\n",
       "          await google.colab.output.renderOutput(dataTable, element);\n",
       "          const docLink = document.createElement('div');\n",
       "          docLink.innerHTML = docLinkHtml;\n",
       "          element.appendChild(docLink);\n",
       "        }\n",
       "      </script>\n",
       "    </div>\n",
       "  </div>\n",
       "  "
      ],
      "text/plain": [
       "   label     author           subreddit  score  ups  downs  \\\n",
       "0      0  trumpbart            politics      2   -1     -1   \n",
       "1      0  shbshb906                 nba     -4   -1     -1   \n",
       "2      0   creepeth                 nfl      3    3      0   \n",
       "3      0  icebrotha  blackpeopletwitter     -8   -1     -1   \n",
       "4      0  cush2push  maddenultimateteam      6   -1     -1   \n",
       "\n",
       "                               preprocessed_comments  \\\n",
       "0                                              nc nh   \n",
       "1  you know west teams play west teams east teams...   \n",
       "2  they underdogs earlier today since gronk annou...   \n",
       "3           this meme funny none new york nigga ones   \n",
       "4                              i could use one tools   \n",
       "\n",
       "                              preprocessed_pcomments  Neg_comment  \\\n",
       "0  yeah i get argument at point i would prefer li...          0.0   \n",
       "1  the blazers mavericks the wests 5 6 seed even ...          0.0   \n",
       "2                                   they favored win          0.0   \n",
       "3                                  deadass kill buzz          0.0   \n",
       "4  yep confirm i saw tool use it made boy easport...          0.0   \n",
       "\n",
       "   Neu_comment  Pos_comment  Compound_comment  Neg_pcomment  Neu_pcomment  \\\n",
       "0        0.238        0.762            0.4939         0.181         0.507   \n",
       "1        0.789        0.211            0.3400         0.000         0.838   \n",
       "2        1.000        0.000            0.0000         0.000         0.132   \n",
       "3        0.707        0.293            0.4404         0.701         0.299   \n",
       "4        1.000        0.000            0.0000         0.000         0.804   \n",
       "\n",
       "   Pos_pcomment  Compound_pcomment  comment_len  pcomment_len  \n",
       "0         0.312             0.2023            2            12  \n",
       "1         0.162             0.4404           10            18  \n",
       "2         0.868             0.7650           13             3  \n",
       "3         0.000            -0.6908            8             3  \n",
       "4         0.196             0.2960            5            11  "
      ]
     },
     "execution_count": 140,
     "metadata": {},
     "output_type": "execute_result"
    }
   ],
   "source": [
    "df.head()"
   ]
  },
  {
   "cell_type": "code",
   "execution_count": 141,
   "metadata": {
    "colab": {
     "base_uri": "https://localhost:8080/",
     "height": 392
    },
    "id": "Q2jqxQdSUy5w",
    "outputId": "fc7c7b6d-5b29-40d7-a628-aba030c191df"
   },
   "outputs": [
    {
     "data": {
      "text/html": [
       "\n",
       "  <div id=\"df-421d5550-fe05-49fd-b68d-feb9fc2c4fec\">\n",
       "    <div class=\"colab-df-container\">\n",
       "      <div>\n",
       "<style scoped>\n",
       "    .dataframe tbody tr th:only-of-type {\n",
       "        vertical-align: middle;\n",
       "    }\n",
       "\n",
       "    .dataframe tbody tr th {\n",
       "        vertical-align: top;\n",
       "    }\n",
       "\n",
       "    .dataframe thead th {\n",
       "        text-align: right;\n",
       "    }\n",
       "</style>\n",
       "<table border=\"1\" class=\"dataframe\">\n",
       "  <thead>\n",
       "    <tr style=\"text-align: right;\">\n",
       "      <th></th>\n",
       "      <th>label</th>\n",
       "      <th>author</th>\n",
       "      <th>subreddit</th>\n",
       "      <th>score</th>\n",
       "      <th>ups</th>\n",
       "      <th>downs</th>\n",
       "      <th>preprocessed_comments</th>\n",
       "      <th>preprocessed_pcomments</th>\n",
       "      <th>Neg_comment</th>\n",
       "      <th>Neu_comment</th>\n",
       "      <th>Pos_comment</th>\n",
       "      <th>Compound_comment</th>\n",
       "      <th>Neg_pcomment</th>\n",
       "      <th>Neu_pcomment</th>\n",
       "      <th>Pos_pcomment</th>\n",
       "      <th>Compound_pcomment</th>\n",
       "      <th>comment_len</th>\n",
       "      <th>pcomment_len</th>\n",
       "    </tr>\n",
       "  </thead>\n",
       "  <tbody>\n",
       "    <tr>\n",
       "      <th>0</th>\n",
       "      <td>0</td>\n",
       "      <td>trumpbart</td>\n",
       "      <td>politics</td>\n",
       "      <td>2</td>\n",
       "      <td>-1</td>\n",
       "      <td>-1</td>\n",
       "      <td>nc nh</td>\n",
       "      <td>yeah i get argument at point i would prefer li...</td>\n",
       "      <td>0.0</td>\n",
       "      <td>0.238</td>\n",
       "      <td>0.762</td>\n",
       "      <td>0.4939</td>\n",
       "      <td>0.181</td>\n",
       "      <td>0.507</td>\n",
       "      <td>0.312</td>\n",
       "      <td>0.2023</td>\n",
       "      <td>2</td>\n",
       "      <td>12</td>\n",
       "    </tr>\n",
       "    <tr>\n",
       "      <th>1</th>\n",
       "      <td>0</td>\n",
       "      <td>shbshb906</td>\n",
       "      <td>nba</td>\n",
       "      <td>-4</td>\n",
       "      <td>-1</td>\n",
       "      <td>-1</td>\n",
       "      <td>you know west teams play west teams east teams...</td>\n",
       "      <td>the blazers mavericks the wests 5 6 seed even ...</td>\n",
       "      <td>0.0</td>\n",
       "      <td>0.789</td>\n",
       "      <td>0.211</td>\n",
       "      <td>0.3400</td>\n",
       "      <td>0.000</td>\n",
       "      <td>0.838</td>\n",
       "      <td>0.162</td>\n",
       "      <td>0.4404</td>\n",
       "      <td>10</td>\n",
       "      <td>18</td>\n",
       "    </tr>\n",
       "    <tr>\n",
       "      <th>2</th>\n",
       "      <td>0</td>\n",
       "      <td>creepeth</td>\n",
       "      <td>nfl</td>\n",
       "      <td>3</td>\n",
       "      <td>3</td>\n",
       "      <td>0</td>\n",
       "      <td>they underdogs earlier today since gronk annou...</td>\n",
       "      <td>they favored win</td>\n",
       "      <td>0.0</td>\n",
       "      <td>1.000</td>\n",
       "      <td>0.000</td>\n",
       "      <td>0.0000</td>\n",
       "      <td>0.000</td>\n",
       "      <td>0.132</td>\n",
       "      <td>0.868</td>\n",
       "      <td>0.7650</td>\n",
       "      <td>13</td>\n",
       "      <td>3</td>\n",
       "    </tr>\n",
       "    <tr>\n",
       "      <th>3</th>\n",
       "      <td>0</td>\n",
       "      <td>icebrotha</td>\n",
       "      <td>blackpeopletwitter</td>\n",
       "      <td>-8</td>\n",
       "      <td>-1</td>\n",
       "      <td>-1</td>\n",
       "      <td>this meme funny none new york nigga ones</td>\n",
       "      <td>deadass kill buzz</td>\n",
       "      <td>0.0</td>\n",
       "      <td>0.707</td>\n",
       "      <td>0.293</td>\n",
       "      <td>0.4404</td>\n",
       "      <td>0.701</td>\n",
       "      <td>0.299</td>\n",
       "      <td>0.000</td>\n",
       "      <td>-0.6908</td>\n",
       "      <td>8</td>\n",
       "      <td>3</td>\n",
       "    </tr>\n",
       "    <tr>\n",
       "      <th>4</th>\n",
       "      <td>0</td>\n",
       "      <td>cush2push</td>\n",
       "      <td>maddenultimateteam</td>\n",
       "      <td>6</td>\n",
       "      <td>-1</td>\n",
       "      <td>-1</td>\n",
       "      <td>i could use one tools</td>\n",
       "      <td>yep confirm i saw tool use it made boy easport...</td>\n",
       "      <td>0.0</td>\n",
       "      <td>1.000</td>\n",
       "      <td>0.000</td>\n",
       "      <td>0.0000</td>\n",
       "      <td>0.000</td>\n",
       "      <td>0.804</td>\n",
       "      <td>0.196</td>\n",
       "      <td>0.2960</td>\n",
       "      <td>5</td>\n",
       "      <td>11</td>\n",
       "    </tr>\n",
       "  </tbody>\n",
       "</table>\n",
       "</div>\n",
       "      <button class=\"colab-df-convert\" onclick=\"convertToInteractive('df-421d5550-fe05-49fd-b68d-feb9fc2c4fec')\"\n",
       "              title=\"Convert this dataframe to an interactive table.\"\n",
       "              style=\"display:none;\">\n",
       "        \n",
       "  <svg xmlns=\"http://www.w3.org/2000/svg\" height=\"24px\"viewBox=\"0 0 24 24\"\n",
       "       width=\"24px\">\n",
       "    <path d=\"M0 0h24v24H0V0z\" fill=\"none\"/>\n",
       "    <path d=\"M18.56 5.44l.94 2.06.94-2.06 2.06-.94-2.06-.94-.94-2.06-.94 2.06-2.06.94zm-11 1L8.5 8.5l.94-2.06 2.06-.94-2.06-.94L8.5 2.5l-.94 2.06-2.06.94zm10 10l.94 2.06.94-2.06 2.06-.94-2.06-.94-.94-2.06-.94 2.06-2.06.94z\"/><path d=\"M17.41 7.96l-1.37-1.37c-.4-.4-.92-.59-1.43-.59-.52 0-1.04.2-1.43.59L10.3 9.45l-7.72 7.72c-.78.78-.78 2.05 0 2.83L4 21.41c.39.39.9.59 1.41.59.51 0 1.02-.2 1.41-.59l7.78-7.78 2.81-2.81c.8-.78.8-2.07 0-2.86zM5.41 20L4 18.59l7.72-7.72 1.47 1.35L5.41 20z\"/>\n",
       "  </svg>\n",
       "      </button>\n",
       "      \n",
       "  <style>\n",
       "    .colab-df-container {\n",
       "      display:flex;\n",
       "      flex-wrap:wrap;\n",
       "      gap: 12px;\n",
       "    }\n",
       "\n",
       "    .colab-df-convert {\n",
       "      background-color: #E8F0FE;\n",
       "      border: none;\n",
       "      border-radius: 50%;\n",
       "      cursor: pointer;\n",
       "      display: none;\n",
       "      fill: #1967D2;\n",
       "      height: 32px;\n",
       "      padding: 0 0 0 0;\n",
       "      width: 32px;\n",
       "    }\n",
       "\n",
       "    .colab-df-convert:hover {\n",
       "      background-color: #E2EBFA;\n",
       "      box-shadow: 0px 1px 2px rgba(60, 64, 67, 0.3), 0px 1px 3px 1px rgba(60, 64, 67, 0.15);\n",
       "      fill: #174EA6;\n",
       "    }\n",
       "\n",
       "    [theme=dark] .colab-df-convert {\n",
       "      background-color: #3B4455;\n",
       "      fill: #D2E3FC;\n",
       "    }\n",
       "\n",
       "    [theme=dark] .colab-df-convert:hover {\n",
       "      background-color: #434B5C;\n",
       "      box-shadow: 0px 1px 3px 1px rgba(0, 0, 0, 0.15);\n",
       "      filter: drop-shadow(0px 1px 2px rgba(0, 0, 0, 0.3));\n",
       "      fill: #FFFFFF;\n",
       "    }\n",
       "  </style>\n",
       "\n",
       "      <script>\n",
       "        const buttonEl =\n",
       "          document.querySelector('#df-421d5550-fe05-49fd-b68d-feb9fc2c4fec button.colab-df-convert');\n",
       "        buttonEl.style.display =\n",
       "          google.colab.kernel.accessAllowed ? 'block' : 'none';\n",
       "\n",
       "        async function convertToInteractive(key) {\n",
       "          const element = document.querySelector('#df-421d5550-fe05-49fd-b68d-feb9fc2c4fec');\n",
       "          const dataTable =\n",
       "            await google.colab.kernel.invokeFunction('convertToInteractive',\n",
       "                                                     [key], {});\n",
       "          if (!dataTable) return;\n",
       "\n",
       "          const docLinkHtml = 'Like what you see? Visit the ' +\n",
       "            '<a target=\"_blank\" href=https://colab.research.google.com/notebooks/data_table.ipynb>data table notebook</a>'\n",
       "            + ' to learn more about interactive tables.';\n",
       "          element.innerHTML = '';\n",
       "          dataTable['output_type'] = 'display_data';\n",
       "          await google.colab.output.renderOutput(dataTable, element);\n",
       "          const docLink = document.createElement('div');\n",
       "          docLink.innerHTML = docLinkHtml;\n",
       "          element.appendChild(docLink);\n",
       "        }\n",
       "      </script>\n",
       "    </div>\n",
       "  </div>\n",
       "  "
      ],
      "text/plain": [
       "   label     author           subreddit  score  ups  downs  \\\n",
       "0      0  trumpbart            politics      2   -1     -1   \n",
       "1      0  shbshb906                 nba     -4   -1     -1   \n",
       "2      0   creepeth                 nfl      3    3      0   \n",
       "3      0  icebrotha  blackpeopletwitter     -8   -1     -1   \n",
       "4      0  cush2push  maddenultimateteam      6   -1     -1   \n",
       "\n",
       "                               preprocessed_comments  \\\n",
       "0                                              nc nh   \n",
       "1  you know west teams play west teams east teams...   \n",
       "2  they underdogs earlier today since gronk annou...   \n",
       "3           this meme funny none new york nigga ones   \n",
       "4                              i could use one tools   \n",
       "\n",
       "                              preprocessed_pcomments  Neg_comment  \\\n",
       "0  yeah i get argument at point i would prefer li...          0.0   \n",
       "1  the blazers mavericks the wests 5 6 seed even ...          0.0   \n",
       "2                                   they favored win          0.0   \n",
       "3                                  deadass kill buzz          0.0   \n",
       "4  yep confirm i saw tool use it made boy easport...          0.0   \n",
       "\n",
       "   Neu_comment  Pos_comment  Compound_comment  Neg_pcomment  Neu_pcomment  \\\n",
       "0        0.238        0.762            0.4939         0.181         0.507   \n",
       "1        0.789        0.211            0.3400         0.000         0.838   \n",
       "2        1.000        0.000            0.0000         0.000         0.132   \n",
       "3        0.707        0.293            0.4404         0.701         0.299   \n",
       "4        1.000        0.000            0.0000         0.000         0.804   \n",
       "\n",
       "   Pos_pcomment  Compound_pcomment  comment_len  pcomment_len  \n",
       "0         0.312             0.2023            2            12  \n",
       "1         0.162             0.4404           10            18  \n",
       "2         0.868             0.7650           13             3  \n",
       "3         0.000            -0.6908            8             3  \n",
       "4         0.196             0.2960            5            11  "
      ]
     },
     "execution_count": 141,
     "metadata": {},
     "output_type": "execute_result"
    }
   ],
   "source": [
    "df.head()"
   ]
  },
  {
   "cell_type": "code",
   "execution_count": 142,
   "metadata": {
    "id": "6Yq_nG1x4yxN"
   },
   "outputs": [],
   "source": [
    "df.to_csv('/content/drive/MyDrive/cleaned_data.csv', index=False)"
   ]
  },
  {
   "cell_type": "code",
   "execution_count": null,
   "metadata": {
    "id": "tGDkt96p4yxN",
    "outputId": "adbce91f-bbee-41c5-8a8e-985722d6be64"
   },
   "outputs": [
    {
     "data": {
      "image/png": "[encoded data removed]",
      "text/plain": [
       "<Figure size 720x1080 with 4 Axes>"
      ]
     },
     "metadata": {
      "needs_background": "light"
     },
     "output_type": "display_data"
    }
   ],
   "source": [
    "df1 = df[df['label']==1]\n",
    "df2 = df[df['label']==0]\n",
    "\n",
    "plt.figure(figsize=(10,15))\n",
    "plt.subplot(411)\n",
    "sns.distplot(df1['Neg_comment'], label='Sarcastic')\n",
    "sns.distplot(df2['Neg_comment'], label='Non-Sarcastic')\n",
    "plt.legend()\n",
    "plt.subplot(412)\n",
    "sns.distplot(df1['Neu_comment'], label='Sarcastic')\n",
    "sns.distplot(df2['Neu_comment'], label='Non-Sarcastic')\n",
    "plt.legend()\n",
    "plt.subplot(413)\n",
    "sns.distplot(df1['Pos_comment'], label='Sarcastic')\n",
    "sns.distplot(df2['Pos_comment'], label='Non-Sarcastic')\n",
    "plt.legend()\n",
    "plt.subplot(414)\n",
    "sns.distplot(df1['Compound_comment'], label='Sarcastic')\n",
    "sns.distplot(df2['Compound_comment'], label='Non-Sarcastic')\n",
    "plt.legend()\n",
    "plt.show()"
   ]
  },
  {
   "cell_type": "code",
   "execution_count": null,
   "metadata": {
    "id": "19aJUfTY4yxO",
    "outputId": "8dd091f4-a242-4dbb-9659-7af9f46cf36f"
   },
   "outputs": [
    {
     "data": {
      "image/png": "[encoded data removed]",
      "text/plain": [
       "<Figure size 720x1080 with 4 Axes>"
      ]
     },
     "metadata": {
      "needs_background": "light"
     },
     "output_type": "display_data"
    }
   ],
   "source": [
    "plt.figure(figsize=(10,15))\n",
    "plt.subplot(411)\n",
    "sns.distplot(df1['Neg_pcomment'], label='Sarcastic')\n",
    "sns.distplot(df2['Neg_pcomment'], label='Non-Sarcastic')\n",
    "plt.legend()\n",
    "plt.subplot(412)\n",
    "sns.distplot(df1['Neu_pcomment'], label='Sarcastic')\n",
    "sns.distplot(df2['Neu_pcomment'], label='Non-Sarcastic')\n",
    "plt.legend()\n",
    "plt.subplot(413)\n",
    "sns.distplot(df1['Pos_pcomment'], label='Sarcastic')\n",
    "sns.distplot(df2['Pos_pcomment'], label='Non-Sarcastic')\n",
    "plt.legend()\n",
    "plt.subplot(414)\n",
    "sns.distplot(df1['Compound_pcomment'], label='Sarcastic')\n",
    "sns.distplot(df2['Compound_pcomment'], label='Non-Sarcastic')\n",
    "plt.legend()\n",
    "plt.show()"
   ]
  },
  {
   "cell_type": "markdown",
   "metadata": {
    "id": "iy32thvN4yxO"
   },
   "source": [
    "# Data Preprocessing"
   ]
  },
  {
   "cell_type": "code",
   "execution_count": 4,
   "metadata": {
    "id": "-5EbKICX4yxO"
   },
   "outputs": [],
   "source": [
    "df = pd.read_csv('cleaned_data.csv')"
   ]
  },
  {
   "cell_type": "code",
   "execution_count": 5,
   "metadata": {
    "colab": {
     "base_uri": "https://localhost:8080/",
     "height": 392
    },
    "id": "E5NE_mYS4yxO",
    "outputId": "7c0b429d-bb41-48d9-80b4-88816953c22a"
   },
   "outputs": [
    {
     "data": {
      "text/html": [
       "<div>\n",
       "<style scoped>\n",
       "    .dataframe tbody tr th:only-of-type {\n",
       "        vertical-align: middle;\n",
       "    }\n",
       "\n",
       "    .dataframe tbody tr th {\n",
       "        vertical-align: top;\n",
       "    }\n",
       "\n",
       "    .dataframe thead th {\n",
       "        text-align: right;\n",
       "    }\n",
       "</style>\n",
       "<table border=\"1\" class=\"dataframe\">\n",
       "  <thead>\n",
       "    <tr style=\"text-align: right;\">\n",
       "      <th></th>\n",
       "      <th>label</th>\n",
       "      <th>author</th>\n",
       "      <th>subreddit</th>\n",
       "      <th>score</th>\n",
       "      <th>ups</th>\n",
       "      <th>downs</th>\n",
       "      <th>preprocessed_comments</th>\n",
       "      <th>preprocessed_pcomments</th>\n",
       "      <th>Neg_comment</th>\n",
       "      <th>Neu_comment</th>\n",
       "      <th>Pos_comment</th>\n",
       "      <th>Compound_comment</th>\n",
       "      <th>Neg_pcomment</th>\n",
       "      <th>Neu_pcomment</th>\n",
       "      <th>Pos_pcomment</th>\n",
       "      <th>Compound_pcomment</th>\n",
       "      <th>comment_len</th>\n",
       "      <th>pcomment_len</th>\n",
       "    </tr>\n",
       "  </thead>\n",
       "  <tbody>\n",
       "    <tr>\n",
       "      <th>0</th>\n",
       "      <td>0</td>\n",
       "      <td>trumpbart</td>\n",
       "      <td>politics</td>\n",
       "      <td>2</td>\n",
       "      <td>-1</td>\n",
       "      <td>-1</td>\n",
       "      <td>nc and nh</td>\n",
       "      <td>yeah i get that argument at this point i would...</td>\n",
       "      <td>0.000</td>\n",
       "      <td>0.385</td>\n",
       "      <td>0.615</td>\n",
       "      <td>0.4939</td>\n",
       "      <td>0.126</td>\n",
       "      <td>0.657</td>\n",
       "      <td>0.217</td>\n",
       "      <td>0.2023</td>\n",
       "      <td>3</td>\n",
       "      <td>18</td>\n",
       "    </tr>\n",
       "    <tr>\n",
       "      <th>1</th>\n",
       "      <td>0</td>\n",
       "      <td>shbshb906</td>\n",
       "      <td>nba</td>\n",
       "      <td>-4</td>\n",
       "      <td>-1</td>\n",
       "      <td>-1</td>\n",
       "      <td>you do know west teams play against west teams...</td>\n",
       "      <td>the blazers and mavericks the wests 5 and 6 se...</td>\n",
       "      <td>0.000</td>\n",
       "      <td>0.844</td>\n",
       "      <td>0.156</td>\n",
       "      <td>0.3400</td>\n",
       "      <td>0.095</td>\n",
       "      <td>0.905</td>\n",
       "      <td>0.000</td>\n",
       "      <td>-0.3412</td>\n",
       "      <td>14</td>\n",
       "      <td>27</td>\n",
       "    </tr>\n",
       "    <tr>\n",
       "      <th>2</th>\n",
       "      <td>0</td>\n",
       "      <td>creepeth</td>\n",
       "      <td>nfl</td>\n",
       "      <td>3</td>\n",
       "      <td>3</td>\n",
       "      <td>0</td>\n",
       "      <td>they were underdogs earlier today but since gr...</td>\n",
       "      <td>they are favored to win</td>\n",
       "      <td>0.000</td>\n",
       "      <td>1.000</td>\n",
       "      <td>0.000</td>\n",
       "      <td>0.0000</td>\n",
       "      <td>0.000</td>\n",
       "      <td>0.312</td>\n",
       "      <td>0.688</td>\n",
       "      <td>0.7650</td>\n",
       "      <td>20</td>\n",
       "      <td>5</td>\n",
       "    </tr>\n",
       "    <tr>\n",
       "      <th>3</th>\n",
       "      <td>0</td>\n",
       "      <td>icebrotha</td>\n",
       "      <td>blackpeopletwitter</td>\n",
       "      <td>-8</td>\n",
       "      <td>-1</td>\n",
       "      <td>-1</td>\n",
       "      <td>this meme is not funny none of the new york ni...</td>\n",
       "      <td>deadass do not kill my buzz</td>\n",
       "      <td>0.167</td>\n",
       "      <td>0.833</td>\n",
       "      <td>0.000</td>\n",
       "      <td>-0.3412</td>\n",
       "      <td>0.000</td>\n",
       "      <td>0.572</td>\n",
       "      <td>0.428</td>\n",
       "      <td>0.5773</td>\n",
       "      <td>13</td>\n",
       "      <td>6</td>\n",
       "    </tr>\n",
       "    <tr>\n",
       "      <th>4</th>\n",
       "      <td>0</td>\n",
       "      <td>cush2push</td>\n",
       "      <td>maddenultimateteam</td>\n",
       "      <td>6</td>\n",
       "      <td>-1</td>\n",
       "      <td>-1</td>\n",
       "      <td>i could use one of those tools</td>\n",
       "      <td>yep can confirm i saw the tool they use for th...</td>\n",
       "      <td>0.000</td>\n",
       "      <td>1.000</td>\n",
       "      <td>0.000</td>\n",
       "      <td>0.0000</td>\n",
       "      <td>0.000</td>\n",
       "      <td>0.885</td>\n",
       "      <td>0.115</td>\n",
       "      <td>0.2960</td>\n",
       "      <td>7</td>\n",
       "      <td>19</td>\n",
       "    </tr>\n",
       "  </tbody>\n",
       "</table>\n",
       "</div>"
      ],
      "text/plain": [
       "   label     author           subreddit  score  ups  downs  \\\n",
       "0      0  trumpbart            politics      2   -1     -1   \n",
       "1      0  shbshb906                 nba     -4   -1     -1   \n",
       "2      0   creepeth                 nfl      3    3      0   \n",
       "3      0  icebrotha  blackpeopletwitter     -8   -1     -1   \n",
       "4      0  cush2push  maddenultimateteam      6   -1     -1   \n",
       "\n",
       "                               preprocessed_comments  \\\n",
       "0                                          nc and nh   \n",
       "1  you do know west teams play against west teams...   \n",
       "2  they were underdogs earlier today but since gr...   \n",
       "3  this meme is not funny none of the new york ni...   \n",
       "4                     i could use one of those tools   \n",
       "\n",
       "                              preprocessed_pcomments  Neg_comment  \\\n",
       "0  yeah i get that argument at this point i would...        0.000   \n",
       "1  the blazers and mavericks the wests 5 and 6 se...        0.000   \n",
       "2                            they are favored to win        0.000   \n",
       "3                        deadass do not kill my buzz        0.167   \n",
       "4  yep can confirm i saw the tool they use for th...        0.000   \n",
       "\n",
       "   Neu_comment  Pos_comment  Compound_comment  Neg_pcomment  Neu_pcomment  \\\n",
       "0        0.385        0.615            0.4939         0.126         0.657   \n",
       "1        0.844        0.156            0.3400         0.095         0.905   \n",
       "2        1.000        0.000            0.0000         0.000         0.312   \n",
       "3        0.833        0.000           -0.3412         0.000         0.572   \n",
       "4        1.000        0.000            0.0000         0.000         0.885   \n",
       "\n",
       "   Pos_pcomment  Compound_pcomment  comment_len  pcomment_len  \n",
       "0         0.217             0.2023            3            18  \n",
       "1         0.000            -0.3412           14            27  \n",
       "2         0.688             0.7650           20             5  \n",
       "3         0.428             0.5773           13             6  \n",
       "4         0.115             0.2960            7            19  "
      ]
     },
     "execution_count": 5,
     "metadata": {},
     "output_type": "execute_result"
    }
   ],
   "source": [
    "df.head()"
   ]
  },
  {
   "cell_type": "code",
   "execution_count": 6,
   "metadata": {
    "id": "asYwEy944yxO"
   },
   "outputs": [],
   "source": [
    "df.dropna(inplace=True)"
   ]
  },
  {
   "cell_type": "code",
   "execution_count": 7,
   "metadata": {
    "colab": {
     "base_uri": "https://localhost:8080/"
    },
    "id": "pkkk_flk4yxP",
    "outputId": "c73e92df-5295-4a00-9452-2ea356bf388b"
   },
   "outputs": [
    {
     "data": {
      "text/plain": [
       "label                     0\n",
       "author                    0\n",
       "subreddit                 0\n",
       "score                     0\n",
       "ups                       0\n",
       "downs                     0\n",
       "preprocessed_comments     0\n",
       "preprocessed_pcomments    0\n",
       "Neg_comment               0\n",
       "Neu_comment               0\n",
       "Pos_comment               0\n",
       "Compound_comment          0\n",
       "Neg_pcomment              0\n",
       "Neu_pcomment              0\n",
       "Pos_pcomment              0\n",
       "Compound_pcomment         0\n",
       "comment_len               0\n",
       "pcomment_len              0\n",
       "dtype: int64"
      ]
     },
     "execution_count": 7,
     "metadata": {},
     "output_type": "execute_result"
    }
   ],
   "source": [
    "df.isnull().sum()"
   ]
  },
  {
   "cell_type": "code",
   "execution_count": 8,
   "metadata": {
    "colab": {
     "base_uri": "https://localhost:8080/"
    },
    "id": "J0AFsd8_5Ks0",
    "outputId": "088a3b97-088d-4116-e18f-c547899a7871"
   },
   "outputs": [
    {
     "data": {
      "text/plain": [
       "(1009323, 18)"
      ]
     },
     "execution_count": 8,
     "metadata": {},
     "output_type": "execute_result"
    }
   ],
   "source": [
    "df.shape"
   ]
  },
  {
   "cell_type": "markdown",
   "metadata": {
    "id": "vDnPgDRW4yxP"
   },
   "source": [
    "## train test split"
   ]
  },
  {
   "cell_type": "code",
   "execution_count": 9,
   "metadata": {
    "id": "DTDi4MRH4yxP"
   },
   "outputs": [],
   "source": [
    "y = df['label']\n",
    "X = df.drop('label', axis=1)"
   ]
  },
  {
   "cell_type": "code",
   "execution_count": 10,
   "metadata": {
    "id": "WqQEL4Xj4yxP"
   },
   "outputs": [],
   "source": [
    "X_train, X_test, y_train, y_test = train_test_split(X, y, test_size=0.2, random_state=1)\n",
    "X_train, X_cv, y_train, y_cv = train_test_split(X_train, y_train, test_size=0.25, random_state=1)"
   ]
  },
  {
   "cell_type": "code",
   "execution_count": 11,
   "metadata": {
    "colab": {
     "base_uri": "https://localhost:8080/"
    },
    "id": "1huorAug4yxP",
    "outputId": "165f00b4-06de-475b-ae8a-6aaf6b875f29"
   },
   "outputs": [
    {
     "name": "stdout",
     "output_type": "stream",
     "text": [
      "(605593, 17)\n",
      "(605593,)\n",
      "(201865, 17)\n",
      "(201865,)\n",
      "(201865, 17)\n",
      "(201865,)\n"
     ]
    }
   ],
   "source": [
    "print(X_train.shape)\n",
    "print(y_train.shape)\n",
    "print(X_cv.shape)\n",
    "print(y_cv.shape)\n",
    "print(X_test.shape)\n",
    "print(y_test.shape)"
   ]
  },
  {
   "cell_type": "markdown",
   "metadata": {
    "id": "TqePVJ1knXkz"
   },
   "source": [
    "## Encoding Author"
   ]
  },
  {
   "cell_type": "code",
   "execution_count": 12,
   "metadata": {
    "id": "c8XoE6L9nWhz"
   },
   "outputs": [],
   "source": [
    "from category_encoders.cat_boost import CatBoostEncoder"
   ]
  },
  {
   "cell_type": "code",
   "execution_count": 13,
   "metadata": {
    "id": "GGbTc8X7njQ6"
   },
   "outputs": [],
   "source": [
    "cat_author = CatBoostEncoder()\n",
    "\n",
    "cat_author.fit(X_train['author'], y_train)\n",
    "\n",
    "X_train['author'] = cat_author.transform(X_train['author'])\n",
    "X_cv['author'] = cat_author.transform(X_cv['author'])\n",
    "X_test['author'] = cat_author.transform(X_test['author'])"
   ]
  },
  {
   "cell_type": "markdown",
   "metadata": {
    "id": "YZmabNumnp6j"
   },
   "source": [
    "## Encoding subreddit"
   ]
  },
  {
   "cell_type": "code",
   "execution_count": 14,
   "metadata": {
    "id": "svMJg1CxoUcW"
   },
   "outputs": [],
   "source": [
    "cat_subreddit = CatBoostEncoder()\n",
    "\n",
    "cat_subreddit.fit(X_train['subreddit'], y_train)\n",
    "\n",
    "X_train['subreddit'] = cat_subreddit.transform(X_train['subreddit'])\n",
    "X_cv['subreddit'] = cat_subreddit.transform(X_cv['subreddit'])\n",
    "X_test['subreddit'] = cat_subreddit.transform(X_test['subreddit'])"
   ]
  },
  {
   "cell_type": "code",
   "execution_count": 15,
   "metadata": {
    "colab": {
     "base_uri": "https://localhost:8080/",
     "height": 339
    },
    "id": "qn3GsvnBoUf5",
    "outputId": "f9830f31-880e-4112-a2f3-f3ea98e27e09"
   },
   "outputs": [
    {
     "data": {
      "text/html": [
       "<div>\n",
       "<style scoped>\n",
       "    .dataframe tbody tr th:only-of-type {\n",
       "        vertical-align: middle;\n",
       "    }\n",
       "\n",
       "    .dataframe tbody tr th {\n",
       "        vertical-align: top;\n",
       "    }\n",
       "\n",
       "    .dataframe thead th {\n",
       "        text-align: right;\n",
       "    }\n",
       "</style>\n",
       "<table border=\"1\" class=\"dataframe\">\n",
       "  <thead>\n",
       "    <tr style=\"text-align: right;\">\n",
       "      <th></th>\n",
       "      <th>author</th>\n",
       "      <th>subreddit</th>\n",
       "      <th>score</th>\n",
       "      <th>ups</th>\n",
       "      <th>downs</th>\n",
       "      <th>preprocessed_comments</th>\n",
       "      <th>preprocessed_pcomments</th>\n",
       "      <th>Neg_comment</th>\n",
       "      <th>Neu_comment</th>\n",
       "      <th>Pos_comment</th>\n",
       "      <th>Compound_comment</th>\n",
       "      <th>Neg_pcomment</th>\n",
       "      <th>Neu_pcomment</th>\n",
       "      <th>Pos_pcomment</th>\n",
       "      <th>Compound_pcomment</th>\n",
       "      <th>comment_len</th>\n",
       "      <th>pcomment_len</th>\n",
       "    </tr>\n",
       "  </thead>\n",
       "  <tbody>\n",
       "    <tr>\n",
       "      <th>753023</th>\n",
       "      <td>0.562478</td>\n",
       "      <td>0.586235</td>\n",
       "      <td>1</td>\n",
       "      <td>1</td>\n",
       "      <td>0</td>\n",
       "      <td>think it is pretty obvious the clowns behaving...</td>\n",
       "      <td>please remember to not be assholes to retail w...</td>\n",
       "      <td>0.000</td>\n",
       "      <td>0.749</td>\n",
       "      <td>0.251</td>\n",
       "      <td>0.6908</td>\n",
       "      <td>0.085</td>\n",
       "      <td>0.831</td>\n",
       "      <td>0.084</td>\n",
       "      <td>-0.6266</td>\n",
       "      <td>19</td>\n",
       "      <td>170</td>\n",
       "    </tr>\n",
       "    <tr>\n",
       "      <th>898182</th>\n",
       "      <td>0.374957</td>\n",
       "      <td>0.545383</td>\n",
       "      <td>1</td>\n",
       "      <td>1</td>\n",
       "      <td>0</td>\n",
       "      <td>too good and too consistent as well if they be...</td>\n",
       "      <td>except when ibp vs any other na teams they lit...</td>\n",
       "      <td>0.000</td>\n",
       "      <td>0.773</td>\n",
       "      <td>0.227</td>\n",
       "      <td>0.6124</td>\n",
       "      <td>0.000</td>\n",
       "      <td>0.818</td>\n",
       "      <td>0.182</td>\n",
       "      <td>0.4404</td>\n",
       "      <td>19</td>\n",
       "      <td>14</td>\n",
       "    </tr>\n",
       "    <tr>\n",
       "      <th>628795</th>\n",
       "      <td>0.499942</td>\n",
       "      <td>0.430672</td>\n",
       "      <td>1</td>\n",
       "      <td>1</td>\n",
       "      <td>0</td>\n",
       "      <td>life in prison too</td>\n",
       "      <td>what 45 gets you in tokyo</td>\n",
       "      <td>0.524</td>\n",
       "      <td>0.476</td>\n",
       "      <td>0.000</td>\n",
       "      <td>-0.5106</td>\n",
       "      <td>0.000</td>\n",
       "      <td>1.000</td>\n",
       "      <td>0.000</td>\n",
       "      <td>0.0000</td>\n",
       "      <td>4</td>\n",
       "      <td>6</td>\n",
       "    </tr>\n",
       "    <tr>\n",
       "      <th>986397</th>\n",
       "      <td>0.499942</td>\n",
       "      <td>0.485212</td>\n",
       "      <td>0</td>\n",
       "      <td>0</td>\n",
       "      <td>0</td>\n",
       "      <td>read the subreddit rules</td>\n",
       "      <td>my english teacher gave me some great advice</td>\n",
       "      <td>0.000</td>\n",
       "      <td>1.000</td>\n",
       "      <td>0.000</td>\n",
       "      <td>0.0000</td>\n",
       "      <td>0.000</td>\n",
       "      <td>0.631</td>\n",
       "      <td>0.369</td>\n",
       "      <td>0.6249</td>\n",
       "      <td>4</td>\n",
       "      <td>8</td>\n",
       "    </tr>\n",
       "    <tr>\n",
       "      <th>541351</th>\n",
       "      <td>0.499942</td>\n",
       "      <td>0.166609</td>\n",
       "      <td>1</td>\n",
       "      <td>1</td>\n",
       "      <td>0</td>\n",
       "      <td>pls respond</td>\n",
       "      <td>what is this from</td>\n",
       "      <td>0.000</td>\n",
       "      <td>0.435</td>\n",
       "      <td>0.565</td>\n",
       "      <td>0.0772</td>\n",
       "      <td>0.000</td>\n",
       "      <td>1.000</td>\n",
       "      <td>0.000</td>\n",
       "      <td>0.0000</td>\n",
       "      <td>2</td>\n",
       "      <td>4</td>\n",
       "    </tr>\n",
       "  </tbody>\n",
       "</table>\n",
       "</div>"
      ],
      "text/plain": [
       "          author  subreddit  score  ups  downs  \\\n",
       "753023  0.562478   0.586235      1    1      0   \n",
       "898182  0.374957   0.545383      1    1      0   \n",
       "628795  0.499942   0.430672      1    1      0   \n",
       "986397  0.499942   0.485212      0    0      0   \n",
       "541351  0.499942   0.166609      1    1      0   \n",
       "\n",
       "                                    preprocessed_comments  \\\n",
       "753023  think it is pretty obvious the clowns behaving...   \n",
       "898182  too good and too consistent as well if they be...   \n",
       "628795                                 life in prison too   \n",
       "986397                           read the subreddit rules   \n",
       "541351                                        pls respond   \n",
       "\n",
       "                                   preprocessed_pcomments  Neg_comment  \\\n",
       "753023  please remember to not be assholes to retail w...        0.000   \n",
       "898182  except when ibp vs any other na teams they lit...        0.000   \n",
       "628795                          what 45 gets you in tokyo        0.524   \n",
       "986397       my english teacher gave me some great advice        0.000   \n",
       "541351                                  what is this from        0.000   \n",
       "\n",
       "        Neu_comment  Pos_comment  Compound_comment  Neg_pcomment  \\\n",
       "753023        0.749        0.251            0.6908         0.085   \n",
       "898182        0.773        0.227            0.6124         0.000   \n",
       "628795        0.476        0.000           -0.5106         0.000   \n",
       "986397        1.000        0.000            0.0000         0.000   \n",
       "541351        0.435        0.565            0.0772         0.000   \n",
       "\n",
       "        Neu_pcomment  Pos_pcomment  Compound_pcomment  comment_len  \\\n",
       "753023         0.831         0.084            -0.6266           19   \n",
       "898182         0.818         0.182             0.4404           19   \n",
       "628795         1.000         0.000             0.0000            4   \n",
       "986397         0.631         0.369             0.6249            4   \n",
       "541351         1.000         0.000             0.0000            2   \n",
       "\n",
       "        pcomment_len  \n",
       "753023           170  \n",
       "898182            14  \n",
       "628795             6  \n",
       "986397             8  \n",
       "541351             4  "
      ]
     },
     "execution_count": 15,
     "metadata": {},
     "output_type": "execute_result"
    }
   ],
   "source": [
    "X_train.head()"
   ]
  },
  {
   "cell_type": "code",
   "execution_count": 16,
   "metadata": {},
   "outputs": [],
   "source": [
    "pickle.dump((cat_author, cat_subreddit),open('cat.pkl','wb'))"
   ]
  },
  {
   "cell_type": "markdown",
   "metadata": {
    "id": "V7be_5mU4yxQ"
   },
   "source": [
    "## Scaling numerical feature: score"
   ]
  },
  {
   "cell_type": "code",
   "execution_count": 17,
   "metadata": {
    "id": "6WF4tKil4yxR"
   },
   "outputs": [],
   "source": [
    "from sklearn.preprocessing import MinMaxScaler"
   ]
  },
  {
   "cell_type": "code",
   "execution_count": 18,
   "metadata": {
    "id": "tToxF2Ps4yxR"
   },
   "outputs": [],
   "source": [
    "scaler_score = MinMaxScaler()\n",
    "\n",
    "scaler_score.fit(X_train['score'].values.reshape(-1,1))\n",
    "\n",
    "X_train['score'] = scaler_score.transform(X_train['score'].values.reshape(-1,1))\n",
    "X_cv['score'] = scaler_score.transform(X_cv['score'].values.reshape(-1,1))\n",
    "X_test['score'] = scaler_score.transform(X_test['score'].values.reshape(-1,1))"
   ]
  },
  {
   "cell_type": "code",
   "execution_count": 19,
   "metadata": {
    "colab": {
     "base_uri": "https://localhost:8080/",
     "height": 339
    },
    "id": "Mlgsxwk44yxR",
    "outputId": "859bbdf1-6631-4c05-d7f0-e7066642c08f"
   },
   "outputs": [
    {
     "data": {
      "text/html": [
       "<div>\n",
       "<style scoped>\n",
       "    .dataframe tbody tr th:only-of-type {\n",
       "        vertical-align: middle;\n",
       "    }\n",
       "\n",
       "    .dataframe tbody tr th {\n",
       "        vertical-align: top;\n",
       "    }\n",
       "\n",
       "    .dataframe thead th {\n",
       "        text-align: right;\n",
       "    }\n",
       "</style>\n",
       "<table border=\"1\" class=\"dataframe\">\n",
       "  <thead>\n",
       "    <tr style=\"text-align: right;\">\n",
       "      <th></th>\n",
       "      <th>author</th>\n",
       "      <th>subreddit</th>\n",
       "      <th>score</th>\n",
       "      <th>ups</th>\n",
       "      <th>downs</th>\n",
       "      <th>preprocessed_comments</th>\n",
       "      <th>preprocessed_pcomments</th>\n",
       "      <th>Neg_comment</th>\n",
       "      <th>Neu_comment</th>\n",
       "      <th>Pos_comment</th>\n",
       "      <th>Compound_comment</th>\n",
       "      <th>Neg_pcomment</th>\n",
       "      <th>Neu_pcomment</th>\n",
       "      <th>Pos_pcomment</th>\n",
       "      <th>Compound_pcomment</th>\n",
       "      <th>comment_len</th>\n",
       "      <th>pcomment_len</th>\n",
       "    </tr>\n",
       "  </thead>\n",
       "  <tbody>\n",
       "    <tr>\n",
       "      <th>753023</th>\n",
       "      <td>0.562478</td>\n",
       "      <td>0.586235</td>\n",
       "      <td>0.053044</td>\n",
       "      <td>1</td>\n",
       "      <td>0</td>\n",
       "      <td>think it is pretty obvious the clowns behaving...</td>\n",
       "      <td>please remember to not be assholes to retail w...</td>\n",
       "      <td>0.000</td>\n",
       "      <td>0.749</td>\n",
       "      <td>0.251</td>\n",
       "      <td>0.6908</td>\n",
       "      <td>0.085</td>\n",
       "      <td>0.831</td>\n",
       "      <td>0.084</td>\n",
       "      <td>-0.6266</td>\n",
       "      <td>19</td>\n",
       "      <td>170</td>\n",
       "    </tr>\n",
       "    <tr>\n",
       "      <th>898182</th>\n",
       "      <td>0.374957</td>\n",
       "      <td>0.545383</td>\n",
       "      <td>0.053044</td>\n",
       "      <td>1</td>\n",
       "      <td>0</td>\n",
       "      <td>too good and too consistent as well if they be...</td>\n",
       "      <td>except when ibp vs any other na teams they lit...</td>\n",
       "      <td>0.000</td>\n",
       "      <td>0.773</td>\n",
       "      <td>0.227</td>\n",
       "      <td>0.6124</td>\n",
       "      <td>0.000</td>\n",
       "      <td>0.818</td>\n",
       "      <td>0.182</td>\n",
       "      <td>0.4404</td>\n",
       "      <td>19</td>\n",
       "      <td>14</td>\n",
       "    </tr>\n",
       "    <tr>\n",
       "      <th>628795</th>\n",
       "      <td>0.499942</td>\n",
       "      <td>0.430672</td>\n",
       "      <td>0.053044</td>\n",
       "      <td>1</td>\n",
       "      <td>0</td>\n",
       "      <td>life in prison too</td>\n",
       "      <td>what 45 gets you in tokyo</td>\n",
       "      <td>0.524</td>\n",
       "      <td>0.476</td>\n",
       "      <td>0.000</td>\n",
       "      <td>-0.5106</td>\n",
       "      <td>0.000</td>\n",
       "      <td>1.000</td>\n",
       "      <td>0.000</td>\n",
       "      <td>0.0000</td>\n",
       "      <td>4</td>\n",
       "      <td>6</td>\n",
       "    </tr>\n",
       "    <tr>\n",
       "      <th>986397</th>\n",
       "      <td>0.499942</td>\n",
       "      <td>0.485212</td>\n",
       "      <td>0.052939</td>\n",
       "      <td>0</td>\n",
       "      <td>0</td>\n",
       "      <td>read the subreddit rules</td>\n",
       "      <td>my english teacher gave me some great advice</td>\n",
       "      <td>0.000</td>\n",
       "      <td>1.000</td>\n",
       "      <td>0.000</td>\n",
       "      <td>0.0000</td>\n",
       "      <td>0.000</td>\n",
       "      <td>0.631</td>\n",
       "      <td>0.369</td>\n",
       "      <td>0.6249</td>\n",
       "      <td>4</td>\n",
       "      <td>8</td>\n",
       "    </tr>\n",
       "    <tr>\n",
       "      <th>541351</th>\n",
       "      <td>0.499942</td>\n",
       "      <td>0.166609</td>\n",
       "      <td>0.053044</td>\n",
       "      <td>1</td>\n",
       "      <td>0</td>\n",
       "      <td>pls respond</td>\n",
       "      <td>what is this from</td>\n",
       "      <td>0.000</td>\n",
       "      <td>0.435</td>\n",
       "      <td>0.565</td>\n",
       "      <td>0.0772</td>\n",
       "      <td>0.000</td>\n",
       "      <td>1.000</td>\n",
       "      <td>0.000</td>\n",
       "      <td>0.0000</td>\n",
       "      <td>2</td>\n",
       "      <td>4</td>\n",
       "    </tr>\n",
       "  </tbody>\n",
       "</table>\n",
       "</div>"
      ],
      "text/plain": [
       "          author  subreddit     score  ups  downs  \\\n",
       "753023  0.562478   0.586235  0.053044    1      0   \n",
       "898182  0.374957   0.545383  0.053044    1      0   \n",
       "628795  0.499942   0.430672  0.053044    1      0   \n",
       "986397  0.499942   0.485212  0.052939    0      0   \n",
       "541351  0.499942   0.166609  0.053044    1      0   \n",
       "\n",
       "                                    preprocessed_comments  \\\n",
       "753023  think it is pretty obvious the clowns behaving...   \n",
       "898182  too good and too consistent as well if they be...   \n",
       "628795                                 life in prison too   \n",
       "986397                           read the subreddit rules   \n",
       "541351                                        pls respond   \n",
       "\n",
       "                                   preprocessed_pcomments  Neg_comment  \\\n",
       "753023  please remember to not be assholes to retail w...        0.000   \n",
       "898182  except when ibp vs any other na teams they lit...        0.000   \n",
       "628795                          what 45 gets you in tokyo        0.524   \n",
       "986397       my english teacher gave me some great advice        0.000   \n",
       "541351                                  what is this from        0.000   \n",
       "\n",
       "        Neu_comment  Pos_comment  Compound_comment  Neg_pcomment  \\\n",
       "753023        0.749        0.251            0.6908         0.085   \n",
       "898182        0.773        0.227            0.6124         0.000   \n",
       "628795        0.476        0.000           -0.5106         0.000   \n",
       "986397        1.000        0.000            0.0000         0.000   \n",
       "541351        0.435        0.565            0.0772         0.000   \n",
       "\n",
       "        Neu_pcomment  Pos_pcomment  Compound_pcomment  comment_len  \\\n",
       "753023         0.831         0.084            -0.6266           19   \n",
       "898182         0.818         0.182             0.4404           19   \n",
       "628795         1.000         0.000             0.0000            4   \n",
       "986397         0.631         0.369             0.6249            4   \n",
       "541351         1.000         0.000             0.0000            2   \n",
       "\n",
       "        pcomment_len  \n",
       "753023           170  \n",
       "898182            14  \n",
       "628795             6  \n",
       "986397             8  \n",
       "541351             4  "
      ]
     },
     "execution_count": 19,
     "metadata": {},
     "output_type": "execute_result"
    }
   ],
   "source": [
    "X_train.head()"
   ]
  },
  {
   "cell_type": "markdown",
   "metadata": {
    "id": "_hZLEwlE4yxR"
   },
   "source": [
    "## Scaling numerical feature: ups"
   ]
  },
  {
   "cell_type": "code",
   "execution_count": 20,
   "metadata": {
    "id": "WZt5VXFd4yxR"
   },
   "outputs": [],
   "source": [
    "scaler_ups = MinMaxScaler()\n",
    "\n",
    "scaler_ups.fit(X_train['ups'].values.reshape(-1,1))\n",
    "\n",
    "X_train['ups'] = scaler_ups.transform(X_train['ups'].values.reshape(-1,1))\n",
    "X_cv['ups'] = scaler_ups.transform(X_cv['ups'].values.reshape(-1,1))\n",
    "X_test['ups'] = scaler_ups.transform(X_test['ups'].values.reshape(-1,1))"
   ]
  },
  {
   "cell_type": "code",
   "execution_count": 21,
   "metadata": {
    "colab": {
     "base_uri": "https://localhost:8080/",
     "height": 339
    },
    "id": "J1UaVMjI4yxR",
    "outputId": "5bf7dca2-2a23-443c-a5bd-1e7ba9ef2513"
   },
   "outputs": [
    {
     "data": {
      "text/html": [
       "<div>\n",
       "<style scoped>\n",
       "    .dataframe tbody tr th:only-of-type {\n",
       "        vertical-align: middle;\n",
       "    }\n",
       "\n",
       "    .dataframe tbody tr th {\n",
       "        vertical-align: top;\n",
       "    }\n",
       "\n",
       "    .dataframe thead th {\n",
       "        text-align: right;\n",
       "    }\n",
       "</style>\n",
       "<table border=\"1\" class=\"dataframe\">\n",
       "  <thead>\n",
       "    <tr style=\"text-align: right;\">\n",
       "      <th></th>\n",
       "      <th>author</th>\n",
       "      <th>subreddit</th>\n",
       "      <th>score</th>\n",
       "      <th>ups</th>\n",
       "      <th>downs</th>\n",
       "      <th>preprocessed_comments</th>\n",
       "      <th>preprocessed_pcomments</th>\n",
       "      <th>Neg_comment</th>\n",
       "      <th>Neu_comment</th>\n",
       "      <th>Pos_comment</th>\n",
       "      <th>Compound_comment</th>\n",
       "      <th>Neg_pcomment</th>\n",
       "      <th>Neu_pcomment</th>\n",
       "      <th>Pos_pcomment</th>\n",
       "      <th>Compound_pcomment</th>\n",
       "      <th>comment_len</th>\n",
       "      <th>pcomment_len</th>\n",
       "    </tr>\n",
       "  </thead>\n",
       "  <tbody>\n",
       "    <tr>\n",
       "      <th>753023</th>\n",
       "      <td>0.562478</td>\n",
       "      <td>0.586235</td>\n",
       "      <td>0.053044</td>\n",
       "      <td>0.089594</td>\n",
       "      <td>0</td>\n",
       "      <td>think it is pretty obvious the clowns behaving...</td>\n",
       "      <td>please remember to not be assholes to retail w...</td>\n",
       "      <td>0.000</td>\n",
       "      <td>0.749</td>\n",
       "      <td>0.251</td>\n",
       "      <td>0.6908</td>\n",
       "      <td>0.085</td>\n",
       "      <td>0.831</td>\n",
       "      <td>0.084</td>\n",
       "      <td>-0.6266</td>\n",
       "      <td>19</td>\n",
       "      <td>170</td>\n",
       "    </tr>\n",
       "    <tr>\n",
       "      <th>898182</th>\n",
       "      <td>0.374957</td>\n",
       "      <td>0.545383</td>\n",
       "      <td>0.053044</td>\n",
       "      <td>0.089594</td>\n",
       "      <td>0</td>\n",
       "      <td>too good and too consistent as well if they be...</td>\n",
       "      <td>except when ibp vs any other na teams they lit...</td>\n",
       "      <td>0.000</td>\n",
       "      <td>0.773</td>\n",
       "      <td>0.227</td>\n",
       "      <td>0.6124</td>\n",
       "      <td>0.000</td>\n",
       "      <td>0.818</td>\n",
       "      <td>0.182</td>\n",
       "      <td>0.4404</td>\n",
       "      <td>19</td>\n",
       "      <td>14</td>\n",
       "    </tr>\n",
       "    <tr>\n",
       "      <th>628795</th>\n",
       "      <td>0.499942</td>\n",
       "      <td>0.430672</td>\n",
       "      <td>0.053044</td>\n",
       "      <td>0.089594</td>\n",
       "      <td>0</td>\n",
       "      <td>life in prison too</td>\n",
       "      <td>what 45 gets you in tokyo</td>\n",
       "      <td>0.524</td>\n",
       "      <td>0.476</td>\n",
       "      <td>0.000</td>\n",
       "      <td>-0.5106</td>\n",
       "      <td>0.000</td>\n",
       "      <td>1.000</td>\n",
       "      <td>0.000</td>\n",
       "      <td>0.0000</td>\n",
       "      <td>4</td>\n",
       "      <td>6</td>\n",
       "    </tr>\n",
       "    <tr>\n",
       "      <th>986397</th>\n",
       "      <td>0.499942</td>\n",
       "      <td>0.485212</td>\n",
       "      <td>0.052939</td>\n",
       "      <td>0.089418</td>\n",
       "      <td>0</td>\n",
       "      <td>read the subreddit rules</td>\n",
       "      <td>my english teacher gave me some great advice</td>\n",
       "      <td>0.000</td>\n",
       "      <td>1.000</td>\n",
       "      <td>0.000</td>\n",
       "      <td>0.0000</td>\n",
       "      <td>0.000</td>\n",
       "      <td>0.631</td>\n",
       "      <td>0.369</td>\n",
       "      <td>0.6249</td>\n",
       "      <td>4</td>\n",
       "      <td>8</td>\n",
       "    </tr>\n",
       "    <tr>\n",
       "      <th>541351</th>\n",
       "      <td>0.499942</td>\n",
       "      <td>0.166609</td>\n",
       "      <td>0.053044</td>\n",
       "      <td>0.089594</td>\n",
       "      <td>0</td>\n",
       "      <td>pls respond</td>\n",
       "      <td>what is this from</td>\n",
       "      <td>0.000</td>\n",
       "      <td>0.435</td>\n",
       "      <td>0.565</td>\n",
       "      <td>0.0772</td>\n",
       "      <td>0.000</td>\n",
       "      <td>1.000</td>\n",
       "      <td>0.000</td>\n",
       "      <td>0.0000</td>\n",
       "      <td>2</td>\n",
       "      <td>4</td>\n",
       "    </tr>\n",
       "  </tbody>\n",
       "</table>\n",
       "</div>"
      ],
      "text/plain": [
       "          author  subreddit     score       ups  downs  \\\n",
       "753023  0.562478   0.586235  0.053044  0.089594      0   \n",
       "898182  0.374957   0.545383  0.053044  0.089594      0   \n",
       "628795  0.499942   0.430672  0.053044  0.089594      0   \n",
       "986397  0.499942   0.485212  0.052939  0.089418      0   \n",
       "541351  0.499942   0.166609  0.053044  0.089594      0   \n",
       "\n",
       "                                    preprocessed_comments  \\\n",
       "753023  think it is pretty obvious the clowns behaving...   \n",
       "898182  too good and too consistent as well if they be...   \n",
       "628795                                 life in prison too   \n",
       "986397                           read the subreddit rules   \n",
       "541351                                        pls respond   \n",
       "\n",
       "                                   preprocessed_pcomments  Neg_comment  \\\n",
       "753023  please remember to not be assholes to retail w...        0.000   \n",
       "898182  except when ibp vs any other na teams they lit...        0.000   \n",
       "628795                          what 45 gets you in tokyo        0.524   \n",
       "986397       my english teacher gave me some great advice        0.000   \n",
       "541351                                  what is this from        0.000   \n",
       "\n",
       "        Neu_comment  Pos_comment  Compound_comment  Neg_pcomment  \\\n",
       "753023        0.749        0.251            0.6908         0.085   \n",
       "898182        0.773        0.227            0.6124         0.000   \n",
       "628795        0.476        0.000           -0.5106         0.000   \n",
       "986397        1.000        0.000            0.0000         0.000   \n",
       "541351        0.435        0.565            0.0772         0.000   \n",
       "\n",
       "        Neu_pcomment  Pos_pcomment  Compound_pcomment  comment_len  \\\n",
       "753023         0.831         0.084            -0.6266           19   \n",
       "898182         0.818         0.182             0.4404           19   \n",
       "628795         1.000         0.000             0.0000            4   \n",
       "986397         0.631         0.369             0.6249            4   \n",
       "541351         1.000         0.000             0.0000            2   \n",
       "\n",
       "        pcomment_len  \n",
       "753023           170  \n",
       "898182            14  \n",
       "628795             6  \n",
       "986397             8  \n",
       "541351             4  "
      ]
     },
     "execution_count": 21,
     "metadata": {},
     "output_type": "execute_result"
    }
   ],
   "source": [
    "X_train.head()"
   ]
  },
  {
   "cell_type": "markdown",
   "metadata": {
    "id": "PhMl1avr4yxR"
   },
   "source": [
    "## Scaling numerical feature: Neg_comment"
   ]
  },
  {
   "cell_type": "code",
   "execution_count": 22,
   "metadata": {
    "id": "Cs_1otkA4yxS"
   },
   "outputs": [],
   "source": [
    "scaler_negc = MinMaxScaler()\n",
    "\n",
    "scaler_negc.fit(X_train['Neg_comment'].values.reshape(-1,1))\n",
    "\n",
    "X_train['Neg_comment'] = scaler_negc.transform(X_train['Neg_comment'].values.reshape(-1,1))\n",
    "X_cv['Neg_comment'] = scaler_negc.transform(X_cv['Neg_comment'].values.reshape(-1,1))\n",
    "X_test['Neg_comment'] = scaler_negc.transform(X_test['Neg_comment'].values.reshape(-1,1))"
   ]
  },
  {
   "cell_type": "markdown",
   "metadata": {
    "id": "1pZcbolC4yxS"
   },
   "source": [
    "## Scaling numerical feature: Neu_comment"
   ]
  },
  {
   "cell_type": "code",
   "execution_count": 23,
   "metadata": {
    "id": "KiGO5MBi4yxS"
   },
   "outputs": [],
   "source": [
    "scaler_neuc = MinMaxScaler()\n",
    "\n",
    "scaler_neuc.fit(X_train['Neu_comment'].values.reshape(-1,1))\n",
    "\n",
    "X_train['Neu_comment'] = scaler_neuc.transform(X_train['Neu_comment'].values.reshape(-1,1))\n",
    "X_cv['Neu_comment'] = scaler_neuc.transform(X_cv['Neu_comment'].values.reshape(-1,1))\n",
    "X_test['Neu_comment'] = scaler_neuc.transform(X_test['Neu_comment'].values.reshape(-1,1))"
   ]
  },
  {
   "cell_type": "markdown",
   "metadata": {
    "id": "BhhjwZ2e4yxS"
   },
   "source": [
    "## Scaling numerical feature: Pos_comment"
   ]
  },
  {
   "cell_type": "code",
   "execution_count": 24,
   "metadata": {
    "id": "nHteVHlH4yxS"
   },
   "outputs": [],
   "source": [
    "scaler_posc = MinMaxScaler()\n",
    "\n",
    "scaler_posc.fit(X_train['Pos_comment'].values.reshape(-1,1))\n",
    "\n",
    "X_train['Pos_comment'] = scaler_posc.transform(X_train['Pos_comment'].values.reshape(-1,1))\n",
    "X_cv['Pos_comment'] = scaler_posc.transform(X_cv['Pos_comment'].values.reshape(-1,1))\n",
    "X_test['Pos_comment'] = scaler_posc.transform(X_test['Pos_comment'].values.reshape(-1,1))"
   ]
  },
  {
   "cell_type": "markdown",
   "metadata": {
    "id": "vy6er7LL4yxS"
   },
   "source": [
    "## Scaling numerical feature: Compound_comment"
   ]
  },
  {
   "cell_type": "code",
   "execution_count": 25,
   "metadata": {
    "id": "2BPf-moe4yxS"
   },
   "outputs": [],
   "source": [
    "scaler_compc = MinMaxScaler()\n",
    "\n",
    "scaler_compc.fit(X_train['Compound_comment'].values.reshape(-1,1))\n",
    "\n",
    "X_train['Compound_comment'] = scaler_compc.transform(X_train['Compound_comment'].values.reshape(-1,1))\n",
    "X_cv['Compound_comment'] = scaler_compc.transform(X_cv['Compound_comment'].values.reshape(-1,1))\n",
    "X_test['Compound_comment'] = scaler_compc.transform(X_test['Compound_comment'].values.reshape(-1,1))"
   ]
  },
  {
   "cell_type": "markdown",
   "metadata": {
    "id": "HNiC1yZg4yxS"
   },
   "source": [
    "## Scaling numerical feature: Neg_pcomment"
   ]
  },
  {
   "cell_type": "code",
   "execution_count": 26,
   "metadata": {
    "id": "CXUqzbGz4yxT"
   },
   "outputs": [],
   "source": [
    "scaler_negpc = MinMaxScaler()\n",
    "\n",
    "scaler_negpc.fit(X_train['Neg_pcomment'].values.reshape(-1,1))\n",
    "\n",
    "X_train['Neg_pcomment'] = scaler_negpc.transform(X_train['Neg_pcomment'].values.reshape(-1,1))\n",
    "X_cv['Neg_pcomment'] = scaler_negpc.transform(X_cv['Neg_pcomment'].values.reshape(-1,1))\n",
    "X_test['Neg_pcomment'] = scaler_negpc.transform(X_test['Neg_pcomment'].values.reshape(-1,1))"
   ]
  },
  {
   "cell_type": "markdown",
   "metadata": {
    "id": "NOkeUHsE4yxT"
   },
   "source": [
    "## Scaling numerical feature: Neu_pcomment"
   ]
  },
  {
   "cell_type": "code",
   "execution_count": 27,
   "metadata": {
    "id": "rn9wnMaK4yxT"
   },
   "outputs": [],
   "source": [
    "scaler_neupc = MinMaxScaler()\n",
    "\n",
    "scaler_neupc.fit(X_train['Neu_pcomment'].values.reshape(-1,1))\n",
    "\n",
    "X_train['Neu_pcomment'] = scaler_neupc.transform(X_train['Neu_pcomment'].values.reshape(-1,1))\n",
    "X_cv['Neu_pcomment'] = scaler_neupc.transform(X_cv['Neu_pcomment'].values.reshape(-1,1))\n",
    "X_test['Neu_pcomment'] = scaler_neupc.transform(X_test['Neu_pcomment'].values.reshape(-1,1))"
   ]
  },
  {
   "cell_type": "markdown",
   "metadata": {
    "id": "z8EPWSMR4yxT"
   },
   "source": [
    "## Scaling numerical feature: Pos_pcomment"
   ]
  },
  {
   "cell_type": "code",
   "execution_count": 28,
   "metadata": {
    "id": "3VCbf4qM4yxT"
   },
   "outputs": [],
   "source": [
    "scaler_pospc = MinMaxScaler()\n",
    "\n",
    "scaler_pospc.fit(X_train['Pos_pcomment'].values.reshape(-1,1))\n",
    "\n",
    "X_train['Pos_pcomment'] = scaler_pospc.transform(X_train['Pos_pcomment'].values.reshape(-1,1))\n",
    "X_cv['Pos_pcomment'] = scaler_pospc.transform(X_cv['Pos_pcomment'].values.reshape(-1,1))\n",
    "X_test['Pos_pcomment'] = scaler_pospc.transform(X_test['Pos_pcomment'].values.reshape(-1,1))"
   ]
  },
  {
   "cell_type": "markdown",
   "metadata": {
    "id": "YnFD9Glj4yxT"
   },
   "source": [
    "## Scaling numerical feature: Compound_pcomment"
   ]
  },
  {
   "cell_type": "code",
   "execution_count": 29,
   "metadata": {
    "id": "oa4OEc4e4yxT"
   },
   "outputs": [],
   "source": [
    "scaler_comppc = MinMaxScaler()\n",
    "\n",
    "scaler_comppc.fit(X_train['Compound_pcomment'].values.reshape(-1,1))\n",
    "\n",
    "X_train['Compound_pcomment'] = scaler_comppc.transform(X_train['Compound_pcomment'].values.reshape(-1,1))\n",
    "X_cv['Compound_pcomment'] = scaler_comppc.transform(X_cv['Compound_pcomment'].values.reshape(-1,1))\n",
    "X_test['Compound_pcomment'] = scaler_comppc.transform(X_test['Compound_pcomment'].values.reshape(-1,1))"
   ]
  },
  {
   "cell_type": "markdown",
   "metadata": {
    "id": "nD_rHmIK4yxU"
   },
   "source": [
    "## Scaling numerical feature: comment_len"
   ]
  },
  {
   "cell_type": "code",
   "execution_count": 30,
   "metadata": {
    "id": "Q3ef_J1I4yxU"
   },
   "outputs": [],
   "source": [
    "scaler_comlen = MinMaxScaler()\n",
    "\n",
    "scaler_comlen.fit(X_train['comment_len'].values.reshape(-1,1))\n",
    "\n",
    "X_train['comment_len'] = scaler_comlen.transform(X_train['comment_len'].values.reshape(-1,1))\n",
    "X_cv['comment_len'] = scaler_comlen.transform(X_cv['comment_len'].values.reshape(-1,1))\n",
    "X_test['comment_len'] = scaler_comlen.transform(X_test['comment_len'].values.reshape(-1,1))"
   ]
  },
  {
   "cell_type": "markdown",
   "metadata": {
    "id": "4FL7gP0Q4yxU"
   },
   "source": [
    "## Scaling numerical feature: pcomment_len"
   ]
  },
  {
   "cell_type": "code",
   "execution_count": 31,
   "metadata": {
    "id": "9eCCYSzR4yxU"
   },
   "outputs": [],
   "source": [
    "scaler_pcomlen = MinMaxScaler()\n",
    "\n",
    "scaler_pcomlen.fit(X_train['pcomment_len'].values.reshape(-1,1))\n",
    "\n",
    "X_train['pcomment_len'] = scaler_pcomlen.transform(X_train['pcomment_len'].values.reshape(-1,1))\n",
    "X_cv['pcomment_len'] = scaler_pcomlen.transform(X_cv['pcomment_len'].values.reshape(-1,1))\n",
    "X_test['pcomment_len'] = scaler_pcomlen.transform(X_test['pcomment_len'].values.reshape(-1,1))"
   ]
  },
  {
   "cell_type": "code",
   "execution_count": 32,
   "metadata": {
    "colab": {
     "base_uri": "https://localhost:8080/",
     "height": 339
    },
    "id": "Oxbh37Jm5eQW",
    "outputId": "d769b158-4625-4378-d975-25fddca63dc6"
   },
   "outputs": [
    {
     "data": {
      "text/html": [
       "<div>\n",
       "<style scoped>\n",
       "    .dataframe tbody tr th:only-of-type {\n",
       "        vertical-align: middle;\n",
       "    }\n",
       "\n",
       "    .dataframe tbody tr th {\n",
       "        vertical-align: top;\n",
       "    }\n",
       "\n",
       "    .dataframe thead th {\n",
       "        text-align: right;\n",
       "    }\n",
       "</style>\n",
       "<table border=\"1\" class=\"dataframe\">\n",
       "  <thead>\n",
       "    <tr style=\"text-align: right;\">\n",
       "      <th></th>\n",
       "      <th>author</th>\n",
       "      <th>subreddit</th>\n",
       "      <th>score</th>\n",
       "      <th>ups</th>\n",
       "      <th>downs</th>\n",
       "      <th>preprocessed_comments</th>\n",
       "      <th>preprocessed_pcomments</th>\n",
       "      <th>Neg_comment</th>\n",
       "      <th>Neu_comment</th>\n",
       "      <th>Pos_comment</th>\n",
       "      <th>Compound_comment</th>\n",
       "      <th>Neg_pcomment</th>\n",
       "      <th>Neu_pcomment</th>\n",
       "      <th>Pos_pcomment</th>\n",
       "      <th>Compound_pcomment</th>\n",
       "      <th>comment_len</th>\n",
       "      <th>pcomment_len</th>\n",
       "    </tr>\n",
       "  </thead>\n",
       "  <tbody>\n",
       "    <tr>\n",
       "      <th>753023</th>\n",
       "      <td>0.562478</td>\n",
       "      <td>0.586235</td>\n",
       "      <td>0.053044</td>\n",
       "      <td>0.089594</td>\n",
       "      <td>0</td>\n",
       "      <td>think it is pretty obvious the clowns behaving...</td>\n",
       "      <td>please remember to not be assholes to retail w...</td>\n",
       "      <td>0.000</td>\n",
       "      <td>0.749</td>\n",
       "      <td>0.251</td>\n",
       "      <td>0.845442</td>\n",
       "      <td>0.085</td>\n",
       "      <td>0.831</td>\n",
       "      <td>0.084</td>\n",
       "      <td>0.186709</td>\n",
       "      <td>0.008104</td>\n",
       "      <td>0.039330</td>\n",
       "    </tr>\n",
       "    <tr>\n",
       "      <th>898182</th>\n",
       "      <td>0.374957</td>\n",
       "      <td>0.545383</td>\n",
       "      <td>0.053044</td>\n",
       "      <td>0.089594</td>\n",
       "      <td>0</td>\n",
       "      <td>too good and too consistent as well if they be...</td>\n",
       "      <td>except when ibp vs any other na teams they lit...</td>\n",
       "      <td>0.000</td>\n",
       "      <td>0.773</td>\n",
       "      <td>0.227</td>\n",
       "      <td>0.806240</td>\n",
       "      <td>0.000</td>\n",
       "      <td>0.818</td>\n",
       "      <td>0.182</td>\n",
       "      <td>0.720236</td>\n",
       "      <td>0.008104</td>\n",
       "      <td>0.003025</td>\n",
       "    </tr>\n",
       "    <tr>\n",
       "      <th>628795</th>\n",
       "      <td>0.499942</td>\n",
       "      <td>0.430672</td>\n",
       "      <td>0.053044</td>\n",
       "      <td>0.089594</td>\n",
       "      <td>0</td>\n",
       "      <td>life in prison too</td>\n",
       "      <td>what 45 gets you in tokyo</td>\n",
       "      <td>0.524</td>\n",
       "      <td>0.476</td>\n",
       "      <td>0.000</td>\n",
       "      <td>0.244712</td>\n",
       "      <td>0.000</td>\n",
       "      <td>1.000</td>\n",
       "      <td>0.000</td>\n",
       "      <td>0.500025</td>\n",
       "      <td>0.001351</td>\n",
       "      <td>0.001164</td>\n",
       "    </tr>\n",
       "    <tr>\n",
       "      <th>986397</th>\n",
       "      <td>0.499942</td>\n",
       "      <td>0.485212</td>\n",
       "      <td>0.052939</td>\n",
       "      <td>0.089418</td>\n",
       "      <td>0</td>\n",
       "      <td>read the subreddit rules</td>\n",
       "      <td>my english teacher gave me some great advice</td>\n",
       "      <td>0.000</td>\n",
       "      <td>1.000</td>\n",
       "      <td>0.000</td>\n",
       "      <td>0.500025</td>\n",
       "      <td>0.000</td>\n",
       "      <td>0.631</td>\n",
       "      <td>0.369</td>\n",
       "      <td>0.812491</td>\n",
       "      <td>0.001351</td>\n",
       "      <td>0.001629</td>\n",
       "    </tr>\n",
       "    <tr>\n",
       "      <th>541351</th>\n",
       "      <td>0.499942</td>\n",
       "      <td>0.166609</td>\n",
       "      <td>0.053044</td>\n",
       "      <td>0.089594</td>\n",
       "      <td>0</td>\n",
       "      <td>pls respond</td>\n",
       "      <td>what is this from</td>\n",
       "      <td>0.000</td>\n",
       "      <td>0.435</td>\n",
       "      <td>0.565</td>\n",
       "      <td>0.538627</td>\n",
       "      <td>0.000</td>\n",
       "      <td>1.000</td>\n",
       "      <td>0.000</td>\n",
       "      <td>0.500025</td>\n",
       "      <td>0.000450</td>\n",
       "      <td>0.000698</td>\n",
       "    </tr>\n",
       "  </tbody>\n",
       "</table>\n",
       "</div>"
      ],
      "text/plain": [
       "          author  subreddit     score       ups  downs  \\\n",
       "753023  0.562478   0.586235  0.053044  0.089594      0   \n",
       "898182  0.374957   0.545383  0.053044  0.089594      0   \n",
       "628795  0.499942   0.430672  0.053044  0.089594      0   \n",
       "986397  0.499942   0.485212  0.052939  0.089418      0   \n",
       "541351  0.499942   0.166609  0.053044  0.089594      0   \n",
       "\n",
       "                                    preprocessed_comments  \\\n",
       "753023  think it is pretty obvious the clowns behaving...   \n",
       "898182  too good and too consistent as well if they be...   \n",
       "628795                                 life in prison too   \n",
       "986397                           read the subreddit rules   \n",
       "541351                                        pls respond   \n",
       "\n",
       "                                   preprocessed_pcomments  Neg_comment  \\\n",
       "753023  please remember to not be assholes to retail w...        0.000   \n",
       "898182  except when ibp vs any other na teams they lit...        0.000   \n",
       "628795                          what 45 gets you in tokyo        0.524   \n",
       "986397       my english teacher gave me some great advice        0.000   \n",
       "541351                                  what is this from        0.000   \n",
       "\n",
       "        Neu_comment  Pos_comment  Compound_comment  Neg_pcomment  \\\n",
       "753023        0.749        0.251          0.845442         0.085   \n",
       "898182        0.773        0.227          0.806240         0.000   \n",
       "628795        0.476        0.000          0.244712         0.000   \n",
       "986397        1.000        0.000          0.500025         0.000   \n",
       "541351        0.435        0.565          0.538627         0.000   \n",
       "\n",
       "        Neu_pcomment  Pos_pcomment  Compound_pcomment  comment_len  \\\n",
       "753023         0.831         0.084           0.186709     0.008104   \n",
       "898182         0.818         0.182           0.720236     0.008104   \n",
       "628795         1.000         0.000           0.500025     0.001351   \n",
       "986397         0.631         0.369           0.812491     0.001351   \n",
       "541351         1.000         0.000           0.500025     0.000450   \n",
       "\n",
       "        pcomment_len  \n",
       "753023      0.039330  \n",
       "898182      0.003025  \n",
       "628795      0.001164  \n",
       "986397      0.001629  \n",
       "541351      0.000698  "
      ]
     },
     "execution_count": 32,
     "metadata": {},
     "output_type": "execute_result"
    }
   ],
   "source": [
    "X_train.head()"
   ]
  },
  {
   "cell_type": "code",
   "execution_count": 33,
   "metadata": {},
   "outputs": [],
   "source": [
    "pickle.dump((scaler_score, scaler_ups, scaler_negc, scaler_neuc, scaler_posc, scaler_compc, scaler_negpc, scaler_neupc, scaler_pospc, scaler_comppc, scaler_comlen, scaler_pcomlen),open('scale.pkl','wb'))"
   ]
  },
  {
   "cell_type": "markdown",
   "metadata": {
    "id": "PuVon6Go4yxU"
   },
   "source": [
    "## Encoding text features: Comment"
   ]
  },
  {
   "cell_type": "code",
   "execution_count": 230,
   "metadata": {
    "id": "sIWintlA4yxU"
   },
   "outputs": [],
   "source": [
    "text_features_train = X_train[['preprocessed_comments', 'preprocessed_pcomments']]\n",
    "text_features_cv = X_cv[['preprocessed_comments', 'preprocessed_pcomments']]\n",
    "text_features_test = X_test[['preprocessed_comments', 'preprocessed_pcomments']]\n",
    "\n",
    "X_train.drop(['preprocessed_comments', 'preprocessed_pcomments'], axis=1, inplace=True)\n",
    "X_cv.drop(['preprocessed_comments', 'preprocessed_pcomments'], axis=1, inplace=True)\n",
    "X_test.drop(['preprocessed_comments', 'preprocessed_pcomments'], axis=1, inplace=True)"
   ]
  },
  {
   "cell_type": "code",
   "execution_count": 231,
   "metadata": {
    "colab": {
     "base_uri": "https://localhost:8080/",
     "height": 206
    },
    "id": "w_AEsau74yxU",
    "outputId": "d7065ac4-18ae-489c-ea0e-a37fd9577d8d"
   },
   "outputs": [
    {
     "data": {
      "text/html": [
       "\n",
       "  <div id=\"df-0b8764ec-1b22-49be-b18d-505592c168da\">\n",
       "    <div class=\"colab-df-container\">\n",
       "      <div>\n",
       "<style scoped>\n",
       "    .dataframe tbody tr th:only-of-type {\n",
       "        vertical-align: middle;\n",
       "    }\n",
       "\n",
       "    .dataframe tbody tr th {\n",
       "        vertical-align: top;\n",
       "    }\n",
       "\n",
       "    .dataframe thead th {\n",
       "        text-align: right;\n",
       "    }\n",
       "</style>\n",
       "<table border=\"1\" class=\"dataframe\">\n",
       "  <thead>\n",
       "    <tr style=\"text-align: right;\">\n",
       "      <th></th>\n",
       "      <th>author</th>\n",
       "      <th>subreddit</th>\n",
       "      <th>score</th>\n",
       "      <th>ups</th>\n",
       "      <th>downs</th>\n",
       "      <th>Neg_comment</th>\n",
       "      <th>Neu_comment</th>\n",
       "      <th>Pos_comment</th>\n",
       "      <th>Compound_comment</th>\n",
       "      <th>Neg_pcomment</th>\n",
       "      <th>Neu_pcomment</th>\n",
       "      <th>Pos_pcomment</th>\n",
       "      <th>Compound_pcomment</th>\n",
       "      <th>comment_len</th>\n",
       "      <th>pcomment_len</th>\n",
       "    </tr>\n",
       "  </thead>\n",
       "  <tbody>\n",
       "    <tr>\n",
       "      <th>468357</th>\n",
       "      <td>0.500437</td>\n",
       "      <td>0.515194</td>\n",
       "      <td>0.062949</td>\n",
       "      <td>0.089594</td>\n",
       "      <td>0</td>\n",
       "      <td>0.000</td>\n",
       "      <td>0.794</td>\n",
       "      <td>0.206</td>\n",
       "      <td>0.538627</td>\n",
       "      <td>0.000</td>\n",
       "      <td>1.000</td>\n",
       "      <td>0.000</td>\n",
       "      <td>0.500050</td>\n",
       "      <td>0.002501</td>\n",
       "      <td>0.001665</td>\n",
       "    </tr>\n",
       "    <tr>\n",
       "      <th>241988</th>\n",
       "      <td>0.423178</td>\n",
       "      <td>0.500146</td>\n",
       "      <td>0.064312</td>\n",
       "      <td>0.091534</td>\n",
       "      <td>0</td>\n",
       "      <td>1.000</td>\n",
       "      <td>0.000</td>\n",
       "      <td>0.000</td>\n",
       "      <td>0.340917</td>\n",
       "      <td>0.412</td>\n",
       "      <td>0.588</td>\n",
       "      <td>0.000</td>\n",
       "      <td>0.363436</td>\n",
       "      <td>0.000500</td>\n",
       "      <td>0.000999</td>\n",
       "    </tr>\n",
       "    <tr>\n",
       "      <th>789926</th>\n",
       "      <td>0.501311</td>\n",
       "      <td>0.464881</td>\n",
       "      <td>0.062949</td>\n",
       "      <td>0.089594</td>\n",
       "      <td>0</td>\n",
       "      <td>0.000</td>\n",
       "      <td>1.000</td>\n",
       "      <td>0.000</td>\n",
       "      <td>0.500025</td>\n",
       "      <td>0.000</td>\n",
       "      <td>1.000</td>\n",
       "      <td>0.000</td>\n",
       "      <td>0.500050</td>\n",
       "      <td>0.000000</td>\n",
       "      <td>0.003663</td>\n",
       "    </tr>\n",
       "    <tr>\n",
       "      <th>259946</th>\n",
       "      <td>0.375328</td>\n",
       "      <td>0.540274</td>\n",
       "      <td>0.062949</td>\n",
       "      <td>0.089594</td>\n",
       "      <td>0</td>\n",
       "      <td>0.615</td>\n",
       "      <td>0.385</td>\n",
       "      <td>0.000</td>\n",
       "      <td>0.253063</td>\n",
       "      <td>0.079</td>\n",
       "      <td>0.504</td>\n",
       "      <td>0.417</td>\n",
       "      <td>0.906391</td>\n",
       "      <td>0.001001</td>\n",
       "      <td>0.006660</td>\n",
       "    </tr>\n",
       "    <tr>\n",
       "      <th>230188</th>\n",
       "      <td>0.500437</td>\n",
       "      <td>0.486263</td>\n",
       "      <td>0.062949</td>\n",
       "      <td>0.089594</td>\n",
       "      <td>0</td>\n",
       "      <td>0.000</td>\n",
       "      <td>1.000</td>\n",
       "      <td>0.000</td>\n",
       "      <td>0.500025</td>\n",
       "      <td>0.000</td>\n",
       "      <td>1.000</td>\n",
       "      <td>0.000</td>\n",
       "      <td>0.500050</td>\n",
       "      <td>0.000500</td>\n",
       "      <td>0.000333</td>\n",
       "    </tr>\n",
       "  </tbody>\n",
       "</table>\n",
       "</div>\n",
       "      <button class=\"colab-df-convert\" onclick=\"convertToInteractive('df-0b8764ec-1b22-49be-b18d-505592c168da')\"\n",
       "              title=\"Convert this dataframe to an interactive table.\"\n",
       "              style=\"display:none;\">\n",
       "        \n",
       "  <svg xmlns=\"http://www.w3.org/2000/svg\" height=\"24px\"viewBox=\"0 0 24 24\"\n",
       "       width=\"24px\">\n",
       "    <path d=\"M0 0h24v24H0V0z\" fill=\"none\"/>\n",
       "    <path d=\"M18.56 5.44l.94 2.06.94-2.06 2.06-.94-2.06-.94-.94-2.06-.94 2.06-2.06.94zm-11 1L8.5 8.5l.94-2.06 2.06-.94-2.06-.94L8.5 2.5l-.94 2.06-2.06.94zm10 10l.94 2.06.94-2.06 2.06-.94-2.06-.94-.94-2.06-.94 2.06-2.06.94z\"/><path d=\"M17.41 7.96l-1.37-1.37c-.4-.4-.92-.59-1.43-.59-.52 0-1.04.2-1.43.59L10.3 9.45l-7.72 7.72c-.78.78-.78 2.05 0 2.83L4 21.41c.39.39.9.59 1.41.59.51 0 1.02-.2 1.41-.59l7.78-7.78 2.81-2.81c.8-.78.8-2.07 0-2.86zM5.41 20L4 18.59l7.72-7.72 1.47 1.35L5.41 20z\"/>\n",
       "  </svg>\n",
       "      </button>\n",
       "      \n",
       "  <style>\n",
       "    .colab-df-container {\n",
       "      display:flex;\n",
       "      flex-wrap:wrap;\n",
       "      gap: 12px;\n",
       "    }\n",
       "\n",
       "    .colab-df-convert {\n",
       "      background-color: #E8F0FE;\n",
       "      border: none;\n",
       "      border-radius: 50%;\n",
       "      cursor: pointer;\n",
       "      display: none;\n",
       "      fill: #1967D2;\n",
       "      height: 32px;\n",
       "      padding: 0 0 0 0;\n",
       "      width: 32px;\n",
       "    }\n",
       "\n",
       "    .colab-df-convert:hover {\n",
       "      background-color: #E2EBFA;\n",
       "      box-shadow: 0px 1px 2px rgba(60, 64, 67, 0.3), 0px 1px 3px 1px rgba(60, 64, 67, 0.15);\n",
       "      fill: #174EA6;\n",
       "    }\n",
       "\n",
       "    [theme=dark] .colab-df-convert {\n",
       "      background-color: #3B4455;\n",
       "      fill: #D2E3FC;\n",
       "    }\n",
       "\n",
       "    [theme=dark] .colab-df-convert:hover {\n",
       "      background-color: #434B5C;\n",
       "      box-shadow: 0px 1px 3px 1px rgba(0, 0, 0, 0.15);\n",
       "      filter: drop-shadow(0px 1px 2px rgba(0, 0, 0, 0.3));\n",
       "      fill: #FFFFFF;\n",
       "    }\n",
       "  </style>\n",
       "\n",
       "      <script>\n",
       "        const buttonEl =\n",
       "          document.querySelector('#df-0b8764ec-1b22-49be-b18d-505592c168da button.colab-df-convert');\n",
       "        buttonEl.style.display =\n",
       "          google.colab.kernel.accessAllowed ? 'block' : 'none';\n",
       "\n",
       "        async function convertToInteractive(key) {\n",
       "          const element = document.querySelector('#df-0b8764ec-1b22-49be-b18d-505592c168da');\n",
       "          const dataTable =\n",
       "            await google.colab.kernel.invokeFunction('convertToInteractive',\n",
       "                                                     [key], {});\n",
       "          if (!dataTable) return;\n",
       "\n",
       "          const docLinkHtml = 'Like what you see? Visit the ' +\n",
       "            '<a target=\"_blank\" href=https://colab.research.google.com/notebooks/data_table.ipynb>data table notebook</a>'\n",
       "            + ' to learn more about interactive tables.';\n",
       "          element.innerHTML = '';\n",
       "          dataTable['output_type'] = 'display_data';\n",
       "          await google.colab.output.renderOutput(dataTable, element);\n",
       "          const docLink = document.createElement('div');\n",
       "          docLink.innerHTML = docLinkHtml;\n",
       "          element.appendChild(docLink);\n",
       "        }\n",
       "      </script>\n",
       "    </div>\n",
       "  </div>\n",
       "  "
      ],
      "text/plain": [
       "          author  subreddit     score       ups  downs  Neg_comment  \\\n",
       "468357  0.500437   0.515194  0.062949  0.089594      0        0.000   \n",
       "241988  0.423178   0.500146  0.064312  0.091534      0        1.000   \n",
       "789926  0.501311   0.464881  0.062949  0.089594      0        0.000   \n",
       "259946  0.375328   0.540274  0.062949  0.089594      0        0.615   \n",
       "230188  0.500437   0.486263  0.062949  0.089594      0        0.000   \n",
       "\n",
       "        Neu_comment  Pos_comment  Compound_comment  Neg_pcomment  \\\n",
       "468357        0.794        0.206          0.538627         0.000   \n",
       "241988        0.000        0.000          0.340917         0.412   \n",
       "789926        1.000        0.000          0.500025         0.000   \n",
       "259946        0.385        0.000          0.253063         0.079   \n",
       "230188        1.000        0.000          0.500025         0.000   \n",
       "\n",
       "        Neu_pcomment  Pos_pcomment  Compound_pcomment  comment_len  \\\n",
       "468357         1.000         0.000           0.500050     0.002501   \n",
       "241988         0.588         0.000           0.363436     0.000500   \n",
       "789926         1.000         0.000           0.500050     0.000000   \n",
       "259946         0.504         0.417           0.906391     0.001001   \n",
       "230188         1.000         0.000           0.500050     0.000500   \n",
       "\n",
       "        pcomment_len  \n",
       "468357      0.001665  \n",
       "241988      0.000999  \n",
       "789926      0.003663  \n",
       "259946      0.006660  \n",
       "230188      0.000333  "
      ]
     },
     "execution_count": 231,
     "metadata": {},
     "output_type": "execute_result"
    }
   ],
   "source": [
    "X_train.head()"
   ]
  },
  {
   "cell_type": "code",
   "execution_count": 232,
   "metadata": {
    "colab": {
     "base_uri": "https://localhost:8080/"
    },
    "id": "PXddnH1uueh4",
    "outputId": "f79f5e73-16af-4a3e-efc1-70ec40b310f2"
   },
   "outputs": [
    {
     "data": {
      "text/plain": [
       "(604320, 15)"
      ]
     },
     "execution_count": 232,
     "metadata": {},
     "output_type": "execute_result"
    }
   ],
   "source": [
    "X_train.shape"
   ]
  },
  {
   "cell_type": "code",
   "execution_count": 233,
   "metadata": {
    "colab": {
     "base_uri": "https://localhost:8080/"
    },
    "id": "bO-PPvMTuhQ7",
    "outputId": "37ece857-19fc-4049-ae93-e1551eb02dd0"
   },
   "outputs": [
    {
     "data": {
      "text/plain": [
       "(604320, 2)"
      ]
     },
     "execution_count": 233,
     "metadata": {},
     "output_type": "execute_result"
    }
   ],
   "source": [
    "text_features_train.shape"
   ]
  },
  {
   "cell_type": "code",
   "execution_count": 234,
   "metadata": {
    "colab": {
     "base_uri": "https://localhost:8080/"
    },
    "id": "on2niFy_ukoZ",
    "outputId": "bd016577-ae81-4ca5-9eb3-847943f831e4"
   },
   "outputs": [
    {
     "data": {
      "text/plain": [
       "(201440, 2)"
      ]
     },
     "execution_count": 234,
     "metadata": {},
     "output_type": "execute_result"
    }
   ],
   "source": [
    "text_features_cv.shape"
   ]
  },
  {
   "cell_type": "code",
   "execution_count": 235,
   "metadata": {
    "colab": {
     "base_uri": "https://localhost:8080/",
     "height": 206
    },
    "id": "hM3VI2Y94yxV",
    "outputId": "2f0c75b7-f8e8-470f-9a51-459e588ce661"
   },
   "outputs": [
    {
     "data": {
      "text/html": [
       "\n",
       "  <div id=\"df-2310ceab-61c8-4e60-a5a9-46cd8d8d1364\">\n",
       "    <div class=\"colab-df-container\">\n",
       "      <div>\n",
       "<style scoped>\n",
       "    .dataframe tbody tr th:only-of-type {\n",
       "        vertical-align: middle;\n",
       "    }\n",
       "\n",
       "    .dataframe tbody tr th {\n",
       "        vertical-align: top;\n",
       "    }\n",
       "\n",
       "    .dataframe thead th {\n",
       "        text-align: right;\n",
       "    }\n",
       "</style>\n",
       "<table border=\"1\" class=\"dataframe\">\n",
       "  <thead>\n",
       "    <tr style=\"text-align: right;\">\n",
       "      <th></th>\n",
       "      <th>preprocessed_comments</th>\n",
       "      <th>preprocessed_pcomments</th>\n",
       "    </tr>\n",
       "  </thead>\n",
       "  <tbody>\n",
       "    <tr>\n",
       "      <th>468357</th>\n",
       "      <td>of course want see broncos picks</td>\n",
       "      <td>browns expected waive johnny manziel today</td>\n",
       "    </tr>\n",
       "    <tr>\n",
       "      <th>241988</th>\n",
       "      <td>i shocked</td>\n",
       "      <td>bonnaroo sales time low</td>\n",
       "    </tr>\n",
       "    <tr>\n",
       "      <th>789926</th>\n",
       "      <td>nope</td>\n",
       "      <td>dc acronym detective comics cn acronym cartoon...</td>\n",
       "    </tr>\n",
       "    <tr>\n",
       "      <th>259946</th>\n",
       "      <td>just ping damage</td>\n",
       "      <td>as someone plays dota lol funny watch lol comm...</td>\n",
       "    </tr>\n",
       "    <tr>\n",
       "      <th>230188</th>\n",
       "      <td>two posts</td>\n",
       "      <td>11 gyms</td>\n",
       "    </tr>\n",
       "  </tbody>\n",
       "</table>\n",
       "</div>\n",
       "      <button class=\"colab-df-convert\" onclick=\"convertToInteractive('df-2310ceab-61c8-4e60-a5a9-46cd8d8d1364')\"\n",
       "              title=\"Convert this dataframe to an interactive table.\"\n",
       "              style=\"display:none;\">\n",
       "        \n",
       "  <svg xmlns=\"http://www.w3.org/2000/svg\" height=\"24px\"viewBox=\"0 0 24 24\"\n",
       "       width=\"24px\">\n",
       "    <path d=\"M0 0h24v24H0V0z\" fill=\"none\"/>\n",
       "    <path d=\"M18.56 5.44l.94 2.06.94-2.06 2.06-.94-2.06-.94-.94-2.06-.94 2.06-2.06.94zm-11 1L8.5 8.5l.94-2.06 2.06-.94-2.06-.94L8.5 2.5l-.94 2.06-2.06.94zm10 10l.94 2.06.94-2.06 2.06-.94-2.06-.94-.94-2.06-.94 2.06-2.06.94z\"/><path d=\"M17.41 7.96l-1.37-1.37c-.4-.4-.92-.59-1.43-.59-.52 0-1.04.2-1.43.59L10.3 9.45l-7.72 7.72c-.78.78-.78 2.05 0 2.83L4 21.41c.39.39.9.59 1.41.59.51 0 1.02-.2 1.41-.59l7.78-7.78 2.81-2.81c.8-.78.8-2.07 0-2.86zM5.41 20L4 18.59l7.72-7.72 1.47 1.35L5.41 20z\"/>\n",
       "  </svg>\n",
       "      </button>\n",
       "      \n",
       "  <style>\n",
       "    .colab-df-container {\n",
       "      display:flex;\n",
       "      flex-wrap:wrap;\n",
       "      gap: 12px;\n",
       "    }\n",
       "\n",
       "    .colab-df-convert {\n",
       "      background-color: #E8F0FE;\n",
       "      border: none;\n",
       "      border-radius: 50%;\n",
       "      cursor: pointer;\n",
       "      display: none;\n",
       "      fill: #1967D2;\n",
       "      height: 32px;\n",
       "      padding: 0 0 0 0;\n",
       "      width: 32px;\n",
       "    }\n",
       "\n",
       "    .colab-df-convert:hover {\n",
       "      background-color: #E2EBFA;\n",
       "      box-shadow: 0px 1px 2px rgba(60, 64, 67, 0.3), 0px 1px 3px 1px rgba(60, 64, 67, 0.15);\n",
       "      fill: #174EA6;\n",
       "    }\n",
       "\n",
       "    [theme=dark] .colab-df-convert {\n",
       "      background-color: #3B4455;\n",
       "      fill: #D2E3FC;\n",
       "    }\n",
       "\n",
       "    [theme=dark] .colab-df-convert:hover {\n",
       "      background-color: #434B5C;\n",
       "      box-shadow: 0px 1px 3px 1px rgba(0, 0, 0, 0.15);\n",
       "      filter: drop-shadow(0px 1px 2px rgba(0, 0, 0, 0.3));\n",
       "      fill: #FFFFFF;\n",
       "    }\n",
       "  </style>\n",
       "\n",
       "      <script>\n",
       "        const buttonEl =\n",
       "          document.querySelector('#df-2310ceab-61c8-4e60-a5a9-46cd8d8d1364 button.colab-df-convert');\n",
       "        buttonEl.style.display =\n",
       "          google.colab.kernel.accessAllowed ? 'block' : 'none';\n",
       "\n",
       "        async function convertToInteractive(key) {\n",
       "          const element = document.querySelector('#df-2310ceab-61c8-4e60-a5a9-46cd8d8d1364');\n",
       "          const dataTable =\n",
       "            await google.colab.kernel.invokeFunction('convertToInteractive',\n",
       "                                                     [key], {});\n",
       "          if (!dataTable) return;\n",
       "\n",
       "          const docLinkHtml = 'Like what you see? Visit the ' +\n",
       "            '<a target=\"_blank\" href=https://colab.research.google.com/notebooks/data_table.ipynb>data table notebook</a>'\n",
       "            + ' to learn more about interactive tables.';\n",
       "          element.innerHTML = '';\n",
       "          dataTable['output_type'] = 'display_data';\n",
       "          await google.colab.output.renderOutput(dataTable, element);\n",
       "          const docLink = document.createElement('div');\n",
       "          docLink.innerHTML = docLinkHtml;\n",
       "          element.appendChild(docLink);\n",
       "        }\n",
       "      </script>\n",
       "    </div>\n",
       "  </div>\n",
       "  "
      ],
      "text/plain": [
       "                   preprocessed_comments  \\\n",
       "468357  of course want see broncos picks   \n",
       "241988                         i shocked   \n",
       "789926                              nope   \n",
       "259946                  just ping damage   \n",
       "230188                         two posts   \n",
       "\n",
       "                                   preprocessed_pcomments  \n",
       "468357         browns expected waive johnny manziel today  \n",
       "241988                            bonnaroo sales time low  \n",
       "789926  dc acronym detective comics cn acronym cartoon...  \n",
       "259946  as someone plays dota lol funny watch lol comm...  \n",
       "230188                                            11 gyms  "
      ]
     },
     "execution_count": 235,
     "metadata": {},
     "output_type": "execute_result"
    }
   ],
   "source": [
    "text_features_train.head()"
   ]
  },
  {
   "cell_type": "code",
   "execution_count": 236,
   "metadata": {
    "id": "bgN1OJNA4yxV"
   },
   "outputs": [],
   "source": [
    "from tensorflow.keras.preprocessing.text import Tokenizer\n",
    "from tensorflow.keras.preprocessing.sequence import pad_sequences"
   ]
  },
  {
   "cell_type": "code",
   "execution_count": 237,
   "metadata": {
    "id": "CEDyDDRG4yxV"
   },
   "outputs": [],
   "source": [
    "token_comment = Tokenizer()"
   ]
  },
  {
   "cell_type": "code",
   "execution_count": 238,
   "metadata": {
    "id": "rzzJXAXm4yxV"
   },
   "outputs": [],
   "source": [
    "token_comment.fit_on_texts(text_features_train['preprocessed_comments'])\n",
    "\n",
    "sequence_x_train = token_comment.texts_to_sequences(text_features_train['preprocessed_comments'])\n",
    "sequence_x_cv = token_comment.texts_to_sequences(text_features_cv['preprocessed_comments'])\n",
    "sequence_x_test = token_comment.texts_to_sequences(text_features_test['preprocessed_comments'])"
   ]
  },
  {
   "cell_type": "code",
   "execution_count": 239,
   "metadata": {
    "colab": {
     "base_uri": "https://localhost:8080/"
    },
    "id": "Rj-LIQUd4yxV",
    "outputId": "580a4e28-90ec-4ac0-d0af-9273c0ab82c4"
   },
   "outputs": [
    {
     "name": "stdout",
     "output_type": "stream",
     "text": [
      "2000\n"
     ]
    }
   ],
   "source": [
    "lengths = []\n",
    "\n",
    "for i in sequence_x_train:\n",
    "    lengths.append(len(i))\n",
    "print(max(lengths))"
   ]
  },
  {
   "cell_type": "code",
   "execution_count": 240,
   "metadata": {
    "colab": {
     "base_uri": "https://localhost:8080/"
    },
    "id": "ui7qeDds4yxV",
    "outputId": "de9a9594-fbcf-44e1-d056-7bab25fa8d4b"
   },
   "outputs": [
    {
     "name": "stdout",
     "output_type": "stream",
     "text": [
      "0th percentile is: 1.0\n",
      "10th percentile is: 2.0\n",
      "20th percentile is: 3.0\n",
      "30th percentile is: 4.0\n",
      "40th percentile is: 4.0\n",
      "50th percentile is: 5.0\n",
      "60th percentile is: 6.0\n",
      "70th percentile is: 7.0\n",
      "80th percentile is: 9.0\n",
      "90th percentile is: 12.0\n",
      "100th percentile is: 2000.0\n"
     ]
    }
   ],
   "source": [
    "for i in range(0,110,10):\n",
    "    print('{}th percentile is: {}'.format(i,np.percentile(lengths,i)))"
   ]
  },
  {
   "cell_type": "code",
   "execution_count": 241,
   "metadata": {
    "colab": {
     "base_uri": "https://localhost:8080/"
    },
    "id": "Fpc0xpih4yxV",
    "outputId": "20ce00e8-484b-4bf7-dcb4-a58db47e63f4"
   },
   "outputs": [
    {
     "name": "stdout",
     "output_type": "stream",
     "text": [
      "91th percentile is: 12.0\n",
      "92th percentile is: 12.0\n",
      "93th percentile is: 13.0\n",
      "94th percentile is: 14.0\n",
      "95th percentile is: 14.0\n",
      "96th percentile is: 15.0\n",
      "97th percentile is: 16.0\n",
      "98th percentile is: 18.0\n",
      "99th percentile is: 22.0\n",
      "100th percentile is: 2000.0\n"
     ]
    }
   ],
   "source": [
    "for i in range(91,101):\n",
    "    print('{}th percentile is: {}'.format(i,np.percentile(lengths,i)))"
   ]
  },
  {
   "cell_type": "code",
   "execution_count": 242,
   "metadata": {
    "colab": {
     "base_uri": "https://localhost:8080/"
    },
    "id": "je4aQvk74yxW",
    "outputId": "25d6a7c6-0f3a-4ee8-a54e-68d7fc9072e1"
   },
   "outputs": [
    {
     "name": "stdout",
     "output_type": "stream",
     "text": [
      "99.1th percentile is: 22.0\n",
      "99.2th percentile is: 23.0\n",
      "99.3th percentile is: 24.0\n",
      "99.4th percentile is: 24.0\n",
      "99.5th percentile is: 26.0\n",
      "99.6th percentile is: 27.0\n",
      "99.7th percentile is: 29.0\n",
      "99.8th percentile is: 32.0\n",
      "99.9th percentile is: 38.0\n",
      "100th percentile is: 2000.0\n"
     ]
    }
   ],
   "source": [
    "a=[99.1,99.2,99.3,99.4,99.5,99.6,99.7,99.8,99.9,100]\n",
    "\n",
    "for i in a:\n",
    "    print('{}th percentile is: {}'.format(i,np.percentile(lengths,i)))"
   ]
  },
  {
   "cell_type": "code",
   "execution_count": 243,
   "metadata": {
    "colab": {
     "base_uri": "https://localhost:8080/"
    },
    "id": "YqpnU_NS4yxW",
    "outputId": "e85f59e3-7a87-4d09-b94d-b2b144bd402c"
   },
   "outputs": [
    {
     "name": "stdout",
     "output_type": "stream",
     "text": [
      "99.91th percentile is: 39.0\n",
      "99.92th percentile is: 41.0\n",
      "99.93th percentile is: 42.0\n",
      "99.94th percentile is: 44.0\n",
      "99.95th percentile is: 47.0\n",
      "99.96th percentile is: 50.0\n",
      "99.97th percentile is: 55.0\n",
      "99.98th percentile is: 62.13620000006631\n",
      "99.99th percentile is: 83.56809999991674\n",
      "100th percentile is: 2000.0\n"
     ]
    }
   ],
   "source": [
    "a=[99.91,99.92,99.93,99.94,99.95,99.96,99.97,99.98,99.99,100]\n",
    "\n",
    "for i in a:\n",
    "    print('{}th percentile is: {}'.format(i,np.percentile(lengths,i)))"
   ]
  },
  {
   "cell_type": "markdown",
   "metadata": {
    "id": "GSYFtMfV4yxW"
   },
   "source": [
    "#### 98.96% points will be covered if we keep maxlen of 50 for padding sequence"
   ]
  },
  {
   "cell_type": "code",
   "execution_count": 244,
   "metadata": {
    "id": "aG5BaUCZ4yxW"
   },
   "outputs": [],
   "source": [
    "x_train_padding_comment = pad_sequences(sequence_x_train, maxlen=50, padding='post')\n",
    "x_cv_padding_comment = pad_sequences(sequence_x_cv, maxlen=50, padding='post')\n",
    "x_test_padding_comment = pad_sequences(sequence_x_test, maxlen=50, padding='post')"
   ]
  },
  {
   "cell_type": "code",
   "execution_count": 245,
   "metadata": {
    "colab": {
     "base_uri": "https://localhost:8080/"
    },
    "id": "ScCofU6_4yxW",
    "outputId": "925b022e-f3c6-4c70-86e8-996187805c4b"
   },
   "outputs": [
    {
     "name": "stdout",
     "output_type": "stream",
     "text": [
      "(604320, 50)\n",
      "(201440, 50)\n",
      "(201441, 50)\n"
     ]
    }
   ],
   "source": [
    "print(x_train_padding_comment.shape)\n",
    "print(x_cv_padding_comment.shape)\n",
    "print(x_test_padding_comment.shape)"
   ]
  },
  {
   "cell_type": "markdown",
   "metadata": {
    "id": "W0vIf9944yxX"
   },
   "source": [
    "## Encoding text features: Parent_comments"
   ]
  },
  {
   "cell_type": "code",
   "execution_count": 246,
   "metadata": {
    "id": "R7LHjkis4yxX"
   },
   "outputs": [],
   "source": [
    "token_pcomment = Tokenizer()"
   ]
  },
  {
   "cell_type": "code",
   "execution_count": 247,
   "metadata": {
    "id": "Ey5GACTf4yxX"
   },
   "outputs": [],
   "source": [
    "token_pcomment.fit_on_texts(text_features_train['preprocessed_pcomments'])\n",
    "\n",
    "sequence_x_train = token_pcomment.texts_to_sequences(text_features_train['preprocessed_pcomments'])\n",
    "sequence_x_cv = token_pcomment.texts_to_sequences(text_features_cv['preprocessed_pcomments'])\n",
    "sequence_x_test = token_pcomment.texts_to_sequences(text_features_test['preprocessed_pcomments'])"
   ]
  },
  {
   "cell_type": "code",
   "execution_count": 248,
   "metadata": {
    "colab": {
     "base_uri": "https://localhost:8080/"
    },
    "id": "UbTDGIq_4yxX",
    "outputId": "5db476d4-fb53-42c3-9f90-dec661f72ab7"
   },
   "outputs": [
    {
     "name": "stdout",
     "output_type": "stream",
     "text": [
      "3004\n"
     ]
    }
   ],
   "source": [
    "lengths = []\n",
    "\n",
    "for i in sequence_x_train:\n",
    "    lengths.append(len(i))\n",
    "print(max(lengths))"
   ]
  },
  {
   "cell_type": "code",
   "execution_count": 249,
   "metadata": {
    "colab": {
     "base_uri": "https://localhost:8080/"
    },
    "id": "a3pxr9uU4yxX",
    "outputId": "095e62dd-8b78-47c6-89cc-faea392d7672"
   },
   "outputs": [
    {
     "name": "stdout",
     "output_type": "stream",
     "text": [
      "0th percentile is: 1.0\n",
      "10th percentile is: 3.0\n",
      "20th percentile is: 4.0\n",
      "30th percentile is: 6.0\n",
      "40th percentile is: 7.0\n",
      "50th percentile is: 9.0\n",
      "60th percentile is: 11.0\n",
      "70th percentile is: 14.0\n",
      "80th percentile is: 19.0\n",
      "90th percentile is: 30.0\n",
      "100th percentile is: 3004.0\n"
     ]
    }
   ],
   "source": [
    "for i in range(0,110,10):\n",
    "    print('{}th percentile is: {}'.format(i,np.percentile(lengths,i)))"
   ]
  },
  {
   "cell_type": "code",
   "execution_count": 250,
   "metadata": {
    "colab": {
     "base_uri": "https://localhost:8080/"
    },
    "id": "NlRiYDyS4yxX",
    "outputId": "1f9411fb-6367-44ec-aca9-b8bf3e9e8d32"
   },
   "outputs": [
    {
     "name": "stdout",
     "output_type": "stream",
     "text": [
      "91th percentile is: 32.0\n",
      "92th percentile is: 34.0\n",
      "93th percentile is: 37.0\n",
      "94th percentile is: 40.0\n",
      "95th percentile is: 44.0\n",
      "96th percentile is: 50.0\n",
      "97th percentile is: 58.0\n",
      "98th percentile is: 72.0\n",
      "99th percentile is: 100.0\n",
      "100th percentile is: 3004.0\n"
     ]
    }
   ],
   "source": [
    "for i in range(91,101):\n",
    "    print('{}th percentile is: {}'.format(i,np.percentile(lengths,i)))"
   ]
  },
  {
   "cell_type": "code",
   "execution_count": 251,
   "metadata": {
    "colab": {
     "base_uri": "https://localhost:8080/"
    },
    "id": "8KJDCwMP4yxY",
    "outputId": "34735321-4eb8-45b1-b9b6-4a0217b76203"
   },
   "outputs": [
    {
     "name": "stdout",
     "output_type": "stream",
     "text": [
      "99.1th percentile is: 105.0\n",
      "99.2th percentile is: 111.0\n",
      "99.3th percentile is: 118.0\n",
      "99.4th percentile is: 126.0\n",
      "99.5th percentile is: 137.0\n",
      "99.6th percentile is: 152.0\n",
      "99.7th percentile is: 171.0\n",
      "99.8th percentile is: 202.0\n",
      "99.9th percentile is: 270.0\n",
      "100th percentile is: 3004.0\n"
     ]
    }
   ],
   "source": [
    "a=[99.1,99.2,99.3,99.4,99.5,99.6,99.7,99.8,99.9,100]\n",
    "\n",
    "for i in a:\n",
    "    print('{}th percentile is: {}'.format(i,np.percentile(lengths,i)))"
   ]
  },
  {
   "cell_type": "code",
   "execution_count": 252,
   "metadata": {
    "colab": {
     "base_uri": "https://localhost:8080/"
    },
    "id": "IphRYu-v4yxY",
    "outputId": "0fc33dde-cc23-4c95-b462-32817f0b32cd"
   },
   "outputs": [
    {
     "name": "stdout",
     "output_type": "stream",
     "text": [
      "99.91th percentile is: 279.0\n",
      "99.92th percentile is: 293.0\n",
      "99.93th percentile is: 307.0\n",
      "99.94th percentile is: 325.4085999999661\n",
      "99.95th percentile is: 346.84050000004936\n",
      "99.96th percentile is: 378.2724000000162\n",
      "99.97th percentile is: 419.70429999998305\n",
      "99.98th percentile is: 486.2724000001326\n",
      "99.99th percentile is: 616.5680999999167\n",
      "100th percentile is: 3004.0\n"
     ]
    }
   ],
   "source": [
    "a=[99.91,99.92,99.93,99.94,99.95,99.96,99.97,99.98,99.99,100]\n",
    "\n",
    "for i in a:\n",
    "    print('{}th percentile is: {}'.format(i,np.percentile(lengths,i)))"
   ]
  },
  {
   "cell_type": "markdown",
   "metadata": {
    "id": "HmQvxWap4yxY"
   },
   "source": [
    "#### 99.99% points will be covered if we keep maxlen of 500 for padding sequence"
   ]
  },
  {
   "cell_type": "code",
   "execution_count": 253,
   "metadata": {
    "id": "oWNF7KnW4yxY"
   },
   "outputs": [],
   "source": [
    "x_train_padding_pcomment = pad_sequences(sequence_x_train, maxlen=500, padding='post')\n",
    "x_cv_padding_pcomment = pad_sequences(sequence_x_cv, maxlen=500, padding='post')\n",
    "x_test_padding_pcomment = pad_sequences(sequence_x_test, maxlen=500, padding='post')"
   ]
  },
  {
   "cell_type": "code",
   "execution_count": 254,
   "metadata": {
    "colab": {
     "base_uri": "https://localhost:8080/"
    },
    "id": "cdm9wuMK4yxY",
    "outputId": "2423c2e5-0f83-4375-ee03-677d95472409"
   },
   "outputs": [
    {
     "name": "stdout",
     "output_type": "stream",
     "text": [
      "(604320, 500)\n",
      "(201440, 500)\n",
      "(201441, 500)\n"
     ]
    }
   ],
   "source": [
    "print(x_train_padding_pcomment.shape)\n",
    "print(x_cv_padding_pcomment.shape)\n",
    "print(x_test_padding_pcomment.shape)"
   ]
  },
  {
   "cell_type": "code",
   "execution_count": 255,
   "metadata": {
    "id": "Y5m0Pm8B4yxY"
   },
   "outputs": [],
   "source": [
    "pickle.dump((X_train, x_train_padding_pcomment, x_train_padding_comment, y_train),open('/content/drive/MyDrive/complete_preprocessed_train_data.pkl','wb'))\n",
    "pickle.dump((X_cv, x_cv_padding_pcomment, x_cv_padding_comment, y_cv),open('/content/drive/MyDrive/complete_preprocessed_cv_data.pkl','wb'))\n",
    "pickle.dump((X_test, x_test_padding_pcomment, x_test_padding_comment, y_test),open('/content/drive/MyDrive/complete_preprocessed_test_data.pkl','wb'))\n",
    "pickle.dump((token_comment, token_pcomment),open('/content/drive/MyDrive/tokens.pkl','wb'))"
   ]
  },
  {
   "cell_type": "code",
   "execution_count": null,
   "metadata": {
    "id": "pftwxqZ3WvLh"
   },
   "outputs": [],
   "source": []
  }
 ],
 "metadata": {
  "colab": {
   "collapsed_sections": [],
   "name": "Data Cleaning and Preprocessing.ipynb",
   "provenance": []
  },
  "kernelspec": {
   "display_name": "Python 3 (ipykernel)",
   "language": "python",
   "name": "python3"
  },
  "language_info": {
   "codemirror_mode": {
    "name": "ipython",
    "version": 3
   },
   "file_extension": ".py",
   "mimetype": "text/x-python",
   "name": "python",
   "nbconvert_exporter": "python",
   "pygments_lexer": "ipython3",
   "version": "3.9.12"
  }
 },
 "nbformat": 4,
 "nbformat_minor": 1
}
